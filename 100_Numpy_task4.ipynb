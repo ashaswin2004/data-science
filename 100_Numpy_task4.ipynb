{
  "cells": [
    {
      "cell_type": "markdown",
      "metadata": {
        "id": "view-in-github",
        "colab_type": "text"
      },
      "source": [
        "<a href=\"https://colab.research.google.com/github/ashaswin2004/data-science/blob/main/100_Numpy_task4.ipynb\" target=\"_parent\"><img src=\"https://colab.research.google.com/assets/colab-badge.svg\" alt=\"Open In Colab\"/></a>"
      ]
    },
    {
      "cell_type": "markdown",
      "metadata": {
        "id": "f44a2f2b"
      },
      "source": [
        "# 100 numpy exercises\n"
      ],
      "id": "f44a2f2b"
    },
    {
      "cell_type": "markdown",
      "metadata": {
        "id": "0fe3d529"
      },
      "source": [
        "File automatically generated. See the documentation to update questions/answers/hints programmatically."
      ],
      "id": "0fe3d529"
    },
    {
      "cell_type": "markdown",
      "metadata": {
        "id": "23296a93"
      },
      "source": [
        "Run the `initialize.py` module, then for each question you can query the\n",
        "answer or an hint with `hint(n)` or `answer(n)` for `n` question number."
      ],
      "id": "23296a93"
    },
    {
      "cell_type": "code",
      "execution_count": null,
      "metadata": {
        "id": "530390cf"
      },
      "outputs": [],
      "source": [
        "%run initialise.py"
      ],
      "id": "530390cf"
    },
    {
      "cell_type": "markdown",
      "metadata": {
        "id": "96443564"
      },
      "source": [
        "#### 1. Import the numpy package under the name `np` (★☆☆)"
      ],
      "id": "96443564"
    },
    {
      "cell_type": "code",
      "execution_count": null,
      "metadata": {
        "id": "ffe1047e"
      },
      "outputs": [],
      "source": [
        "import numpy as np"
      ],
      "id": "ffe1047e"
    },
    {
      "cell_type": "markdown",
      "metadata": {
        "id": "c807bf1d"
      },
      "source": [
        "#### 2. Print the numpy version and the configuration (★☆☆)"
      ],
      "id": "c807bf1d"
    },
    {
      "cell_type": "code",
      "execution_count": null,
      "metadata": {
        "colab": {
          "base_uri": "https://localhost:8080/"
        },
        "id": "f396b717",
        "outputId": "fbb1cbfd-09bd-4f5c-d331-828b1e829948"
      },
      "outputs": [
        {
          "name": "stdout",
          "output_type": "stream",
          "text": [
            "1.23.5\n",
            "openblas64__info:\n",
            "    libraries = ['openblas64_', 'openblas64_']\n",
            "    library_dirs = ['/usr/local/lib']\n",
            "    language = c\n",
            "    define_macros = [('HAVE_CBLAS', None), ('BLAS_SYMBOL_SUFFIX', '64_'), ('HAVE_BLAS_ILP64', None)]\n",
            "    runtime_library_dirs = ['/usr/local/lib']\n",
            "blas_ilp64_opt_info:\n",
            "    libraries = ['openblas64_', 'openblas64_']\n",
            "    library_dirs = ['/usr/local/lib']\n",
            "    language = c\n",
            "    define_macros = [('HAVE_CBLAS', None), ('BLAS_SYMBOL_SUFFIX', '64_'), ('HAVE_BLAS_ILP64', None)]\n",
            "    runtime_library_dirs = ['/usr/local/lib']\n",
            "openblas64__lapack_info:\n",
            "    libraries = ['openblas64_', 'openblas64_']\n",
            "    library_dirs = ['/usr/local/lib']\n",
            "    language = c\n",
            "    define_macros = [('HAVE_CBLAS', None), ('BLAS_SYMBOL_SUFFIX', '64_'), ('HAVE_BLAS_ILP64', None), ('HAVE_LAPACKE', None)]\n",
            "    runtime_library_dirs = ['/usr/local/lib']\n",
            "lapack_ilp64_opt_info:\n",
            "    libraries = ['openblas64_', 'openblas64_']\n",
            "    library_dirs = ['/usr/local/lib']\n",
            "    language = c\n",
            "    define_macros = [('HAVE_CBLAS', None), ('BLAS_SYMBOL_SUFFIX', '64_'), ('HAVE_BLAS_ILP64', None), ('HAVE_LAPACKE', None)]\n",
            "    runtime_library_dirs = ['/usr/local/lib']\n",
            "Supported SIMD extensions in this NumPy install:\n",
            "    baseline = SSE,SSE2,SSE3\n",
            "    found = SSSE3,SSE41,POPCNT,SSE42,AVX,F16C,FMA3,AVX2\n",
            "    not found = AVX512F,AVX512CD,AVX512_KNL,AVX512_KNM,AVX512_SKX,AVX512_CLX,AVX512_CNL,AVX512_ICL\n",
            "None\n"
          ]
        }
      ],
      "source": [
        "print(np.__version__)\n",
        "print(np.show_config())"
      ],
      "id": "f396b717"
    },
    {
      "cell_type": "markdown",
      "metadata": {
        "id": "572c1bdb"
      },
      "source": [
        "#### 3. Create a null vector of size 10 (★☆☆)"
      ],
      "id": "572c1bdb"
    },
    {
      "cell_type": "code",
      "execution_count": null,
      "metadata": {
        "colab": {
          "base_uri": "https://localhost:8080/"
        },
        "id": "31c9f6a5",
        "outputId": "b0af389e-1a9d-437a-b98d-00527ac4272d"
      },
      "outputs": [
        {
          "name": "stdout",
          "output_type": "stream",
          "text": [
            "[0. 0. 0. 0. 0. 0. 0. 0. 0. 0.]\n"
          ]
        }
      ],
      "source": [
        "null_vector = np.zeros(10)\n",
        "print(null_vector)"
      ],
      "id": "31c9f6a5"
    },
    {
      "cell_type": "markdown",
      "metadata": {
        "id": "337e6e36"
      },
      "source": [
        "#### 4. How to find the memory size of any array (★☆☆)"
      ],
      "id": "337e6e36"
    },
    {
      "cell_type": "code",
      "execution_count": null,
      "metadata": {
        "colab": {
          "base_uri": "https://localhost:8080/"
        },
        "id": "31e8ec2e",
        "outputId": "8d7f8ed0-741f-40de-867f-68847a2c9ac4"
      },
      "outputs": [
        {
          "name": "stdout",
          "output_type": "stream",
          "text": [
            "8\n"
          ]
        }
      ],
      "source": [
        "array = np.array([1])\n",
        "print(array.nbytes)"
      ],
      "id": "31e8ec2e"
    },
    {
      "cell_type": "markdown",
      "metadata": {
        "id": "166079c8"
      },
      "source": [
        "#### 5. How to get the documentation of the numpy add function from the command line? (★☆☆)"
      ],
      "id": "166079c8"
    },
    {
      "cell_type": "code",
      "execution_count": null,
      "metadata": {
        "colab": {
          "base_uri": "https://localhost:8080/",
          "height": 36
        },
        "id": "593cd80f",
        "outputId": "841fdfb9-0e7e-4558-ece5-a991fcbffba6"
      },
      "outputs": [
        {
          "data": {
            "application/vnd.google.colaboratory.intrinsic+json": {
              "type": "string"
            },
            "text/plain": [
              "'import numpy as np; help(np.add)'"
            ]
          },
          "execution_count": 1,
          "metadata": {},
          "output_type": "execute_result"
        }
      ],
      "source": [
        "\"import numpy as np; help(np.add)\"\n"
      ],
      "id": "593cd80f"
    },
    {
      "cell_type": "markdown",
      "metadata": {
        "id": "3add7101"
      },
      "source": [
        "#### 6. Create a null vector of size 10 but the fifth value which is 1 (★☆☆)"
      ],
      "id": "3add7101"
    },
    {
      "cell_type": "code",
      "execution_count": null,
      "metadata": {
        "colab": {
          "base_uri": "https://localhost:8080/"
        },
        "id": "2edf3c42",
        "outputId": "f63aee6e-bcb1-421f-d3a4-461c8fca07b8"
      },
      "outputs": [
        {
          "name": "stdout",
          "output_type": "stream",
          "text": [
            "[0. 0. 0. 0. 1. 0. 0. 0. 0. 0.]\n"
          ]
        }
      ],
      "source": [
        "null_vec = np.zeros(10)\n",
        "null_vec[4] =1\n",
        "print(null_vec)"
      ],
      "id": "2edf3c42"
    },
    {
      "cell_type": "markdown",
      "metadata": {
        "id": "cfc46304"
      },
      "source": [
        "#### 7. Create a vector with values ranging from 10 to 49 (★☆☆)"
      ],
      "id": "cfc46304"
    },
    {
      "cell_type": "code",
      "execution_count": null,
      "metadata": {
        "colab": {
          "base_uri": "https://localhost:8080/"
        },
        "id": "d8b86640",
        "outputId": "4c7bd326-7cf1-4fc6-8079-5de52e29e2ca"
      },
      "outputs": [
        {
          "name": "stdout",
          "output_type": "stream",
          "text": [
            "[10 11 12 13 14 15 16 17 18 19 20 21 22 23 24 25 26 27 28 29 30 31 32 33\n",
            " 34 35 36 37 38 39 40 41 42 43 44 45 46 47 48 49]\n"
          ]
        }
      ],
      "source": [
        "my_vector = np.arange(10,50)\n",
        "print(my_vector)"
      ],
      "id": "d8b86640"
    },
    {
      "cell_type": "markdown",
      "metadata": {
        "id": "0cc200be"
      },
      "source": [
        "#### 8. Reverse a vector (first element becomes last) (★☆☆)"
      ],
      "id": "0cc200be"
    },
    {
      "cell_type": "code",
      "execution_count": null,
      "metadata": {
        "colab": {
          "base_uri": "https://localhost:8080/"
        },
        "id": "ec044bb5",
        "outputId": "eb383ac6-09c3-4090-af43-4b363bcbf5f7"
      },
      "outputs": [
        {
          "name": "stdout",
          "output_type": "stream",
          "text": [
            "[ 1  2  3  4  5  6  7  8  9 10]\n",
            "[10  9  8  7  6  5  4  3  2  1]\n"
          ]
        }
      ],
      "source": [
        "vector = np.arange(1,11)\n",
        "print(vector)\n",
        "rev_vector = vector[::-1]\n",
        "print(rev_vector)\n"
      ],
      "id": "ec044bb5"
    },
    {
      "cell_type": "markdown",
      "metadata": {
        "id": "29d9ede4"
      },
      "source": [
        "#### 9. Create a 3x3 matrix with values ranging from 0 to 8 (★☆☆)"
      ],
      "id": "29d9ede4"
    },
    {
      "cell_type": "code",
      "execution_count": null,
      "metadata": {
        "colab": {
          "base_uri": "https://localhost:8080/"
        },
        "id": "d9e39043",
        "outputId": "45e87693-56c8-47a5-f629-a29c40118e3b"
      },
      "outputs": [
        {
          "name": "stdout",
          "output_type": "stream",
          "text": [
            "[[0 1 2]\n",
            " [3 4 5]\n",
            " [6 7 8]]\n"
          ]
        }
      ],
      "source": [
        "matrix = np.arange(0,9).reshape(3,3)\n",
        "print(matrix)"
      ],
      "id": "d9e39043"
    },
    {
      "cell_type": "markdown",
      "metadata": {
        "id": "88905ceb"
      },
      "source": [
        "#### 10. Find indices of non-zero elements from [1,2,0,0,4,0] (★☆☆)"
      ],
      "id": "88905ceb"
    },
    {
      "cell_type": "code",
      "execution_count": null,
      "metadata": {
        "colab": {
          "base_uri": "https://localhost:8080/"
        },
        "id": "b2f3c90a",
        "outputId": "a506b8c7-1e6f-41a8-c6a5-165f2847e65b"
      },
      "outputs": [
        {
          "name": "stdout",
          "output_type": "stream",
          "text": [
            "(array([0, 1, 4]),)\n"
          ]
        }
      ],
      "source": [
        "\n",
        "arr = np.array([1, 2, 0, 0, 4, 0])\n",
        "indices = np.nonzero(arr)\n",
        "print(indices)\n"
      ],
      "id": "b2f3c90a"
    },
    {
      "cell_type": "markdown",
      "metadata": {
        "id": "49603e91"
      },
      "source": [
        "#### 11. Create a 3x3 identity matrix (★☆☆)"
      ],
      "id": "49603e91"
    },
    {
      "cell_type": "code",
      "execution_count": null,
      "metadata": {
        "colab": {
          "base_uri": "https://localhost:8080/"
        },
        "id": "5b607b5c",
        "outputId": "83778a9c-6f57-4b99-be41-b714a152aa6a"
      },
      "outputs": [
        {
          "name": "stdout",
          "output_type": "stream",
          "text": [
            "[[1. 0. 0.]\n",
            " [0. 1. 0.]\n",
            " [0. 0. 1.]]\n"
          ]
        }
      ],
      "source": [
        "Z = np.eye(3)\n",
        "print(Z)\n"
      ],
      "id": "5b607b5c"
    },
    {
      "cell_type": "markdown",
      "metadata": {
        "id": "e15c249a"
      },
      "source": [
        "#### 12. Create a 3x3x3 array with random values (★☆☆)"
      ],
      "id": "e15c249a"
    },
    {
      "cell_type": "code",
      "execution_count": null,
      "metadata": {
        "colab": {
          "base_uri": "https://localhost:8080/"
        },
        "id": "ab21ed50",
        "outputId": "c29775a6-8e45-4433-cc28-f25c8bc79351"
      },
      "outputs": [
        {
          "name": "stdout",
          "output_type": "stream",
          "text": [
            "[[[0.676168   0.20771372 0.66549252]\n",
            "  [0.51273595 0.38120814 0.37085573]\n",
            "  [0.90712504 0.49301561 0.70182512]]\n",
            "\n",
            " [[0.61374038 0.60013165 0.08369116]\n",
            "  [0.20016675 0.39970107 0.97783246]\n",
            "  [0.87835205 0.988042   0.75328596]]\n",
            "\n",
            " [[0.15054197 0.97082705 0.34188999]\n",
            "  [0.31613215 0.24213659 0.94055853]\n",
            "  [0.04737673 0.27826196 0.54259924]]]\n"
          ]
        }
      ],
      "source": [
        "\n",
        "random_array = np.random.random((3, 3, 3))\n",
        "print(random_array)"
      ],
      "id": "ab21ed50"
    },
    {
      "cell_type": "markdown",
      "metadata": {
        "id": "157a129c"
      },
      "source": [
        "#### 13. Create a 10x10 array with random values and find the minimum and maximum values (★☆☆)"
      ],
      "id": "157a129c"
    },
    {
      "cell_type": "code",
      "execution_count": null,
      "metadata": {
        "colab": {
          "base_uri": "https://localhost:8080/"
        },
        "id": "c0066de5",
        "outputId": "063bed0f-50f8-4169-df35-8d255bb354b6"
      },
      "outputs": [
        {
          "name": "stdout",
          "output_type": "stream",
          "text": [
            "Minimum value: 0.006484349252072752\n",
            "Maximum value: 0.9920813092146872\n"
          ]
        }
      ],
      "source": [
        "\n",
        "# Create a 10x10 array with random values\n",
        "random_array = np.random.random((10, 10))\n",
        "\n",
        "# Find the minimum and maximum values\n",
        "min_value = random_array.min()\n",
        "max_value = random_array.max()\n",
        "\n",
        "print(\"Minimum value:\", min_value)\n",
        "print(\"Maximum value:\", max_value)"
      ],
      "id": "c0066de5"
    },
    {
      "cell_type": "markdown",
      "metadata": {
        "id": "d92d7b32"
      },
      "source": [
        "#### 14. Create a random vector of size 30 and find the mean value (★☆☆)"
      ],
      "id": "d92d7b32"
    },
    {
      "cell_type": "code",
      "execution_count": null,
      "metadata": {
        "colab": {
          "base_uri": "https://localhost:8080/"
        },
        "id": "9672d023",
        "outputId": "0b218e91-7fd0-40d7-b490-72824e95d172"
      },
      "outputs": [
        {
          "name": "stdout",
          "output_type": "stream",
          "text": [
            "Mean value: 0.5470139476465156\n"
          ]
        }
      ],
      "source": [
        "\n",
        "# Create a random vector of size 30\n",
        "random_vector = np.random.random(30)\n",
        "\n",
        "# Find the mean value\n",
        "mean_value = random_vector.mean()\n",
        "\n",
        "print(\"Mean value:\", mean_value)"
      ],
      "id": "9672d023"
    },
    {
      "cell_type": "markdown",
      "metadata": {
        "id": "f361efc0"
      },
      "source": [
        "#### 15. Create a 2d array with 1 on the border and 0 inside (★☆☆)"
      ],
      "id": "f361efc0"
    },
    {
      "cell_type": "code",
      "execution_count": null,
      "metadata": {
        "colab": {
          "base_uri": "https://localhost:8080/"
        },
        "id": "a55b6666",
        "outputId": "751c5813-ca02-45be-d667-3f251aacb3cd"
      },
      "outputs": [
        {
          "name": "stdout",
          "output_type": "stream",
          "text": [
            "[[1. 1. 1. 1. 1.]\n",
            " [1. 0. 0. 0. 1.]\n",
            " [1. 0. 0. 0. 1.]\n",
            " [1. 0. 0. 0. 1.]\n",
            " [1. 1. 1. 1. 1.]]\n"
          ]
        }
      ],
      "source": [
        "\n",
        "# Create a 5x5 array with 1 on the border and 0 inside\n",
        "array = np.ones((5, 5))\n",
        "array[1:-1, 1:-1] = 0\n",
        "\n",
        "print(array)"
      ],
      "id": "a55b6666"
    },
    {
      "cell_type": "markdown",
      "metadata": {
        "id": "475808cb"
      },
      "source": [
        "#### 16. How to add a border (filled with 0's) around an existing array? (★☆☆)"
      ],
      "id": "475808cb"
    },
    {
      "cell_type": "code",
      "execution_count": null,
      "metadata": {
        "colab": {
          "base_uri": "https://localhost:8080/"
        },
        "id": "b2df3a8a",
        "outputId": "ba09c11e-68e7-4a63-b720-2471bf0d9815"
      },
      "outputs": [
        {
          "name": "stdout",
          "output_type": "stream",
          "text": [
            "[[0. 0. 0. 0. 0.]\n",
            " [0. 1. 2. 3. 0.]\n",
            " [0. 4. 5. 6. 0.]\n",
            " [0. 7. 8. 9. 0.]\n",
            " [0. 0. 0. 0. 0.]]\n"
          ]
        }
      ],
      "source": [
        "\n",
        "# Create an existing 3x3 array (example)\n",
        "existing_array = np.array([[1, 2, 3],\n",
        "                           [4, 5, 6],\n",
        "                           [7, 8, 9]])\n",
        "\n",
        "# Create a new array with zeros and one extra row and column\n",
        "new_array = np.zeros((existing_array.shape[0] + 2, existing_array.shape[1] + 2))\n",
        "\n",
        "# Copy the existing array into the center of the new array\n",
        "new_array[1:-1, 1:-1] = existing_array\n",
        "\n",
        "print(new_array)"
      ],
      "id": "b2df3a8a"
    },
    {
      "cell_type": "markdown",
      "metadata": {
        "id": "1af07d85"
      },
      "source": [
        "#### 17. What is the result of the following expression? (★☆☆)\n",
        "```python\n",
        "0 * np.nan\n",
        "np.nan == np.nan\n",
        "np.inf > np.nan\n",
        "np.nan - np.nan\n",
        "np.nan in set([np.nan])\n",
        "0.3 == 3 * 0.1\n",
        "```"
      ],
      "id": "1af07d85"
    },
    {
      "cell_type": "code",
      "execution_count": null,
      "metadata": {
        "colab": {
          "base_uri": "https://localhost:8080/",
          "height": 349
        },
        "id": "109cf327",
        "outputId": "bea8a7e2-0393-477e-cee6-d49fd3ac7355"
      },
      "outputs": [
        {
          "ename": "NameError",
          "evalue": "ignored",
          "output_type": "error",
          "traceback": [
            "\u001b[0;31m---------------------------------------------------------------------------\u001b[0m",
            "\u001b[0;31mNameError\u001b[0m                                 Traceback (most recent call last)",
            "\u001b[0;32m<ipython-input-9-fe7593324044>\u001b[0m in \u001b[0;36m<cell line: 1>\u001b[0;34m()\u001b[0m\n\u001b[0;32m----> 1\u001b[0;31m \u001b[0mnan\u001b[0m\u001b[0;34m\u001b[0m\u001b[0;34m\u001b[0m\u001b[0m\n\u001b[0m\u001b[1;32m      2\u001b[0m \u001b[0;32mFalse\u001b[0m\u001b[0;34m\u001b[0m\u001b[0;34m\u001b[0m\u001b[0m\n\u001b[1;32m      3\u001b[0m \u001b[0;32mFalse\u001b[0m\u001b[0;34m\u001b[0m\u001b[0;34m\u001b[0m\u001b[0m\n\u001b[1;32m      4\u001b[0m \u001b[0mnan\u001b[0m\u001b[0;34m\u001b[0m\u001b[0;34m\u001b[0m\u001b[0m\n\u001b[1;32m      5\u001b[0m \u001b[0;32mTrue\u001b[0m\u001b[0;34m\u001b[0m\u001b[0;34m\u001b[0m\u001b[0m\n",
            "\u001b[0;31mNameError\u001b[0m: name 'nan' is not defined"
          ]
        }
      ],
      "source": [
        "nan\n",
        "False\n",
        "False\n",
        "nan\n",
        "True\n",
        "False"
      ],
      "id": "109cf327"
    },
    {
      "cell_type": "markdown",
      "metadata": {
        "id": "6a235316"
      },
      "source": [
        "#### 18. Create a 5x5 matrix with values 1,2,3,4 just below the diagonal (★☆☆)"
      ],
      "id": "6a235316"
    },
    {
      "cell_type": "code",
      "execution_count": null,
      "metadata": {
        "colab": {
          "base_uri": "https://localhost:8080/"
        },
        "id": "f2e6cfa6",
        "outputId": "a917977e-090d-4c93-8cf4-302490256285"
      },
      "outputs": [
        {
          "name": "stdout",
          "output_type": "stream",
          "text": [
            "[[0 0 0 0 0]\n",
            " [1 0 0 0 0]\n",
            " [0 2 0 0 0]\n",
            " [0 0 3 0 0]\n",
            " [0 0 0 4 0]]\n"
          ]
        }
      ],
      "source": [
        "# Create a 5x5 matrix with values 1, 2, 3, 4 below the diagonal\n",
        "matrix = np.diag([1, 2, 3, 4], k=-1)\n",
        "\n",
        "print(matrix)"
      ],
      "id": "f2e6cfa6"
    },
    {
      "cell_type": "markdown",
      "metadata": {
        "id": "25362e98"
      },
      "source": [
        "#### 19. Create a 8x8 matrix and fill it with a checkerboard pattern (★☆☆)"
      ],
      "id": "25362e98"
    },
    {
      "cell_type": "code",
      "execution_count": null,
      "metadata": {
        "colab": {
          "base_uri": "https://localhost:8080/"
        },
        "id": "cabdf298",
        "outputId": "5a3543f1-1304-4322-aede-469f022e53de"
      },
      "outputs": [
        {
          "name": "stdout",
          "output_type": "stream",
          "text": [
            "[[0 1 0 1 0 1 0 1]\n",
            " [1 0 1 0 1 0 1 0]\n",
            " [0 1 0 1 0 1 0 1]\n",
            " [1 0 1 0 1 0 1 0]\n",
            " [0 1 0 1 0 1 0 1]\n",
            " [1 0 1 0 1 0 1 0]\n",
            " [0 1 0 1 0 1 0 1]\n",
            " [1 0 1 0 1 0 1 0]]\n"
          ]
        }
      ],
      "source": [
        "# Create an 8x8 matrix with a checkerboard pattern\n",
        "checkerboard = np.zeros((8, 8), dtype=int)\n",
        "checkerboard[1::2, ::2] = 1\n",
        "checkerboard[::2, 1::2] = 1\n",
        "\n",
        "print(checkerboard)"
      ],
      "id": "cabdf298"
    },
    {
      "cell_type": "markdown",
      "metadata": {
        "id": "6431e977"
      },
      "source": [
        "#### 20. Consider a (6,7,8) shape array, what is the index (x,y,z) of the 100th element? (★☆☆)"
      ],
      "id": "6431e977"
    },
    {
      "cell_type": "code",
      "execution_count": null,
      "metadata": {
        "colab": {
          "base_uri": "https://localhost:8080/"
        },
        "id": "de8b0245",
        "outputId": "ec3c7741-31aa-4dcc-bbf8-79c2b1fab557"
      },
      "outputs": [
        {
          "name": "stdout",
          "output_type": "stream",
          "text": [
            "(1, 5, 4)\n"
          ]
        }
      ],
      "source": [
        "shape = (6, 7, 8)\n",
        "desired_index = 100\n",
        "\n",
        "index_xyz = np.unravel_index(desired_index, shape)\n",
        "print(index_xyz)"
      ],
      "id": "de8b0245"
    },
    {
      "cell_type": "markdown",
      "metadata": {
        "id": "31abe6fe"
      },
      "source": [
        "#### 21. Create a checkerboard 8x8 matrix using the tile function (★☆☆)"
      ],
      "id": "31abe6fe"
    },
    {
      "cell_type": "code",
      "execution_count": null,
      "metadata": {
        "colab": {
          "base_uri": "https://localhost:8080/"
        },
        "id": "6da26fd3",
        "outputId": "66df4e8e-9d22-4bd9-c0d4-607232aead69"
      },
      "outputs": [
        {
          "name": "stdout",
          "output_type": "stream",
          "text": [
            "[[0 1 0 1 0 1 0 1]\n",
            " [1 0 1 0 1 0 1 0]\n",
            " [0 1 0 1 0 1 0 1]\n",
            " [1 0 1 0 1 0 1 0]\n",
            " [0 1 0 1 0 1 0 1]\n",
            " [1 0 1 0 1 0 1 0]\n",
            " [0 1 0 1 0 1 0 1]\n",
            " [1 0 1 0 1 0 1 0]]\n"
          ]
        }
      ],
      "source": [
        "# Create a 2x2 checkerboard pattern\n",
        "checkerboard_tile = np.array([[0, 1], [1, 0]])\n",
        "\n",
        "# Use tile to repeat the checkerboard pattern to form an 8x8 matrix\n",
        "checkerboard = np.tile(checkerboard_tile, (4, 4))\n",
        "\n",
        "print(checkerboard)"
      ],
      "id": "6da26fd3"
    },
    {
      "cell_type": "markdown",
      "metadata": {
        "id": "fd88b3f4"
      },
      "source": [
        "#### 22. Normalize a 5x5 random matrix (★☆☆)"
      ],
      "id": "fd88b3f4"
    },
    {
      "cell_type": "code",
      "execution_count": null,
      "metadata": {
        "colab": {
          "base_uri": "https://localhost:8080/"
        },
        "id": "ee6ced60",
        "outputId": "98e233b0-6143-41a0-bb00-50d283eab985"
      },
      "outputs": [
        {
          "name": "stdout",
          "output_type": "stream",
          "text": [
            "Original matrix:\n",
            "[[0.50810839 0.42254928 0.23134559 0.14338957 0.78810002]\n",
            " [0.99524047 0.16448163 0.14160563 0.0166     0.38310067]\n",
            " [0.29128881 0.95576769 0.77092988 0.03778327 0.61970716]\n",
            " [0.20265555 0.60055673 0.43757172 0.23449787 0.03797044]\n",
            " [0.54632293 0.95012274 0.80979545 0.6442665  0.61138656]]\n",
            "\n",
            "Normalized matrix:\n",
            "[[ 0.15404921 -0.13060676 -0.76674321 -1.05937372  1.08558398]\n",
            " [ 1.77474219 -0.98920022 -1.06530889 -1.48120377 -0.26185263]\n",
            " [-0.56731155  1.64341587  1.02845875 -1.41072684  0.52533935]\n",
            " [-0.86219525  0.46162569 -0.08062695 -0.75625554 -1.41010414]\n",
            " [ 0.28118934  1.62463507  1.15776486  0.60704851  0.49765665]]\n"
          ]
        }
      ],
      "source": [
        "# Create a 5x5 random matrix\n",
        "random_matrix = np.random.random((5, 5))\n",
        "\n",
        "# Normalize the matrix\n",
        "normalized_matrix = (random_matrix - np.mean(random_matrix)) / np.std(random_matrix)\n",
        "\n",
        "print(\"Original matrix:\")\n",
        "print(random_matrix)\n",
        "print(\"\\nNormalized matrix:\")\n",
        "print(normalized_matrix)"
      ],
      "id": "ee6ced60"
    },
    {
      "cell_type": "markdown",
      "metadata": {
        "id": "464d8590"
      },
      "source": [
        "#### 23. Create a custom dtype that describes a color as four unsigned bytes (RGBA) (★☆☆)"
      ],
      "id": "464d8590"
    },
    {
      "cell_type": "code",
      "execution_count": null,
      "metadata": {
        "colab": {
          "base_uri": "https://localhost:8080/"
        },
        "id": "e2f9cfc6",
        "outputId": "8a9eba87-d57a-4e8c-91c4-170061a078d5"
      },
      "outputs": [
        {
          "output_type": "stream",
          "name": "stdout",
          "text": [
            "[(255,   0, 0, 255) (  0, 255, 0, 128)]\n"
          ]
        }
      ],
      "source": [
        "\n",
        "# Define a custom dtype for RGBA color\n",
        "color_dtype = np.dtype([('R', np.uint8), ('G', np.uint8), ('B', np.uint8), ('A', np.uint8)])\n",
        "\n",
        "# Create an array with the custom dtype\n",
        "color_array = np.array([(255, 0, 0, 255), (0, 255, 0, 128)], dtype=color_dtype)\n",
        "\n",
        "print(color_array)"
      ],
      "id": "e2f9cfc6"
    },
    {
      "cell_type": "markdown",
      "metadata": {
        "id": "06c63bb3"
      },
      "source": [
        "#### 24. Multiply a 5x3 matrix by a 3x2 matrix (real matrix product) (★☆☆)"
      ],
      "id": "06c63bb3"
    },
    {
      "cell_type": "code",
      "execution_count": null,
      "metadata": {
        "id": "9fc0d553",
        "colab": {
          "base_uri": "https://localhost:8080/"
        },
        "outputId": "55edbc21-befc-44eb-9e32-a099d77e3fe0"
      },
      "outputs": [
        {
          "output_type": "stream",
          "name": "stdout",
          "text": [
            "Matrix A:\n",
            "[[0.2979172  0.0096034  0.57318096]\n",
            " [0.88040229 0.40094096 0.68837526]\n",
            " [0.5553103  0.91042012 0.44505789]\n",
            " [0.14099336 0.72232199 0.51953138]\n",
            " [0.69589463 0.96694319 0.55954727]]\n",
            "\n",
            "Matrix B:\n",
            "[[0.91466184 0.32636457]\n",
            " [0.77078716 0.86280849]\n",
            " [0.00472425 0.06415726]]\n",
            "\n",
            "Result Matrix:\n",
            "[[0.28260352 0.14228923]\n",
            " [1.11756258 0.67743164]\n",
            " [1.21176384 0.9953055 ]\n",
            " [0.68817216 0.70257249]\n",
            " [1.3844591  1.09730116]]\n"
          ]
        }
      ],
      "source": [
        "# Create a 5x3 matrix\n",
        "matrix_a = np.random.random((5, 3))\n",
        "\n",
        "# Create a 3x2 matrix\n",
        "matrix_b = np.random.random((3, 2))\n",
        "\n",
        "# Multiply the matrices to get a real matrix product\n",
        "result_matrix = np.dot(matrix_a, matrix_b)\n",
        "\n",
        "print(\"Matrix A:\")\n",
        "print(matrix_a)\n",
        "print(\"\\nMatrix B:\")\n",
        "print(matrix_b)\n",
        "print(\"\\nResult Matrix:\")\n",
        "print(result_matrix)"
      ],
      "id": "9fc0d553"
    },
    {
      "cell_type": "markdown",
      "metadata": {
        "id": "76fa6285"
      },
      "source": [
        "#### 25. Given a 1D array, negate all elements which are between 3 and 8, in place. (★☆☆)"
      ],
      "id": "76fa6285"
    },
    {
      "cell_type": "code",
      "execution_count": null,
      "metadata": {
        "id": "0e25eca7",
        "colab": {
          "base_uri": "https://localhost:8080/"
        },
        "outputId": "159cf894-e574-45c6-c5f2-88c64bffb5ae"
      },
      "outputs": [
        {
          "output_type": "stream",
          "name": "stdout",
          "text": [
            "[ 0  1  2  3 -4 -5 -6 -7  8  9]\n"
          ]
        }
      ],
      "source": [
        "# Create a 1D array\n",
        "array_1d = np.arange(10)\n",
        "\n",
        "# Negate elements between 3 and 8 in place\n",
        "array_1d[(array_1d > 3) & (array_1d < 8)] *= -1\n",
        "\n",
        "print(array_1d)"
      ],
      "id": "0e25eca7"
    },
    {
      "cell_type": "markdown",
      "metadata": {
        "id": "930ed8bb"
      },
      "source": [
        "#### 26. What is the output of the following script? (★☆☆)\n",
        "```python\n",
        "# Author: Jake VanderPlas\n",
        "\n",
        "print(sum(range(5),-1))\n",
        "from numpy import *\n",
        "print(sum(range(5),-1))\n",
        "```"
      ],
      "id": "930ed8bb"
    },
    {
      "cell_type": "code",
      "execution_count": null,
      "metadata": {
        "id": "f02eedba"
      },
      "outputs": [],
      "source": [
        "9\n",
        "10"
      ],
      "id": "f02eedba"
    },
    {
      "cell_type": "markdown",
      "metadata": {
        "id": "177120e7"
      },
      "source": [
        "#### 27. Consider an integer vector Z, which of these expressions are legal? (★☆☆)\n",
        "```python\n",
        "Z**Z\n",
        "2 << Z >> 2\n",
        "Z <- Z\n",
        "1j*Z\n",
        "Z/1/1\n",
        "Z<Z>Z\n",
        "```"
      ],
      "id": "177120e7"
    },
    {
      "cell_type": "code",
      "execution_count": null,
      "metadata": {
        "id": "86d6cbef"
      },
      "outputs": [],
      "source": [],
      "id": "86d6cbef"
    },
    {
      "cell_type": "markdown",
      "metadata": {
        "id": "a6eaf0e8"
      },
      "source": [
        "#### 28. What are the result of the following expressions? (★☆☆)\n",
        "```python\n",
        "np.array(0) / np.array(0)\n",
        "np.array(0) // np.array(0)\n",
        "np.array([np.nan]).astype(int).astype(float)\n",
        "```"
      ],
      "id": "a6eaf0e8"
    },
    {
      "cell_type": "code",
      "execution_count": null,
      "metadata": {
        "id": "93684068"
      },
      "outputs": [],
      "source": [],
      "id": "93684068"
    },
    {
      "cell_type": "markdown",
      "metadata": {
        "id": "524b65f8"
      },
      "source": [
        "#### 29. How to round away from zero a float array ? (★☆☆)"
      ],
      "id": "524b65f8"
    },
    {
      "cell_type": "code",
      "execution_count": null,
      "metadata": {
        "id": "61fbb78e",
        "colab": {
          "base_uri": "https://localhost:8080/"
        },
        "outputId": "f390baed-2f8b-4b08-fff5-111949def323"
      },
      "outputs": [
        {
          "output_type": "stream",
          "name": "stdout",
          "text": [
            "[-2.  3. -1.  4. -5.]\n"
          ]
        }
      ],
      "source": [
        "# Create a float array\n",
        "float_array = np.array([-1.3, 2.7, -0.5, 3.2, -4.8])\n",
        "\n",
        "# Round away from zero\n",
        "rounded_array = np.where(float_array > 0, np.ceil(float_array), np.floor(float_array))\n",
        "\n",
        "print(rounded_array)"
      ],
      "id": "61fbb78e"
    },
    {
      "cell_type": "markdown",
      "metadata": {
        "id": "8dc40752"
      },
      "source": [
        "#### 30. How to find common values between two arrays? (★☆☆)"
      ],
      "id": "8dc40752"
    },
    {
      "cell_type": "code",
      "execution_count": null,
      "metadata": {
        "id": "54399cbe",
        "colab": {
          "base_uri": "https://localhost:8080/"
        },
        "outputId": "17be3a32-d7fa-4792-804c-31feed4249c3"
      },
      "outputs": [
        {
          "output_type": "stream",
          "name": "stdout",
          "text": [
            "[3 4 5]\n"
          ]
        }
      ],
      "source": [
        "# Create two arrays\n",
        "array1 = np.array([1, 2, 3, 4, 5])\n",
        "array2 = np.array([3, 4, 5, 6, 7])\n",
        "\n",
        "# Find common values\n",
        "common_values = np.intersect1d(array1, array2)\n",
        "\n",
        "print(common_values)"
      ],
      "id": "54399cbe"
    },
    {
      "cell_type": "markdown",
      "metadata": {
        "id": "b7f38e21"
      },
      "source": [
        "#### 31. How to ignore all numpy warnings (not recommended)? (★☆☆)"
      ],
      "id": "b7f38e21"
    },
    {
      "cell_type": "code",
      "execution_count": null,
      "metadata": {
        "id": "2ca3289c",
        "colab": {
          "base_uri": "https://localhost:8080/"
        },
        "outputId": "5db72fa3-0bb7-49cf-a0ff-172edee039c9"
      },
      "outputs": [
        {
          "output_type": "execute_result",
          "data": {
            "text/plain": [
              "{'divide': 'ignore', 'over': 'ignore', 'under': 'ignore', 'invalid': 'ignore'}"
            ]
          },
          "metadata": {},
          "execution_count": 29
        }
      ],
      "source": [
        "\n",
        "# Ignore all NumPy warnings\n",
        "np.seterr(all='ignore')\n",
        "\n",
        "# Your code here\n",
        "\n",
        "# Reset warnings to default behavior\n",
        "np.seterr(all='warn')"
      ],
      "id": "2ca3289c"
    },
    {
      "cell_type": "markdown",
      "metadata": {
        "id": "2d850aab"
      },
      "source": [
        "#### 32. Is the following expressions true? (★☆☆)\n",
        "```python\n",
        "np.sqrt(-1) == np.emath.sqrt(-1)\n",
        "```"
      ],
      "id": "2d850aab"
    },
    {
      "cell_type": "code",
      "execution_count": null,
      "metadata": {
        "id": "5c83ffce",
        "colab": {
          "base_uri": "https://localhost:8080/"
        },
        "outputId": "1a8b4e04-5e4d-4785-c1c5-ef4c2ec69f0b"
      },
      "outputs": [
        {
          "output_type": "stream",
          "name": "stdout",
          "text": [
            "False\n"
          ]
        },
        {
          "output_type": "stream",
          "name": "stderr",
          "text": [
            "<ipython-input-1-a61418a4c866>:3: RuntimeWarning: invalid value encountered in sqrt\n",
            "  result = np.sqrt(-1) == np.emath.sqrt(-1)\n"
          ]
        }
      ],
      "source": [
        "import numpy as np\n",
        "\n",
        "result = np.sqrt(-1) == np.emath.sqrt(-1)\n",
        "print(result)\n"
      ],
      "id": "5c83ffce"
    },
    {
      "cell_type": "markdown",
      "metadata": {
        "id": "5c4a556f"
      },
      "source": [
        "#### 33. How to get the dates of yesterday, today and tomorrow? (★☆☆)"
      ],
      "id": "5c4a556f"
    },
    {
      "cell_type": "code",
      "execution_count": null,
      "metadata": {
        "id": "c3b683a0",
        "colab": {
          "base_uri": "https://localhost:8080/"
        },
        "outputId": "325eac73-c304-46a6-a4a2-aa9708a4d7f2"
      },
      "outputs": [
        {
          "output_type": "stream",
          "name": "stdout",
          "text": [
            "Yesterday: 2023-11-13\n",
            "Today: 2023-11-14\n",
            "Tomorrow: 2023-11-15\n"
          ]
        }
      ],
      "source": [
        "from datetime import datetime, timedelta\n",
        "\n",
        "# Get today's date\n",
        "today = datetime.now().date()\n",
        "\n",
        "# Get yesterday's date\n",
        "yesterday = today - timedelta(days=1)\n",
        "\n",
        "# Get tomorrow's date\n",
        "tomorrow = today + timedelta(days=1)\n",
        "\n",
        "print(\"Yesterday:\", yesterday)\n",
        "print(\"Today:\", today)\n",
        "print(\"Tomorrow:\", tomorrow)"
      ],
      "id": "c3b683a0"
    },
    {
      "cell_type": "markdown",
      "metadata": {
        "id": "453cdd64"
      },
      "source": [
        "#### 34. How to get all the dates corresponding to the month of July 2016? (★★☆)"
      ],
      "id": "453cdd64"
    },
    {
      "cell_type": "code",
      "execution_count": null,
      "metadata": {
        "id": "4ba4d37c",
        "colab": {
          "base_uri": "https://localhost:8080/"
        },
        "outputId": "d0f03111-6116-4ea4-a6f8-55b7ab258208"
      },
      "outputs": [
        {
          "output_type": "stream",
          "name": "stdout",
          "text": [
            "[datetime.datetime(2016, 7, 1, 0, 0), datetime.datetime(2016, 7, 2, 0, 0), datetime.datetime(2016, 7, 3, 0, 0), datetime.datetime(2016, 7, 4, 0, 0), datetime.datetime(2016, 7, 5, 0, 0), datetime.datetime(2016, 7, 6, 0, 0), datetime.datetime(2016, 7, 7, 0, 0), datetime.datetime(2016, 7, 8, 0, 0), datetime.datetime(2016, 7, 9, 0, 0), datetime.datetime(2016, 7, 10, 0, 0), datetime.datetime(2016, 7, 11, 0, 0), datetime.datetime(2016, 7, 12, 0, 0), datetime.datetime(2016, 7, 13, 0, 0), datetime.datetime(2016, 7, 14, 0, 0), datetime.datetime(2016, 7, 15, 0, 0), datetime.datetime(2016, 7, 16, 0, 0), datetime.datetime(2016, 7, 17, 0, 0), datetime.datetime(2016, 7, 18, 0, 0), datetime.datetime(2016, 7, 19, 0, 0), datetime.datetime(2016, 7, 20, 0, 0), datetime.datetime(2016, 7, 21, 0, 0), datetime.datetime(2016, 7, 22, 0, 0), datetime.datetime(2016, 7, 23, 0, 0), datetime.datetime(2016, 7, 24, 0, 0), datetime.datetime(2016, 7, 25, 0, 0), datetime.datetime(2016, 7, 26, 0, 0), datetime.datetime(2016, 7, 27, 0, 0), datetime.datetime(2016, 7, 28, 0, 0), datetime.datetime(2016, 7, 29, 0, 0), datetime.datetime(2016, 7, 30, 0, 0), datetime.datetime(2016, 7, 31, 0, 0)]\n"
          ]
        }
      ],
      "source": [
        "from datetime import datetime, timedelta\n",
        "\n",
        "# Specify the start and end dates of July 2016\n",
        "start_date = datetime(2016, 7, 1)\n",
        "end_date = datetime(2016, 7, 31)\n",
        "\n",
        "# Generate all dates in July 2016\n",
        "all_dates = [start_date + timedelta(days=x) for x in range((end_date - start_date).days + 1)]\n",
        "\n",
        "print(all_dates)"
      ],
      "id": "4ba4d37c"
    },
    {
      "cell_type": "markdown",
      "metadata": {
        "id": "52667b6e"
      },
      "source": [
        "#### 35. How to compute ((A+B)*(-A/2)) in place (without copy)? (★★☆)"
      ],
      "id": "52667b6e"
    },
    {
      "cell_type": "code",
      "execution_count": null,
      "metadata": {
        "id": "e6e7c030",
        "colab": {
          "base_uri": "https://localhost:8080/",
          "height": 454
        },
        "outputId": "35a511ee-09aa-4e88-db33-d113f67d6aa1"
      },
      "outputs": [
        {
          "output_type": "error",
          "ename": "UFuncTypeError",
          "evalue": "ignored",
          "traceback": [
            "\u001b[0;31m---------------------------------------------------------------------------\u001b[0m",
            "\u001b[0;31mUFuncTypeError\u001b[0m                            Traceback (most recent call last)",
            "\u001b[0;32m<ipython-input-32-a21dbd3023f8>\u001b[0m in \u001b[0;36m<cell line: 6>\u001b[0;34m()\u001b[0m\n\u001b[1;32m      4\u001b[0m \u001b[0;34m\u001b[0m\u001b[0m\n\u001b[1;32m      5\u001b[0m \u001b[0;31m# Compute the expression in place\u001b[0m\u001b[0;34m\u001b[0m\u001b[0;34m\u001b[0m\u001b[0m\n\u001b[0;32m----> 6\u001b[0;31m \u001b[0mnp\u001b[0m\u001b[0;34m.\u001b[0m\u001b[0mmultiply\u001b[0m\u001b[0;34m(\u001b[0m\u001b[0mnp\u001b[0m\u001b[0;34m.\u001b[0m\u001b[0madd\u001b[0m\u001b[0;34m(\u001b[0m\u001b[0mA\u001b[0m\u001b[0;34m,\u001b[0m \u001b[0mB\u001b[0m\u001b[0;34m,\u001b[0m \u001b[0mout\u001b[0m\u001b[0;34m=\u001b[0m\u001b[0mA\u001b[0m\u001b[0;34m)\u001b[0m\u001b[0;34m,\u001b[0m \u001b[0mnp\u001b[0m\u001b[0;34m.\u001b[0m\u001b[0mnegative\u001b[0m\u001b[0;34m(\u001b[0m\u001b[0mnp\u001b[0m\u001b[0;34m.\u001b[0m\u001b[0mdivide\u001b[0m\u001b[0;34m(\u001b[0m\u001b[0mA\u001b[0m\u001b[0;34m,\u001b[0m \u001b[0;36m2\u001b[0m\u001b[0;34m,\u001b[0m \u001b[0mout\u001b[0m\u001b[0;34m=\u001b[0m\u001b[0mA\u001b[0m\u001b[0;34m)\u001b[0m\u001b[0;34m)\u001b[0m\u001b[0;34m,\u001b[0m \u001b[0mout\u001b[0m\u001b[0;34m=\u001b[0m\u001b[0mA\u001b[0m\u001b[0;34m)\u001b[0m\u001b[0;34m\u001b[0m\u001b[0;34m\u001b[0m\u001b[0m\n\u001b[0m\u001b[1;32m      7\u001b[0m \u001b[0;34m\u001b[0m\u001b[0m\n\u001b[1;32m      8\u001b[0m \u001b[0mprint\u001b[0m\u001b[0;34m(\u001b[0m\u001b[0mA\u001b[0m\u001b[0;34m)\u001b[0m\u001b[0;34m\u001b[0m\u001b[0;34m\u001b[0m\u001b[0m\n",
            "\u001b[0;31mUFuncTypeError\u001b[0m: Cannot cast ufunc 'divide' output from dtype('float64') to dtype('int64') with casting rule 'same_kind'"
          ]
        }
      ],
      "source": [
        "\n",
        "# Create arrays A and B\n",
        "A = np.array([1, 2, 3])\n",
        "B = np.array([4, 5, 6])\n",
        "\n",
        "# Compute the expression in place\n",
        "np.multiply(np.add(A, B, out=A), np.negative(np.divide(A, 2, out=A)), out=A)\n",
        "\n",
        "print(A)"
      ],
      "id": "e6e7c030"
    },
    {
      "cell_type": "markdown",
      "metadata": {
        "id": "9a8f3738"
      },
      "source": [
        "#### 36. Extract the integer part of a random array of positive numbers using 4 different methods (★★☆)"
      ],
      "id": "9a8f3738"
    },
    {
      "cell_type": "code",
      "execution_count": null,
      "metadata": {
        "id": "368a801a",
        "colab": {
          "base_uri": "https://localhost:8080/"
        },
        "outputId": "4293218d-608a-4b54-c8c8-748db2166647"
      },
      "outputs": [
        {
          "output_type": "stream",
          "name": "stdout",
          "text": [
            "Original Array: [3.0760214  8.77905031 6.10975745 6.81177793 4.94625647]\n",
            "Method 1 (floor): [3. 8. 6. 6. 4.]\n",
            "Method 2 (ceil): [4. 9. 7. 7. 5.]\n",
            "Method 3 (trunc): [3. 8. 6. 6. 4.]\n",
            "Method 4 (astype(int)): [3 8 6 6 4]\n"
          ]
        }
      ],
      "source": [
        "\n",
        "# Create a random array of positive numbers\n",
        "random_array = np.random.random(5) * 10  # Multiply by 10 for variety\n",
        "\n",
        "# Method 1: Use numpy.floor\n",
        "method_1 = np.floor(random_array)\n",
        "\n",
        "# Method 2: Use numpy.ceil\n",
        "method_2 = np.ceil(random_array)\n",
        "\n",
        "# Method 3: Use numpy.trunc\n",
        "method_3 = np.trunc(random_array)\n",
        "\n",
        "# Method 4: Use numpy.astype(int)\n",
        "method_4 = random_array.astype(int)\n",
        "\n",
        "print(\"Original Array:\", random_array)\n",
        "print(\"Method 1 (floor):\", method_1)\n",
        "print(\"Method 2 (ceil):\", method_2)\n",
        "print(\"Method 3 (trunc):\", method_3)\n",
        "print(\"Method 4 (astype(int)):\", method_4)"
      ],
      "id": "368a801a"
    },
    {
      "cell_type": "markdown",
      "metadata": {
        "id": "cab1eed1"
      },
      "source": [
        "#### 37. Create a 5x5 matrix with row values ranging from 0 to 4 (★★☆)"
      ],
      "id": "cab1eed1"
    },
    {
      "cell_type": "code",
      "execution_count": null,
      "metadata": {
        "id": "f1b579ba",
        "colab": {
          "base_uri": "https://localhost:8080/"
        },
        "outputId": "b559aa2f-8dcd-423c-99c8-e64015b4a0c4"
      },
      "outputs": [
        {
          "output_type": "stream",
          "name": "stdout",
          "text": [
            "[[0. 1. 2. 3. 4.]\n",
            " [0. 1. 2. 3. 4.]\n",
            " [0. 1. 2. 3. 4.]\n",
            " [0. 1. 2. 3. 4.]\n",
            " [0. 1. 2. 3. 4.]]\n"
          ]
        }
      ],
      "source": [
        "# Create a 5x5 matrix with row values ranging from 0 to 4\n",
        "matrix = np.zeros((5, 5)) + np.arange(5)\n",
        "\n",
        "print(matrix)"
      ],
      "id": "f1b579ba"
    },
    {
      "cell_type": "markdown",
      "metadata": {
        "id": "cd0ce6b1"
      },
      "source": [
        "#### 38. Consider a generator function that generates 10 integers and use it to build an array (★☆☆)"
      ],
      "id": "cd0ce6b1"
    },
    {
      "cell_type": "code",
      "execution_count": null,
      "metadata": {
        "id": "aab193a6",
        "colab": {
          "base_uri": "https://localhost:8080/"
        },
        "outputId": "92367e67-cef9-41c7-d4bf-21e44b6e7406"
      },
      "outputs": [
        {
          "output_type": "stream",
          "name": "stdout",
          "text": [
            "[0 1 2 3 4 5 6 7 8 9]\n"
          ]
        }
      ],
      "source": [
        "# Define a generator function\n",
        "def generate_integers():\n",
        "    for i in range(10):\n",
        "        yield i\n",
        "\n",
        "# Use the generator function to build an array\n",
        "array_from_generator = np.fromiter(generate_integers(), dtype=int)\n",
        "\n",
        "print(array_from_generator)"
      ],
      "id": "aab193a6"
    },
    {
      "cell_type": "markdown",
      "metadata": {
        "id": "c4c942d1"
      },
      "source": [
        "#### 39. Create a vector of size 10 with values ranging from 0 to 1, both excluded (★★☆)"
      ],
      "id": "c4c942d1"
    },
    {
      "cell_type": "code",
      "execution_count": null,
      "metadata": {
        "id": "e42eaa4b",
        "colab": {
          "base_uri": "https://localhost:8080/"
        },
        "outputId": "4b09d697-6cee-49a1-a190-14ba2eda3689"
      },
      "outputs": [
        {
          "output_type": "stream",
          "name": "stdout",
          "text": [
            "[0.09090909 0.18181818 0.27272727 0.36363636 0.45454545 0.54545455\n",
            " 0.63636364 0.72727273 0.81818182 0.90909091]\n"
          ]
        }
      ],
      "source": [
        "# Create a vector of size 10 with values ranging from 0 to 1 (both excluded)\n",
        "vector = np.linspace(0, 1, 12)[1:-1]\n",
        "\n",
        "print(vector)"
      ],
      "id": "e42eaa4b"
    },
    {
      "cell_type": "markdown",
      "metadata": {
        "id": "9b3cb8d2"
      },
      "source": [
        "#### 40. Create a random vector of size 10 and sort it (★★☆)"
      ],
      "id": "9b3cb8d2"
    },
    {
      "cell_type": "code",
      "execution_count": null,
      "metadata": {
        "id": "37d2b341",
        "colab": {
          "base_uri": "https://localhost:8080/"
        },
        "outputId": "fa60afab-5280-46c2-8c4e-dba0a4574b02"
      },
      "outputs": [
        {
          "output_type": "stream",
          "name": "stdout",
          "text": [
            "Original Vector: [0.11464761 0.82758437 0.55423069 0.32404571 0.45148205 0.63255155\n",
            " 0.84739217 0.53858409 0.1340621  0.84929214]\n",
            "Sorted Vector: [0.11464761 0.1340621  0.32404571 0.45148205 0.53858409 0.55423069\n",
            " 0.63255155 0.82758437 0.84739217 0.84929214]\n"
          ]
        }
      ],
      "source": [
        "# Create a random vector of size 10\n",
        "random_vector = np.random.random(10)\n",
        "\n",
        "# Sort the vector\n",
        "sorted_vector = np.sort(random_vector)\n",
        "\n",
        "print(\"Original Vector:\", random_vector)\n",
        "print(\"Sorted Vector:\", sorted_vector)"
      ],
      "id": "37d2b341"
    },
    {
      "cell_type": "markdown",
      "metadata": {
        "id": "2facfddc"
      },
      "source": [
        "#### 41. How to sum a small array faster than np.sum? (★★☆)"
      ],
      "id": "2facfddc"
    },
    {
      "cell_type": "code",
      "execution_count": null,
      "metadata": {
        "id": "4bb8864f",
        "colab": {
          "base_uri": "https://localhost:8080/"
        },
        "outputId": "12fc11eb-eeae-43ca-8306-d603edefedd3"
      },
      "outputs": [
        {
          "output_type": "stream",
          "name": "stdout",
          "text": [
            "Sum using np.sum: 499500\n",
            "Sum using built-in sum: 499500\n"
          ]
        }
      ],
      "source": [
        "# Create a small array\n",
        "small_array = np.arange(1000)\n",
        "\n",
        "# Sum the array using np.sum\n",
        "sum_np = np.sum(small_array)\n",
        "\n",
        "# Sum the array using the built-in sum function\n",
        "sum_builtin = sum(small_array)\n",
        "\n",
        "print(\"Sum using np.sum:\", sum_np)\n",
        "print(\"Sum using built-in sum:\", sum_builtin)"
      ],
      "id": "4bb8864f"
    },
    {
      "cell_type": "markdown",
      "metadata": {
        "id": "539cd2a5"
      },
      "source": [
        "#### 42. Consider two random array A and B, check if they are equal (★★☆)"
      ],
      "id": "539cd2a5"
    },
    {
      "cell_type": "code",
      "execution_count": null,
      "metadata": {
        "id": "5246d7bf",
        "colab": {
          "base_uri": "https://localhost:8080/"
        },
        "outputId": "da8f1dc7-a202-417e-f1ba-639095e4d04d"
      },
      "outputs": [
        {
          "output_type": "stream",
          "name": "stdout",
          "text": [
            "Array A: [0.10415371 0.12625896 0.18407416 0.41779684 0.37570106]\n",
            "Array B: [0.8467828  0.23200367 0.3443978  0.90494555 0.53065438]\n",
            "Are arrays A and B equal? False\n"
          ]
        }
      ],
      "source": [
        "# Create two random arrays A and B\n",
        "A = np.random.random(5)\n",
        "B = np.random.random(5)\n",
        "\n",
        "# Check if the arrays are equal\n",
        "are_equal = np.array_equal(A, B)\n",
        "\n",
        "print(\"Array A:\", A)\n",
        "print(\"Array B:\", B)\n",
        "print(\"Are arrays A and B equal?\", are_equal)"
      ],
      "id": "5246d7bf"
    },
    {
      "cell_type": "markdown",
      "metadata": {
        "id": "448f8274"
      },
      "source": [
        "#### 43. Make an array immutable (read-only) (★★☆)"
      ],
      "id": "448f8274"
    },
    {
      "cell_type": "code",
      "execution_count": null,
      "metadata": {
        "id": "7cf2b3dd",
        "colab": {
          "base_uri": "https://localhost:8080/"
        },
        "outputId": "833cdfbb-ea7a-4267-f1ed-cdf79e9ce2ee"
      },
      "outputs": [
        {
          "output_type": "stream",
          "name": "stdout",
          "text": [
            "Is the array read-only? False\n"
          ]
        }
      ],
      "source": [
        "\n",
        "import numpy as np\n",
        "\n",
        "# Create a mutable array\n",
        "mutable_array = np.array([1, 2, 3])\n",
        "\n",
        "# Make the array immutable\n",
        "mutable_array.flags.writeable = False\n",
        "\n",
        "# Try to modify the array (this will raise an error)\n",
        "# mutable_array[0] = 100  # Uncommenting this line will raise ValueError\n",
        "\n",
        "# Check if the array is read-only\n",
        "is_read_only = mutable_array.flags.writeable\n",
        "\n",
        "print(\"Is the array read-only?\", is_read_only)"
      ],
      "id": "7cf2b3dd"
    },
    {
      "cell_type": "markdown",
      "metadata": {
        "id": "d7b7aaf3"
      },
      "source": [
        "#### 44. Consider a random 10x2 matrix representing cartesian coordinates, convert them to polar coordinates (★★☆)"
      ],
      "id": "d7b7aaf3"
    },
    {
      "cell_type": "code",
      "execution_count": null,
      "metadata": {
        "id": "e2337585",
        "colab": {
          "base_uri": "https://localhost:8080/"
        },
        "outputId": "4d76176d-217f-472b-d59d-426db8d8136d"
      },
      "outputs": [
        {
          "output_type": "stream",
          "name": "stdout",
          "text": [
            "Cartesian Coordinates:\n",
            "[[0.65680143 0.8110119 ]\n",
            " [0.22435136 0.48252054]\n",
            " [0.32346257 0.58697618]\n",
            " [0.8654363  0.31797111]\n",
            " [0.59161086 0.76185092]\n",
            " [0.0682451  0.38024996]\n",
            " [0.71654626 0.02997798]\n",
            " [0.29165958 0.35526337]\n",
            " [0.45177121 0.23832452]\n",
            " [0.80810272 0.60062623]]\n",
            "\n",
            "Polar Coordinates:\n",
            "[[1.04361316 0.89007551]\n",
            " [0.53212743 1.13557391]\n",
            " [0.67020077 1.06713511]\n",
            " [0.92200087 0.35210106]\n",
            " [0.96458294 0.91052227]\n",
            " [0.38632554 1.39321263]\n",
            " [0.71717307 0.04181239]\n",
            " [0.45964919 0.8834006 ]\n",
            " [0.5107796  0.48543113]\n",
            " [1.00686736 0.63917019]]\n"
          ]
        }
      ],
      "source": [
        "import numpy as np\n",
        "\n",
        "# Create a random 10x2 matrix representing cartesian coordinates\n",
        "cartesian_coordinates = np.random.random((10, 2))\n",
        "\n",
        "# Extract x and y coordinates\n",
        "x, y = cartesian_coordinates[:, 0], cartesian_coordinates[:, 1]\n",
        "\n",
        "# Convert to polar coordinates\n",
        "r = np.sqrt(x**2 + y**2)\n",
        "theta = np.arctan2(y, x)\n",
        "\n",
        "# Display the cartesian and polar coordinates\n",
        "print(\"Cartesian Coordinates:\")\n",
        "print(cartesian_coordinates)\n",
        "print(\"\\nPolar Coordinates:\")\n",
        "print(np.column_stack((r, theta)))"
      ],
      "id": "e2337585"
    },
    {
      "cell_type": "markdown",
      "metadata": {
        "id": "a556027a"
      },
      "source": [
        "#### 45. Create random vector of size 10 and replace the maximum value by 0 (★★☆)"
      ],
      "id": "a556027a"
    },
    {
      "cell_type": "code",
      "execution_count": null,
      "metadata": {
        "id": "9e07cb87",
        "colab": {
          "base_uri": "https://localhost:8080/"
        },
        "outputId": "64f50bf6-183f-406a-c105-807bfbfb671b"
      },
      "outputs": [
        {
          "output_type": "stream",
          "name": "stdout",
          "text": [
            "Original Vector: [0.3630182  0.1521682  0.54385329 0.95779427 0.36878723 0.71784064\n",
            " 0.         0.02805442 0.20542589 0.46813448]\n"
          ]
        }
      ],
      "source": [
        "# Create a random vector of size 10\n",
        "random_vector = np.random.random(10)\n",
        "\n",
        "# Find the index of the maximum value\n",
        "max_index = np.argmax(random_vector)\n",
        "\n",
        "# Replace the maximum value by 0\n",
        "random_vector[max_index] = 0\n",
        "\n",
        "print(\"Original Vector:\", random_vector)"
      ],
      "id": "9e07cb87"
    },
    {
      "cell_type": "markdown",
      "metadata": {
        "id": "004f3da1"
      },
      "source": [
        "#### 46. Create a structured array with `x` and `y` coordinates covering the [0,1]x[0,1] area (★★☆)"
      ],
      "id": "004f3da1"
    },
    {
      "cell_type": "code",
      "execution_count": null,
      "metadata": {
        "id": "b3824741",
        "colab": {
          "base_uri": "https://localhost:8080/"
        },
        "outputId": "a158a7de-d76f-47ad-d68d-51684cfe2c6b"
      },
      "outputs": [
        {
          "output_type": "stream",
          "name": "stdout",
          "text": [
            "[[(0.        , 0.        ) (0.11111111, 0.        )\n",
            "  (0.22222222, 0.        ) (0.33333333, 0.        )\n",
            "  (0.44444444, 0.        ) (0.55555556, 0.        )\n",
            "  (0.66666667, 0.        ) (0.77777778, 0.        )\n",
            "  (0.88888889, 0.        ) (1.        , 0.        )]\n",
            " [(0.        , 0.11111111) (0.11111111, 0.11111111)\n",
            "  (0.22222222, 0.11111111) (0.33333333, 0.11111111)\n",
            "  (0.44444444, 0.11111111) (0.55555556, 0.11111111)\n",
            "  (0.66666667, 0.11111111) (0.77777778, 0.11111111)\n",
            "  (0.88888889, 0.11111111) (1.        , 0.11111111)]\n",
            " [(0.        , 0.22222222) (0.11111111, 0.22222222)\n",
            "  (0.22222222, 0.22222222) (0.33333333, 0.22222222)\n",
            "  (0.44444444, 0.22222222) (0.55555556, 0.22222222)\n",
            "  (0.66666667, 0.22222222) (0.77777778, 0.22222222)\n",
            "  (0.88888889, 0.22222222) (1.        , 0.22222222)]\n",
            " [(0.        , 0.33333333) (0.11111111, 0.33333333)\n",
            "  (0.22222222, 0.33333333) (0.33333333, 0.33333333)\n",
            "  (0.44444444, 0.33333333) (0.55555556, 0.33333333)\n",
            "  (0.66666667, 0.33333333) (0.77777778, 0.33333333)\n",
            "  (0.88888889, 0.33333333) (1.        , 0.33333333)]\n",
            " [(0.        , 0.44444444) (0.11111111, 0.44444444)\n",
            "  (0.22222222, 0.44444444) (0.33333333, 0.44444444)\n",
            "  (0.44444444, 0.44444444) (0.55555556, 0.44444444)\n",
            "  (0.66666667, 0.44444444) (0.77777778, 0.44444444)\n",
            "  (0.88888889, 0.44444444) (1.        , 0.44444444)]\n",
            " [(0.        , 0.55555556) (0.11111111, 0.55555556)\n",
            "  (0.22222222, 0.55555556) (0.33333333, 0.55555556)\n",
            "  (0.44444444, 0.55555556) (0.55555556, 0.55555556)\n",
            "  (0.66666667, 0.55555556) (0.77777778, 0.55555556)\n",
            "  (0.88888889, 0.55555556) (1.        , 0.55555556)]\n",
            " [(0.        , 0.66666667) (0.11111111, 0.66666667)\n",
            "  (0.22222222, 0.66666667) (0.33333333, 0.66666667)\n",
            "  (0.44444444, 0.66666667) (0.55555556, 0.66666667)\n",
            "  (0.66666667, 0.66666667) (0.77777778, 0.66666667)\n",
            "  (0.88888889, 0.66666667) (1.        , 0.66666667)]\n",
            " [(0.        , 0.77777778) (0.11111111, 0.77777778)\n",
            "  (0.22222222, 0.77777778) (0.33333333, 0.77777778)\n",
            "  (0.44444444, 0.77777778) (0.55555556, 0.77777778)\n",
            "  (0.66666667, 0.77777778) (0.77777778, 0.77777778)\n",
            "  (0.88888889, 0.77777778) (1.        , 0.77777778)]\n",
            " [(0.        , 0.88888889) (0.11111111, 0.88888889)\n",
            "  (0.22222222, 0.88888889) (0.33333333, 0.88888889)\n",
            "  (0.44444444, 0.88888889) (0.55555556, 0.88888889)\n",
            "  (0.66666667, 0.88888889) (0.77777778, 0.88888889)\n",
            "  (0.88888889, 0.88888889) (1.        , 0.88888889)]\n",
            " [(0.        , 1.        ) (0.11111111, 1.        )\n",
            "  (0.22222222, 1.        ) (0.33333333, 1.        )\n",
            "  (0.44444444, 1.        ) (0.55555556, 1.        )\n",
            "  (0.66666667, 1.        ) (0.77777778, 1.        )\n",
            "  (0.88888889, 1.        ) (1.        , 1.        )]]\n"
          ]
        }
      ],
      "source": [
        "# Create a structured array with 'x' and 'y' fields\n",
        "structured_array = np.zeros((10, 10), dtype=[('x', float), ('y', float)])\n",
        "\n",
        "# Assign x and y coordinates to the array\n",
        "structured_array['x'], structured_array['y'] = np.meshgrid(np.linspace(0, 1, 10), np.linspace(0, 1, 10))\n",
        "\n",
        "print(structured_array)"
      ],
      "id": "b3824741"
    },
    {
      "cell_type": "markdown",
      "metadata": {
        "id": "1c0adc0d"
      },
      "source": [
        "#### 47. Given two arrays, X and Y, construct the Cauchy matrix C (Cij =1/(xi - yj)) (★★☆)"
      ],
      "id": "1c0adc0d"
    },
    {
      "cell_type": "code",
      "execution_count": null,
      "metadata": {
        "id": "01b3bbb7",
        "colab": {
          "base_uri": "https://localhost:8080/"
        },
        "outputId": "6c1b3128-4844-4aa7-e83c-46c78cf97991"
      },
      "outputs": [
        {
          "output_type": "stream",
          "name": "stdout",
          "text": [
            "[[-0.33333333 -0.25       -0.2       ]\n",
            " [-0.5        -0.33333333 -0.25      ]\n",
            " [-1.         -0.5        -0.33333333]]\n"
          ]
        }
      ],
      "source": [
        "\n",
        "# Given arrays X and Y\n",
        "X = np.array([1, 2, 3])\n",
        "Y = np.array([4, 5, 6])\n",
        "\n",
        "# Construct the Cauchy matrix C\n",
        "C = 1 / (X[:, np.newaxis] - Y)\n",
        "\n",
        "print(C)"
      ],
      "id": "01b3bbb7"
    },
    {
      "cell_type": "markdown",
      "metadata": {
        "id": "c8a2f65a"
      },
      "source": [
        "#### 48. Print the minimum and maximum representable value for each numpy scalar type (★★☆)"
      ],
      "id": "c8a2f65a"
    },
    {
      "cell_type": "code",
      "execution_count": null,
      "metadata": {
        "id": "35d844d6",
        "colab": {
          "base_uri": "https://localhost:8080/"
        },
        "outputId": "f4532a12-ea90-4da7-e658-711f17eef463"
      },
      "outputs": [
        {
          "output_type": "stream",
          "name": "stdout",
          "text": [
            "<class 'numpy.int8'>: Min = -128, Max = 127\n",
            "<class 'numpy.int16'>: Min = -32768, Max = 32767\n",
            "<class 'numpy.int32'>: Min = -2147483648, Max = 2147483647\n",
            "<class 'numpy.int64'>: Min = -9223372036854775808, Max = 9223372036854775807\n",
            "<class 'numpy.uint8'>: Min = 0, Max = 255\n",
            "<class 'numpy.uint16'>: Min = 0, Max = 65535\n",
            "<class 'numpy.uint32'>: Min = 0, Max = 4294967295\n",
            "<class 'numpy.uint64'>: Min = 0, Max = 18446744073709551615\n",
            "<class 'numpy.float16'>: Min = -65504.0, Max = 65504.0\n",
            "<class 'numpy.float32'>: Min = -3.4028234663852886e+38, Max = 3.4028234663852886e+38\n",
            "<class 'numpy.float64'>: Min = -1.7976931348623157e+308, Max = 1.7976931348623157e+308\n"
          ]
        }
      ],
      "source": [
        "# Integer types\n",
        "int_types = [np.int8, np.int16, np.int32, np.int64, np.uint8, np.uint16, np.uint32, np.uint64]\n",
        "\n",
        "for dtype in int_types:\n",
        "    info = np.iinfo(dtype)\n",
        "    print(f\"{dtype}: Min = {info.min}, Max = {info.max}\")\n",
        "\n",
        "# Floating-point types\n",
        "float_types = [np.float16, np.float32, np.float64]\n",
        "\n",
        "for dtype in float_types:\n",
        "    info = np.finfo(dtype)\n",
        "    print(f\"{dtype}: Min = {info.min}, Max = {info.max}\")"
      ],
      "id": "35d844d6"
    },
    {
      "cell_type": "markdown",
      "metadata": {
        "id": "11727a69"
      },
      "source": [
        "#### 49. How to print all the values of an array? (★★☆)"
      ],
      "id": "11727a69"
    },
    {
      "cell_type": "code",
      "execution_count": null,
      "metadata": {
        "id": "47e98473",
        "colab": {
          "base_uri": "https://localhost:8080/"
        },
        "outputId": "0a7e0f89-4cda-4383-880d-e6f1cacb197f"
      },
      "outputs": [
        {
          "output_type": "stream",
          "name": "stdout",
          "text": [
            "[[ 0  1  2  3  4  5  6  7  8  9]\n",
            " [10 11 12 13 14 15 16 17 18 19]\n",
            " [20 21 22 23 24 25 26 27 28 29]\n",
            " [30 31 32 33 34 35 36 37 38 39]\n",
            " [40 41 42 43 44 45 46 47 48 49]\n",
            " [50 51 52 53 54 55 56 57 58 59]\n",
            " [60 61 62 63 64 65 66 67 68 69]\n",
            " [70 71 72 73 74 75 76 77 78 79]\n",
            " [80 81 82 83 84 85 86 87 88 89]\n",
            " [90 91 92 93 94 95 96 97 98 99]]\n"
          ]
        }
      ],
      "source": [
        "# Create a large array\n",
        "large_array = np.arange(100).reshape(10, 10)\n",
        "\n",
        "# Set print options to display all values\n",
        "np.set_printoptions(threshold=np.inf)\n",
        "\n",
        "# Print the entire array\n",
        "print(large_array)\n",
        "\n",
        "# Reset print options to default\n",
        "np.set_printoptions(threshold=1000)"
      ],
      "id": "47e98473"
    },
    {
      "cell_type": "markdown",
      "metadata": {
        "id": "e0e7d741"
      },
      "source": [
        "#### 50. How to find the closest value (to a given scalar) in a vector? (★★☆)"
      ],
      "id": "e0e7d741"
    },
    {
      "cell_type": "code",
      "execution_count": null,
      "metadata": {
        "id": "62cabf6f",
        "colab": {
          "base_uri": "https://localhost:8080/"
        },
        "outputId": "eac04c27-9f6b-4188-fc5b-30082db3ee0d"
      },
      "outputs": [
        {
          "output_type": "stream",
          "name": "stdout",
          "text": [
            "Vector: [1.2 2.5 3.8 5.1 6.4]\n",
            "Scalar: 4.0\n",
            "Closest Value: 3.8\n"
          ]
        }
      ],
      "source": [
        "# Create a vector\n",
        "vector = np.array([1.2, 2.5, 3.8, 5.1, 6.4])\n",
        "\n",
        "# Given scalar\n",
        "scalar = 4.0\n",
        "\n",
        "# Find the index of the closest value\n",
        "index_closest = np.abs(vector - scalar).argmin()\n",
        "\n",
        "# Get the closest value\n",
        "closest_value = vector[index_closest]\n",
        "\n",
        "print(\"Vector:\", vector)\n",
        "print(\"Scalar:\", scalar)\n",
        "print(\"Closest Value:\", closest_value)"
      ],
      "id": "62cabf6f"
    },
    {
      "cell_type": "markdown",
      "metadata": {
        "id": "c5611b9e"
      },
      "source": [
        "#### 51. Create a structured array representing a position (x,y) and a color (r,g,b) (★★☆)"
      ],
      "id": "c5611b9e"
    },
    {
      "cell_type": "code",
      "execution_count": null,
      "metadata": {
        "id": "f622939d",
        "colab": {
          "base_uri": "https://localhost:8080/"
        },
        "outputId": "04134054-e171-43c9-baa5-ed8ded1a2ab4"
      },
      "outputs": [
        {
          "output_type": "stream",
          "name": "stdout",
          "text": [
            "First element: ((1., 2.), (255, 0, 0))\n",
            "X-coordinate of the first element: 1.0\n",
            "Color of the second element: (0, 255, 0)\n"
          ]
        }
      ],
      "source": [
        "# Define the structured data type\n",
        "dtype = np.dtype([('position', [('x', float), ('y', float)]), ('color', [('r', int), ('g', int), ('b', int)])])\n",
        "\n",
        "# Create an array with the specified data type\n",
        "structured_array = np.array([( (1.0, 2.0), (255, 0, 0) ),\n",
        "                             ( (3.5, 4.2), (0, 255, 0) ),\n",
        "                             ( (0.0, 1.0), (0, 0, 255) )], dtype=dtype)\n",
        "\n",
        "# Accessing elements in the structured array\n",
        "print(\"First element:\", structured_array[0])\n",
        "print(\"X-coordinate of the first element:\", structured_array['position']['x'][0])\n",
        "print(\"Color of the second element:\", structured_array['color'][1])\n"
      ],
      "id": "f622939d"
    },
    {
      "cell_type": "markdown",
      "metadata": {
        "id": "d22b8574"
      },
      "source": [
        "#### 52. Consider a random vector with shape (100,2) representing coordinates, find point by point distances (★★☆)"
      ],
      "id": "d22b8574"
    },
    {
      "cell_type": "code",
      "execution_count": null,
      "metadata": {
        "id": "d5c9cdf8",
        "colab": {
          "base_uri": "https://localhost:8080/"
        },
        "outputId": "f8d0d0ae-1720-405d-a9d0-139f7c328deb"
      },
      "outputs": [
        {
          "output_type": "stream",
          "name": "stdout",
          "text": [
            "[[0.         0.65245086 0.59764931 ... 0.17059524 0.29692762 0.19693047]\n",
            " [0.65245086 0.         0.61405646 ... 0.54714108 0.85878808 0.83574497]\n",
            " [0.59764931 0.61405646 0.         ... 0.43306394 0.55178732 0.76849563]\n",
            " ...\n",
            " [0.17059524 0.54714108 0.43306394 ... 0.         0.31444976 0.36122717]\n",
            " [0.29692762 0.85878808 0.55178732 ... 0.31444976 0.         0.32395838]\n",
            " [0.19693047 0.83574497 0.76849563 ... 0.36122717 0.32395838 0.        ]]\n"
          ]
        }
      ],
      "source": [
        "import numpy as np\n",
        "from scipy.spatial.distance import cdist\n",
        "\n",
        "# Generate a random vector with shape (100, 2)\n",
        "random_vector = np.random.rand(100, 2)\n",
        "\n",
        "# Compute pairwise distances\n",
        "distances = cdist(random_vector, random_vector)\n",
        "\n",
        "# Print the distances\n",
        "print(distances)\n"
      ],
      "id": "d5c9cdf8"
    },
    {
      "cell_type": "markdown",
      "metadata": {
        "id": "f5c164f2"
      },
      "source": [
        "#### 53. How to convert a float (32 bits) array into an integer (32 bits) in place?"
      ],
      "id": "f5c164f2"
    },
    {
      "cell_type": "code",
      "execution_count": null,
      "metadata": {
        "id": "ea262de8",
        "colab": {
          "base_uri": "https://localhost:8080/"
        },
        "outputId": "63183240-8738-49d3-ac3a-63f938db7baf"
      },
      "outputs": [
        {
          "output_type": "stream",
          "name": "stdout",
          "text": [
            "Original float array: [1.4e-43 2.7e+00 3.2e+00 4.8e+00]\n",
            "Modified int array: [       100 1076677837 1078774989 1083808154]\n"
          ]
        }
      ],
      "source": [
        "# Create a float array\n",
        "float_array = np.array([1.5, 2.7, 3.2, 4.8], dtype=np.float32)\n",
        "\n",
        "# Convert float array to int array in place\n",
        "int_array = float_array.view(np.int32)\n",
        "\n",
        "# Modify the int array in place if needed\n",
        "int_array[0] = 100\n",
        "\n",
        "# Print the original float array and the modified int array\n",
        "print(\"Original float array:\", float_array)\n",
        "print(\"Modified int array:\", int_array)\n"
      ],
      "id": "ea262de8"
    },
    {
      "cell_type": "markdown",
      "metadata": {
        "id": "a8b7e6f5"
      },
      "source": [
        "#### 54. How to read the following file? (★★☆)\n",
        "```\n",
        "1, 2, 3, 4, 5\n",
        "6,  ,  , 7, 8\n",
        " ,  , 9,10,11\n",
        "```"
      ],
      "id": "a8b7e6f5"
    },
    {
      "cell_type": "code",
      "execution_count": null,
      "metadata": {
        "id": "bde0538a",
        "colab": {
          "base_uri": "https://localhost:8080/"
        },
        "outputId": "ec80e09d-50ef-4525-a031-f402d699e8b1"
      },
      "outputs": [
        {
          "output_type": "stream",
          "name": "stdout",
          "text": [
            "[[ 1.  2.  3.  4.  5.]\n",
            " [ 6. nan nan  7.  8.]\n",
            " [nan nan  9. 10. 11.]]\n"
          ]
        }
      ],
      "source": [
        "from io import StringIO\n",
        "\n",
        "# Your file content\n",
        "file_content = \"\"\"\n",
        "1, 2, 3, 4, 5\n",
        "6,  ,  , 7, 8\n",
        " ,  , 9, 10, 11\n",
        "\"\"\"\n",
        "\n",
        "# Use StringIO to create a file-like object from the string\n",
        "file_like_object = StringIO(file_content)\n",
        "\n",
        "# Use numpy.genfromtxt to read the data\n",
        "data = np.genfromtxt(file_like_object, delimiter=',', dtype=float, filling_values=np.nan)\n",
        "\n",
        "# Print the read data\n",
        "print(data)\n"
      ],
      "id": "bde0538a"
    },
    {
      "cell_type": "markdown",
      "metadata": {
        "id": "c6b32834"
      },
      "source": [
        "#### 55. What is the equivalent of enumerate for numpy arrays? (★★☆)"
      ],
      "id": "c6b32834"
    },
    {
      "cell_type": "code",
      "execution_count": null,
      "metadata": {
        "id": "ab02472a",
        "colab": {
          "base_uri": "https://localhost:8080/"
        },
        "outputId": "1ac647f3-fd35-4668-e5f4-b0a7fba0fd6c"
      },
      "outputs": [
        {
          "output_type": "stream",
          "name": "stdout",
          "text": [
            "(0, 0) 1\n",
            "(0, 1) 2\n",
            "(0, 2) 3\n",
            "(1, 0) 4\n",
            "(1, 1) 5\n",
            "(1, 2) 6\n",
            "(2, 0) 7\n",
            "(2, 1) 8\n",
            "(2, 2) 9\n"
          ]
        }
      ],
      "source": [
        "# Create a NumPy array\n",
        "arr = np.array([[1, 2, 3], [4, 5, 6], [7, 8, 9]])\n",
        "\n",
        "# Use np.ndenumerate to iterate over indices and values\n",
        "for index, value in np.ndenumerate(arr):\n",
        "    print(index, value)\n"
      ],
      "id": "ab02472a"
    },
    {
      "cell_type": "markdown",
      "metadata": {
        "id": "a2121a05"
      },
      "source": [
        "#### 56. Generate a generic 2D Gaussian-like array (★★☆)"
      ],
      "id": "a2121a05"
    },
    {
      "cell_type": "code",
      "execution_count": null,
      "metadata": {
        "id": "18507102",
        "colab": {
          "base_uri": "https://localhost:8080/",
          "height": 452
        },
        "outputId": "eeeabb65-2911-4ac4-f1b3-abc412366b83"
      },
      "outputs": [
        {
          "output_type": "display_data",
          "data": {
            "text/plain": [
              "<Figure size 640x480 with 2 Axes>"
            ],
            "image/png": "[encoded data removed]"
          },
          "metadata": {}
        }
      ],
      "source": [
        "import numpy as np\n",
        "import matplotlib.pyplot as plt\n",
        "\n",
        "def gaussian_2d(shape, sigma=1.0):\n",
        "    \"\"\"\n",
        "    Generate a 2D Gaussian-like array.\n",
        "\n",
        "    Parameters:\n",
        "    - shape: Tuple (rows, columns) specifying the shape of the array.\n",
        "    - sigma: Standard deviation of the Gaussian distribution.\n",
        "\n",
        "    Returns:\n",
        "    - A 2D Gaussian-like array.\n",
        "    \"\"\"\n",
        "    rows, cols = shape\n",
        "    center = (rows // 2, cols // 2)  # Center of the array\n",
        "\n",
        "    y, x = np.ogrid[:rows, :cols]\n",
        "    array = np.exp(-(x - center[1]) ** 2 / (2 * sigma ** 2) - (y - center[0]) ** 2 / (2 * sigma ** 2))\n",
        "    return array / (2 * np.pi * sigma ** 2)  # Normalize to have a total sum of 1\n",
        "\n",
        "# Define the shape of the array\n",
        "shape = (100, 100)\n",
        "\n",
        "# Generate a 2D Gaussian-like array\n",
        "gaussian_array = gaussian_2d(shape, sigma=5.0)\n",
        "\n",
        "# Display the array using matplotlib\n",
        "plt.imshow(gaussian_array, cmap='viridis')\n",
        "plt.title('2D Gaussian-like Array')\n",
        "plt.colorbar()\n",
        "plt.show()\n"
      ],
      "id": "18507102"
    },
    {
      "cell_type": "markdown",
      "metadata": {
        "id": "97055efa"
      },
      "source": [
        "#### 57. How to randomly place p elements in a 2D array? (★★☆)"
      ],
      "id": "97055efa"
    },
    {
      "cell_type": "code",
      "execution_count": null,
      "metadata": {
        "id": "292e842f",
        "colab": {
          "base_uri": "https://localhost:8080/"
        },
        "outputId": "3b9c2540-264e-422a-d013-b3972bacc561"
      },
      "outputs": [
        {
          "output_type": "stream",
          "name": "stdout",
          "text": [
            "Original array:\n",
            "[[0.         0.41008777 0.50667105 0.67108837 0.        ]\n",
            " [0.         0.         0.         0.         0.        ]\n",
            " [0.74257165 0.         0.         0.69741565 0.42414547]\n",
            " [0.         0.62839468 0.         0.         0.        ]\n",
            " [0.         0.         0.5659657  0.         0.        ]]\n",
            "\n",
            "Array with randomly placed elements:\n",
            "[[0.         0.41008777 0.50667105 0.67108837 0.        ]\n",
            " [0.         0.         0.         0.         0.        ]\n",
            " [0.74257165 0.         0.         0.69741565 0.42414547]\n",
            " [0.         0.62839468 0.         0.         0.        ]\n",
            " [0.         0.         0.5659657  0.         0.        ]]\n"
          ]
        }
      ],
      "source": [
        "import numpy as np\n",
        "\n",
        "def randomly_place_elements(array, p):\n",
        "    \"\"\"\n",
        "    Randomly place p elements in a 2D array.\n",
        "\n",
        "    Parameters:\n",
        "    - array: The 2D array.\n",
        "    - p: The number of elements to randomly place.\n",
        "\n",
        "    Returns:\n",
        "    - The modified array.\n",
        "    \"\"\"\n",
        "    rows, cols = array.shape\n",
        "    indices = np.random.choice(rows * cols, p, replace=False)  # Randomly choose p indices\n",
        "\n",
        "    # Assign random values to the chosen indices\n",
        "    array.flat[indices] = np.random.rand(p)\n",
        "\n",
        "    return array\n",
        "\n",
        "# Create a 2D array (e.g., 5x5)\n",
        "array = np.zeros((5, 5))\n",
        "\n",
        "# Number of elements to randomly place\n",
        "p = 8\n",
        "\n",
        "# Randomly place p elements in the array\n",
        "result_array = randomly_place_elements(array, p)\n",
        "\n",
        "# Display the result\n",
        "print(\"Original array:\")\n",
        "print(array)\n",
        "print(\"\\nArray with randomly placed elements:\")\n",
        "print(result_array)\n"
      ],
      "id": "292e842f"
    },
    {
      "cell_type": "markdown",
      "metadata": {
        "id": "bfd2513c"
      },
      "source": [
        "#### 58. Subtract the mean of each row of a matrix (★★☆)"
      ],
      "id": "bfd2513c"
    },
    {
      "cell_type": "code",
      "execution_count": null,
      "metadata": {
        "id": "f306ab72",
        "colab": {
          "base_uri": "https://localhost:8080/"
        },
        "outputId": "334f8e5f-9e55-4b3a-ceeb-7d2f03d59f9e"
      },
      "outputs": [
        {
          "output_type": "stream",
          "name": "stdout",
          "text": [
            "Original Matrix:\n",
            "[[ 1  2  3  4]\n",
            " [ 5  6  7  8]\n",
            " [ 9 10 11 12]]\n",
            "\n",
            "Matrix with Mean of Each Row Subtracted:\n",
            "[[-1.5 -0.5  0.5  1.5]\n",
            " [-1.5 -0.5  0.5  1.5]\n",
            " [-1.5 -0.5  0.5  1.5]]\n"
          ]
        }
      ],
      "source": [
        "# Create a matrix (example: 3x4 matrix)\n",
        "matrix = np.array([[1, 2, 3, 4],\n",
        "                   [5, 6, 7, 8],\n",
        "                   [9, 10, 11, 12]])\n",
        "\n",
        "# Subtract the mean of each row\n",
        "mean_subtracted_matrix = matrix - np.mean(matrix, axis=1, keepdims=True)\n",
        "\n",
        "# Print the original matrix and the result\n",
        "print(\"Original Matrix:\")\n",
        "print(matrix)\n",
        "print(\"\\nMatrix with Mean of Each Row Subtracted:\")\n",
        "print(mean_subtracted_matrix)\n"
      ],
      "id": "f306ab72"
    },
    {
      "cell_type": "markdown",
      "metadata": {
        "id": "da9f2f9b"
      },
      "source": [
        "#### 59. How to sort an array by the nth column? (★★☆)"
      ],
      "id": "da9f2f9b"
    },
    {
      "cell_type": "code",
      "execution_count": null,
      "metadata": {
        "id": "68cde57f",
        "colab": {
          "base_uri": "https://localhost:8080/"
        },
        "outputId": "4ff780ac-67bf-4ed2-eaca-6fbf1a33c402"
      },
      "outputs": [
        {
          "output_type": "stream",
          "name": "stdout",
          "text": [
            "Original Array:\n",
            "[[1 4 7]\n",
            " [3 6 1]\n",
            " [2 8 5]]\n",
            "\n",
            "Sorted Array by the 2-th column:\n",
            "[[1 4 7]\n",
            " [3 6 1]\n",
            " [2 8 5]]\n"
          ]
        }
      ],
      "source": [
        "# Create an example array\n",
        "array = np.array([[1, 4, 7],\n",
        "                  [3, 6, 1],\n",
        "                  [2, 8, 5]])\n",
        "\n",
        "# Specify the column index for sorting (e.g., sort by the 2nd column)\n",
        "column_to_sort_by = 1\n",
        "\n",
        "# Get the indices that would sort the array along the specified column\n",
        "indices = np.argsort(array[:, column_to_sort_by])\n",
        "\n",
        "# Use the obtained indices to rearrange the rows of the array\n",
        "sorted_array = array[indices]\n",
        "\n",
        "# Print the original and sorted arrays\n",
        "print(\"Original Array:\")\n",
        "print(array)\n",
        "print(\"\\nSorted Array by the {}-th column:\".format(column_to_sort_by + 1))\n",
        "print(sorted_array)\n"
      ],
      "id": "68cde57f"
    },
    {
      "cell_type": "markdown",
      "metadata": {
        "id": "5b7be45c"
      },
      "source": [
        "#### 60. How to tell if a given 2D array has null columns? (★★☆)"
      ],
      "id": "5b7be45c"
    },
    {
      "cell_type": "code",
      "execution_count": null,
      "metadata": {
        "id": "7dbe2c27",
        "colab": {
          "base_uri": "https://localhost:8080/"
        },
        "outputId": "55f908f1-cf71-4183-ab63-3359104873d3"
      },
      "outputs": [
        {
          "output_type": "stream",
          "name": "stdout",
          "text": [
            "Array 1 has null columns: True\n",
            "Array 2 has null columns: False\n"
          ]
        }
      ],
      "source": [
        "def has_null_columns(array):\n",
        "    \"\"\"\n",
        "    Check if a 2D array has null columns.\n",
        "\n",
        "    Parameters:\n",
        "    - array: The 2D array.\n",
        "\n",
        "    Returns:\n",
        "    - True if any column is null, False otherwise.\n",
        "    \"\"\"\n",
        "    return np.any(np.all(array == 0, axis=0))\n",
        "\n",
        "# Example 1: Array with null columns\n",
        "array_with_null = np.array([[0, 1, 0],\n",
        "                            [0, 0, 0],\n",
        "                            [0, 0, 0]])\n",
        "\n",
        "# Example 2: Array without null columns\n",
        "array_without_null = np.array([[1, 2, 3],\n",
        "                               [0, 0, 1],\n",
        "                               [0, 0, 0]])\n",
        "\n",
        "# Check if each array has null columns\n",
        "print(\"Array 1 has null columns:\", has_null_columns(array_with_null))\n",
        "print(\"Array 2 has null columns:\", has_null_columns(array_without_null))\n"
      ],
      "id": "7dbe2c27"
    },
    {
      "cell_type": "markdown",
      "metadata": {
        "id": "7c18c02e"
      },
      "source": [
        "#### 61. Find the nearest value from a given value in an array (★★☆)"
      ],
      "id": "7c18c02e"
    },
    {
      "cell_type": "code",
      "execution_count": null,
      "metadata": {
        "id": "b78ae9c4",
        "colab": {
          "base_uri": "https://localhost:8080/"
        },
        "outputId": "89272076-0b5d-4520-d869-bcf97414145f"
      },
      "outputs": [
        {
          "output_type": "stream",
          "name": "stdout",
          "text": [
            "Array: [ 1  3  5  7  9 11 13]\n",
            "Given Value: 8\n",
            "Nearest Value: 7\n"
          ]
        }
      ],
      "source": [
        "def nearest_value(arr, value):\n",
        "    \"\"\"\n",
        "    Find the nearest value from a given value in a NumPy array.\n",
        "\n",
        "    Parameters:\n",
        "    - arr: The NumPy array.\n",
        "    - value: The given value.\n",
        "\n",
        "    Returns:\n",
        "    - The nearest value in the array.\n",
        "    \"\"\"\n",
        "    index = np.abs(arr - value).argmin()\n",
        "    return arr[index]\n",
        "\n",
        "# Example array\n",
        "arr = np.array([1, 3, 5, 7, 9, 11, 13])\n",
        "\n",
        "# Given value\n",
        "given_value = 8\n",
        "\n",
        "# Find the nearest value\n",
        "result = nearest_value(arr, given_value)\n",
        "\n",
        "# Print the result\n",
        "print(\"Array:\", arr)\n",
        "print(\"Given Value:\", given_value)\n",
        "print(\"Nearest Value:\", result)\n"
      ],
      "id": "b78ae9c4"
    },
    {
      "cell_type": "markdown",
      "metadata": {
        "id": "8174ba2c"
      },
      "source": [
        "#### 62. Considering two arrays with shape (1,3) and (3,1), how to compute their sum using an iterator? (★★☆)"
      ],
      "id": "8174ba2c"
    },
    {
      "cell_type": "code",
      "execution_count": null,
      "metadata": {
        "id": "8a18fe57",
        "colab": {
          "base_uri": "https://localhost:8080/"
        },
        "outputId": "b67a81f9-b551-44a8-efa5-f49436b27dba"
      },
      "outputs": [
        {
          "output_type": "stream",
          "name": "stdout",
          "text": [
            "Array 1:\n",
            "[[1 2 3]]\n",
            "\n",
            "Array 2:\n",
            "[[4]\n",
            " [5]\n",
            " [6]]\n",
            "\n",
            "Sum Array:\n",
            "[[5 6 7]\n",
            " [6 7 8]\n",
            " [7 8 9]]\n"
          ]
        }
      ],
      "source": [
        "# Create two arrays with shapes (1,3) and (3,1)\n",
        "array1 = np.array([[1, 2, 3]])\n",
        "array2 = np.array([[4], [5], [6]])\n",
        "\n",
        "# Initialize the iterator\n",
        "it = np.nditer([array1, array2, None])\n",
        "\n",
        "# Iterate over the arrays and compute the sum\n",
        "for x, y, z in it:\n",
        "    z[...] = x + y\n",
        "\n",
        "# Get the result from the iterator\n",
        "result = it.operands[2]\n",
        "\n",
        "# Print the result\n",
        "print(\"Array 1:\")\n",
        "print(array1)\n",
        "print(\"\\nArray 2:\")\n",
        "print(array2)\n",
        "print(\"\\nSum Array:\")\n",
        "print(result)\n"
      ],
      "id": "8a18fe57"
    },
    {
      "cell_type": "markdown",
      "metadata": {
        "id": "9189bd7c"
      },
      "source": [
        "#### 63. Create an array class that has a name attribute (★★☆)"
      ],
      "id": "9189bd7c"
    },
    {
      "cell_type": "code",
      "execution_count": null,
      "metadata": {
        "id": "1c01ed42",
        "colab": {
          "base_uri": "https://localhost:8080/"
        },
        "outputId": "85dd400a-492e-4e89-d3ec-73560d0dd87c"
      },
      "outputs": [
        {
          "output_type": "stream",
          "name": "stdout",
          "text": [
            "Array Name: ExampleArray\n",
            "Result Array:\n",
            "[ 2  4  6  8 10]\n",
            "Result Array Name: ExampleArray\n"
          ]
        }
      ],
      "source": [
        "import numpy as np\n",
        "\n",
        "class NamedArray(np.ndarray):\n",
        "    def __new__(cls, array, name=None):\n",
        "        obj = np.asarray(array).view(cls)\n",
        "        obj.name = name\n",
        "        return obj\n",
        "\n",
        "    def __array_finalize__(self, obj):\n",
        "        if obj is None:\n",
        "            return\n",
        "        self.name = getattr(obj, 'name', None)\n",
        "\n",
        "# Create an instance of the NamedArray class\n",
        "data = np.array([1, 2, 3, 4, 5])\n",
        "named_array = NamedArray(data, name='ExampleArray')\n",
        "\n",
        "# Access the name attribute\n",
        "print(\"Array Name:\", named_array.name)\n",
        "\n",
        "# Perform operations with the NamedArray\n",
        "result = named_array * 2\n",
        "print(\"Result Array:\")\n",
        "print(result)\n",
        "print(\"Result Array Name:\", result.name)\n"
      ],
      "id": "1c01ed42"
    },
    {
      "cell_type": "markdown",
      "metadata": {
        "id": "f30162d2"
      },
      "source": [
        "#### 64. Consider a given vector, how to add 1 to each element indexed by a second vector (be careful with repeated indices)? (★★★)"
      ],
      "id": "f30162d2"
    },
    {
      "cell_type": "code",
      "execution_count": null,
      "metadata": {
        "id": "093ba36f",
        "colab": {
          "base_uri": "https://localhost:8080/"
        },
        "outputId": "0231a169-1061-4d44-c437-2ff4714ec1b4"
      },
      "outputs": [
        {
          "output_type": "stream",
          "name": "stdout",
          "text": [
            "Original Vector: [0 1 2 3 4 5]\n",
            "Indices Vector: [1 3 4 1 2 3 5]\n",
            "Result Vector: [0 2 3 4 5 6]\n"
          ]
        }
      ],
      "source": [
        "import numpy as np\n",
        "\n",
        "def add_one_at_indices(vector, indices):\n",
        "    \"\"\"\n",
        "    Add 1 to each element in the vector indexed by a second vector.\n",
        "\n",
        "    Parameters:\n",
        "    - vector: The input vector.\n",
        "    - indices: The vector containing indices.\n",
        "\n",
        "    Returns:\n",
        "    - A new vector with 1 added to each element at the specified indices.\n",
        "    \"\"\"\n",
        "    unique_indices, counts = np.unique(indices, return_counts=True)\n",
        "    result = vector.copy()\n",
        "    result[unique_indices] += 1\n",
        "    return result\n",
        "\n",
        "# Example usage:\n",
        "input_vector = np.array([0, 1, 2, 3, 4, 5])\n",
        "index_vector = np.array([1, 3, 4, 1, 2, 3, 5])\n",
        "\n",
        "result_vector = add_one_at_indices(input_vector, index_vector)\n",
        "\n",
        "print(\"Original Vector:\", input_vector)\n",
        "print(\"Indices Vector:\", index_vector)\n",
        "print(\"Result Vector:\", result_vector)\n"
      ],
      "id": "093ba36f"
    },
    {
      "cell_type": "markdown",
      "metadata": {
        "id": "f5b1c584"
      },
      "source": [
        "#### 65. How to accumulate elements of a vector (X) to an array (F) based on an index list (I)? (★★★)"
      ],
      "id": "f5b1c584"
    },
    {
      "cell_type": "code",
      "execution_count": null,
      "metadata": {
        "id": "c9d92a75",
        "colab": {
          "base_uri": "https://localhost:8080/",
          "height": 303
        },
        "outputId": "51cefa79-a628-4391-8dac-c2fc94493241"
      },
      "outputs": [
        {
          "output_type": "error",
          "ename": "ValueError",
          "evalue": "ignored",
          "traceback": [
            "\u001b[0;31m---------------------------------------------------------------------------\u001b[0m",
            "\u001b[0;31mValueError\u001b[0m                                Traceback (most recent call last)",
            "\u001b[0;32m<ipython-input-40-355d39c3e289>\u001b[0m in \u001b[0;36m<cell line: 20>\u001b[0;34m()\u001b[0m\n\u001b[1;32m     18\u001b[0m \u001b[0mI\u001b[0m \u001b[0;34m=\u001b[0m \u001b[0mnp\u001b[0m\u001b[0;34m.\u001b[0m\u001b[0marray\u001b[0m\u001b[0;34m(\u001b[0m\u001b[0;34m[\u001b[0m\u001b[0;36m1\u001b[0m\u001b[0;34m,\u001b[0m \u001b[0;36m3\u001b[0m\u001b[0;34m,\u001b[0m \u001b[0;36m2\u001b[0m\u001b[0;34m,\u001b[0m \u001b[0;36m2\u001b[0m\u001b[0;34m,\u001b[0m \u001b[0;36m4\u001b[0m\u001b[0;34m,\u001b[0m \u001b[0;36m1\u001b[0m\u001b[0;34m]\u001b[0m\u001b[0;34m)\u001b[0m\u001b[0;34m\u001b[0m\u001b[0;34m\u001b[0m\u001b[0m\n\u001b[1;32m     19\u001b[0m \u001b[0;34m\u001b[0m\u001b[0m\n\u001b[0;32m---> 20\u001b[0;31m \u001b[0mresult\u001b[0m \u001b[0;34m=\u001b[0m \u001b[0maccumulate_to_array\u001b[0m\u001b[0;34m(\u001b[0m\u001b[0mX\u001b[0m\u001b[0;34m,\u001b[0m \u001b[0mI\u001b[0m\u001b[0;34m)\u001b[0m\u001b[0;34m\u001b[0m\u001b[0;34m\u001b[0m\u001b[0m\n\u001b[0m\u001b[1;32m     21\u001b[0m \u001b[0;34m\u001b[0m\u001b[0m\n\u001b[1;32m     22\u001b[0m \u001b[0mprint\u001b[0m\u001b[0;34m(\u001b[0m\u001b[0;34m\"Input Vector (X):\"\u001b[0m\u001b[0;34m,\u001b[0m \u001b[0mX\u001b[0m\u001b[0;34m)\u001b[0m\u001b[0;34m\u001b[0m\u001b[0;34m\u001b[0m\u001b[0m\n",
            "\u001b[0;32m<ipython-input-40-355d39c3e289>\u001b[0m in \u001b[0;36maccumulate_to_array\u001b[0;34m(X, I)\u001b[0m\n\u001b[1;32m     12\u001b[0m     \u001b[0;34m-\u001b[0m \u001b[0mThe\u001b[0m \u001b[0maccumulated\u001b[0m \u001b[0marray\u001b[0m\u001b[0;34m.\u001b[0m\u001b[0;34m\u001b[0m\u001b[0;34m\u001b[0m\u001b[0m\n\u001b[1;32m     13\u001b[0m     \"\"\"\n\u001b[0;32m---> 14\u001b[0;31m     \u001b[0;32mreturn\u001b[0m \u001b[0mnp\u001b[0m\u001b[0;34m.\u001b[0m\u001b[0mbincount\u001b[0m\u001b[0;34m(\u001b[0m\u001b[0mI\u001b[0m\u001b[0;34m,\u001b[0m \u001b[0mweights\u001b[0m\u001b[0;34m=\u001b[0m\u001b[0mX\u001b[0m\u001b[0;34m)\u001b[0m\u001b[0;34m\u001b[0m\u001b[0;34m\u001b[0m\u001b[0m\n\u001b[0m\u001b[1;32m     15\u001b[0m \u001b[0;34m\u001b[0m\u001b[0m\n\u001b[1;32m     16\u001b[0m \u001b[0;31m# Example usage:\u001b[0m\u001b[0;34m\u001b[0m\u001b[0;34m\u001b[0m\u001b[0m\n",
            "\u001b[0;32m/usr/local/lib/python3.10/dist-packages/numpy/core/overrides.py\u001b[0m in \u001b[0;36mbincount\u001b[0;34m(*args, **kwargs)\u001b[0m\n",
            "\u001b[0;31mValueError\u001b[0m: The weights and list don't have the same length."
          ]
        }
      ],
      "source": [
        "import numpy as np\n",
        "\n",
        "def accumulate_to_array(X, I):\n",
        "    \"\"\"\n",
        "    Accumulate elements of a vector (X) to an array (F) based on an index list (I).\n",
        "\n",
        "    Parameters:\n",
        "    - X: The input vector.\n",
        "    - I: The index list.\n",
        "\n",
        "    Returns:\n",
        "    - The accumulated array.\n",
        "    \"\"\"\n",
        "    return np.bincount(I, weights=X)\n",
        "\n",
        "# Example usage:\n",
        "X = np.array([1, 2, 3, 4, 5])\n",
        "I = np.array([1, 3, 2, 2, 4, 1])\n",
        "\n",
        "result = accumulate_to_array(X, I)\n",
        "\n",
        "print(\"Input Vector (X):\", X)\n",
        "print(\"Index List (I):\", I)\n",
        "print(\"Accumulated Array (Result):\", result)\n"
      ],
      "id": "c9d92a75"
    },
    {
      "cell_type": "markdown",
      "metadata": {
        "id": "994c452d"
      },
      "source": [
        "#### 66. Considering a (w,h,3) image of (dtype=ubyte), compute the number of unique colors (★★☆)"
      ],
      "id": "994c452d"
    },
    {
      "cell_type": "code",
      "execution_count": null,
      "metadata": {
        "id": "269cdaea",
        "colab": {
          "base_uri": "https://localhost:8080/"
        },
        "outputId": "9ddd637b-3e77-4cf6-e653-fabad14f3eb3"
      },
      "outputs": [
        {
          "output_type": "stream",
          "name": "stdout",
          "text": [
            "Number of Unique Colors: 12\n"
          ]
        }
      ],
      "source": [
        "import numpy as np\n",
        "\n",
        "def count_unique_colors(image):\n",
        "    \"\"\"\n",
        "    Compute the number of unique colors in a (w, h, 3) image.\n",
        "\n",
        "    Parameters:\n",
        "    - image: The input image.\n",
        "\n",
        "    Returns:\n",
        "    - The number of unique colors.\n",
        "    \"\"\"\n",
        "    # Reshape the 3D image to a 2D array\n",
        "    flat_image = image.reshape((-1, 3))\n",
        "\n",
        "    # Convert to a view with a dtype that supports unique operation\n",
        "    unique_view = np.ascontiguousarray(flat_image).view(np.dtype((np.void, flat_image.dtype.itemsize * flat_image.shape[1])))\n",
        "\n",
        "    # Find unique colors using numpy.unique\n",
        "    unique_colors = np.unique(unique_view)\n",
        "\n",
        "    return len(unique_colors)\n",
        "\n",
        "# Example usage:\n",
        "w, h = 4, 3\n",
        "image = np.random.randint(0, 256, size=(w, h, 3), dtype=np.uint8)\n",
        "\n",
        "unique_colors_count = count_unique_colors(image)\n",
        "\n",
        "print(\"Number of Unique Colors:\", unique_colors_count)\n"
      ],
      "id": "269cdaea"
    },
    {
      "cell_type": "markdown",
      "metadata": {
        "id": "4bddeb31"
      },
      "source": [
        "#### 67. Considering a four dimensions array, how to get sum over the last two axis at once? (★★★)"
      ],
      "id": "4bddeb31"
    },
    {
      "cell_type": "code",
      "execution_count": null,
      "metadata": {
        "id": "32af15f5",
        "colab": {
          "base_uri": "https://localhost:8080/"
        },
        "outputId": "d744b353-af60-415e-82f9-dca552a2d759"
      },
      "outputs": [
        {
          "output_type": "stream",
          "name": "stdout",
          "text": [
            "Original Array:\n",
            "[[[[0.428159   0.54206661 0.06602645 0.34904325 0.65459884 0.25030059]\n",
            "   [0.68639931 0.64548185 0.3832209  0.86558538 0.56735452 0.95447562]\n",
            "   [0.0051312  0.36676781 0.27093584 0.19959761 0.32280552 0.31138834]\n",
            "   [0.96869853 0.86188939 0.27963587 0.99809793 0.58272242 0.27044075]\n",
            "   [0.26808538 0.19699348 0.26480434 0.14132616 0.01822199 0.29386676]]\n",
            "\n",
            "  [[0.37188964 0.37287481 0.38285353 0.61576625 0.8349781  0.01078374]\n",
            "   [0.29669732 0.19128219 0.19062032 0.95433482 0.33806886 0.86351511]\n",
            "   [0.10989596 0.67121827 0.09779808 0.98979537 0.03183789 0.49725508]\n",
            "   [0.19922577 0.82722133 0.52695194 0.00348135 0.6102484  0.71317302]\n",
            "   [0.06205918 0.92378034 0.98496968 0.74637934 0.99520522 0.49248449]]\n",
            "\n",
            "  [[0.84496791 0.33278191 0.30789899 0.70985268 0.8834319  0.33120681]\n",
            "   [0.69399808 0.4681835  0.9696642  0.36461567 0.54261857 0.59097681]\n",
            "   [0.22647398 0.70997031 0.89279695 0.04026041 0.01584588 0.81751952]\n",
            "   [0.82838789 0.1381132  0.98798446 0.0400655  0.01322501 0.32172238]\n",
            "   [0.16311241 0.16034428 0.23208288 0.45142169 0.98531815 0.9424498 ]]\n",
            "\n",
            "  [[0.07232737 0.69899491 0.42466566 0.35478405 0.36394741 0.13039297]\n",
            "   [0.91418682 0.54768743 0.75074163 0.59716931 0.33787997 0.36796874]\n",
            "   [0.55206824 0.49698321 0.40890121 0.80893123 0.96969113 0.35998662]\n",
            "   [0.20277633 0.74155386 0.06928324 0.19936433 0.89051534 0.51756345]\n",
            "   [0.89150241 0.53468402 0.90086812 0.98325727 0.27538697 0.12726519]]]\n",
            "\n",
            "\n",
            " [[[0.49013747 0.36987083 0.55799764 0.34806863 0.37653369 0.99519577]\n",
            "   [0.49862014 0.1593184  0.90978264 0.71406868 0.84193297 0.78136013]\n",
            "   [0.88441408 0.426528   0.96543692 0.83846178 0.37600835 0.94969531]\n",
            "   [0.68809599 0.28643556 0.10711665 0.90253061 0.79643728 0.00215974]\n",
            "   [0.93666773 0.70544556 0.69673331 0.36445715 0.64279943 0.76080864]]\n",
            "\n",
            "  [[0.22558409 0.21588503 0.97323204 0.95499956 0.37324583 0.12790064]\n",
            "   [0.25779811 0.69268909 0.14134316 0.8287108  0.08565385 0.54404975]\n",
            "   [0.8822365  0.67046818 0.55708847 0.67993116 0.98523211 0.13112436]\n",
            "   [0.76923085 0.48591515 0.66088922 0.28860879 0.47414067 0.47039225]\n",
            "   [0.88924082 0.01910431 0.57416233 0.61189655 0.17702677 0.88420327]]\n",
            "\n",
            "  [[0.54311698 0.23749775 0.14967673 0.63802165 0.30214156 0.53887752]\n",
            "   [0.79668293 0.20641712 0.66256067 0.64961699 0.56946503 0.67979238]\n",
            "   [0.07811218 0.12283964 0.4292845  0.34558427 0.94733556 0.51167408]\n",
            "   [0.60533347 0.64745321 0.36876097 0.15384751 0.05698263 0.72420156]\n",
            "   [0.84525355 0.06055036 0.99785972 0.64477506 0.52029133 0.53555145]]\n",
            "\n",
            "  [[0.27241003 0.20394096 0.15016126 0.20990776 0.28742907 0.16533471]\n",
            "   [0.00792203 0.53473988 0.90365874 0.83741747 0.43331846 0.55965203]\n",
            "   [0.19813022 0.74215185 0.14892916 0.66782441 0.26327711 0.8884434 ]\n",
            "   [0.78335583 0.7872495  0.24149165 0.70055152 0.70218461 0.39230591]\n",
            "   [0.30906157 0.88700464 0.30929324 0.97691239 0.93736483 0.60472877]]]\n",
            "\n",
            "\n",
            " [[[0.34048112 0.88704388 0.54616061 0.4786192  0.09184171 0.02708354]\n",
            "   [0.71275083 0.26307654 0.19342401 0.45557594 0.70460693 0.20011574]\n",
            "   [0.50131282 0.60925318 0.22029799 0.31852282 0.80303161 0.87212263]\n",
            "   [0.59775783 0.52777591 0.48292617 0.01613738 0.33609246 0.58185134]\n",
            "   [0.03563038 0.20250988 0.70793261 0.60086671 0.94788996 0.59593398]]\n",
            "\n",
            "  [[0.0699927  0.98873389 0.53627716 0.95948254 0.88376401 0.93524169]\n",
            "   [0.41010919 0.99139227 0.27883063 0.02052319 0.79477918 0.95140905]\n",
            "   [0.81495777 0.46188399 0.2555807  0.8685727  0.19844656 0.50622886]\n",
            "   [0.0650679  0.39405736 0.6960444  0.33227934 0.10966246 0.42518195]\n",
            "   [0.73867182 0.24724671 0.92851551 0.80363267 0.99820464 0.88679594]]\n",
            "\n",
            "  [[0.8072429  0.85132686 0.76035744 0.07949235 0.1342087  0.16530374]\n",
            "   [0.54909767 0.3851746  0.36914743 0.35020864 0.09594079 0.33630475]\n",
            "   [0.23700808 0.45915489 0.03192811 0.62615646 0.99006565 0.23731456]\n",
            "   [0.36911297 0.02120417 0.63547888 0.83756073 0.51895776 0.3459129 ]\n",
            "   [0.66519442 0.26596374 0.18296347 0.65040532 0.19758535 0.1890244 ]]\n",
            "\n",
            "  [[0.98200539 0.38965208 0.14606763 0.73020988 0.68452996 0.53090426]\n",
            "   [0.26343939 0.52131333 0.83133761 0.47865759 0.3094254  0.76328768]\n",
            "   [0.55925595 0.68746795 0.80543939 0.78579217 0.79862208 0.64206365]\n",
            "   [0.01410536 0.16033226 0.22373897 0.03495552 0.35391033 0.65741138]\n",
            "   [0.40493793 0.6084332  0.21684925 0.85898307 0.88298047 0.90344254]]]]\n",
            "\n",
            "Sum Over Last Two Axes:\n",
            "[[13.01412165 14.90664541 15.00729172 15.49132847]\n",
            " [18.37311907 15.63198372 14.56955831 15.10615302]\n",
            " [13.85862571 17.55156679 12.34479773 16.22955165]]\n"
          ]
        }
      ],
      "source": [
        "import numpy as np\n",
        "\n",
        "# Create a four-dimensional array (example: shape=(3, 4, 5, 6))\n",
        "four_dim_array = np.random.rand(3, 4, 5, 6)\n",
        "\n",
        "# Get the sum over the last two axes at once\n",
        "sum_over_last_two_axes = np.sum(four_dim_array, axis=(-2, -1))\n",
        "\n",
        "# Print the original array and the result\n",
        "print(\"Original Array:\")\n",
        "print(four_dim_array)\n",
        "print(\"\\nSum Over Last Two Axes:\")\n",
        "print(sum_over_last_two_axes)\n"
      ],
      "id": "32af15f5"
    },
    {
      "cell_type": "markdown",
      "metadata": {
        "id": "c4cf083c"
      },
      "source": [
        "#### 68. Considering a one-dimensional vector D, how to compute means of subsets of D using a vector S of same size describing subset  indices? (★★★)"
      ],
      "id": "c4cf083c"
    },
    {
      "cell_type": "code",
      "execution_count": null,
      "metadata": {
        "id": "9600a2dd",
        "colab": {
          "base_uri": "https://localhost:8080/"
        },
        "outputId": "b2f31ee0-cb1f-449e-f504-913c778f5010"
      },
      "outputs": [
        {
          "output_type": "stream",
          "name": "stdout",
          "text": [
            "Vector D: [1 2 3 4 5 6]\n",
            "Subset Indices S: [0 1 0 1 2 2]\n",
            "Means of Subsets: [2.  3.  5.5 nan nan nan]\n"
          ]
        },
        {
          "output_type": "stream",
          "name": "stderr",
          "text": [
            "<ipython-input-37-31bde0ecc4bb>:16: RuntimeWarning: invalid value encountered in divide\n",
            "  means = sums / counts\n"
          ]
        }
      ],
      "source": [
        "import numpy as np\n",
        "\n",
        "def subset_means(D, S):\n",
        "    \"\"\"\n",
        "    Compute means of subsets of a one-dimensional vector D using a vector S of the same size.\n",
        "\n",
        "    Parameters:\n",
        "    - D: The one-dimensional vector.\n",
        "    - S: The vector of subset indices.\n",
        "\n",
        "    Returns:\n",
        "    - The means of subsets.\n",
        "    \"\"\"\n",
        "    counts = np.bincount(S, minlength=len(D))\n",
        "    sums = np.bincount(S, weights=D, minlength=len(D))\n",
        "    means = sums / counts\n",
        "    return means\n",
        "\n",
        "# Example usage:\n",
        "D = np.array([1, 2, 3, 4, 5, 6])\n",
        "S = np.array([0, 1, 0, 1, 2, 2])\n",
        "\n",
        "means_of_subsets = subset_means(D, S)\n",
        "\n",
        "print(\"Vector D:\", D)\n",
        "print(\"Subset Indices S:\", S)\n",
        "print(\"Means of Subsets:\", means_of_subsets)\n"
      ],
      "id": "9600a2dd"
    },
    {
      "cell_type": "markdown",
      "metadata": {
        "id": "a5e316db"
      },
      "source": [
        "#### 69. How to get the diagonal of a dot product? (★★★)"
      ],
      "id": "a5e316db"
    },
    {
      "cell_type": "code",
      "execution_count": null,
      "metadata": {
        "id": "94735dbd",
        "colab": {
          "base_uri": "https://localhost:8080/"
        },
        "outputId": "751eb7aa-42fe-4e57-8e24-9ec649b7e173"
      },
      "outputs": [
        {
          "output_type": "stream",
          "name": "stdout",
          "text": [
            "Matrix A:\n",
            "[[0.92884941 0.00519369 0.41268101]\n",
            " [0.51606389 0.7193064  0.54967951]\n",
            " [0.72507491 0.69810875 0.67807909]]\n",
            "\n",
            "Matrix B:\n",
            "[[0.04918083 0.56488882 0.60204118]\n",
            " [0.78318783 0.15448613 0.13131056]\n",
            " [0.39729583 0.40521254 0.04787748]]\n",
            "\n",
            "Dot Product:\n",
            "[[0.21370567 0.69272252 0.5796457 ]\n",
            " [0.80711785 0.62537861 0.4314615 ]\n",
            " [0.85180806 0.79220097 0.56065872]]\n",
            "\n",
            "Diagonal of Dot Product:\n",
            "[0.21370567 0.62537861 0.56065872]\n"
          ]
        }
      ],
      "source": [
        "import numpy as np\n",
        "\n",
        "# Create two matrices\n",
        "A = np.random.rand(3, 3)\n",
        "B = np.random.rand(3, 3)\n",
        "\n",
        "# Compute the dot product\n",
        "dot_product = np.einsum('ij,jk->ik', A, B)\n",
        "\n",
        "# Get the diagonal of the dot product\n",
        "diagonal_of_dot_product = np.diagonal(dot_product)\n",
        "\n",
        "# Print the original matrices, dot product, and diagonal\n",
        "print(\"Matrix A:\")\n",
        "print(A)\n",
        "print(\"\\nMatrix B:\")\n",
        "print(B)\n",
        "print(\"\\nDot Product:\")\n",
        "print(dot_product)\n",
        "print(\"\\nDiagonal of Dot Product:\")\n",
        "print(diagonal_of_dot_product)\n"
      ],
      "id": "94735dbd"
    },
    {
      "cell_type": "markdown",
      "metadata": {
        "id": "de727a7b"
      },
      "source": [
        "#### 70. Consider the vector [1, 2, 3, 4, 5], how to build a new vector with 3 consecutive zeros interleaved between each value? (★★★)"
      ],
      "id": "de727a7b"
    },
    {
      "cell_type": "code",
      "execution_count": null,
      "metadata": {
        "id": "982be812",
        "colab": {
          "base_uri": "https://localhost:8080/"
        },
        "outputId": "0cda2f62-0c38-4970-e3b2-51c3044a53ac"
      },
      "outputs": [
        {
          "output_type": "stream",
          "name": "stdout",
          "text": [
            "Original Vector: [1 2 3 4 5]\n",
            "New Vector: [1. 2. 3. 4. 5. 0. 0. 0. 0. 0. 0. 0. 0. 0. 0. 0. 0. 0. 0. 0.]\n"
          ]
        }
      ],
      "source": [
        "import numpy as np\n",
        "\n",
        "# Original vector\n",
        "original_vector = np.array([1, 2, 3, 4, 5])\n",
        "\n",
        "# Number of consecutive zeros to be interleaved\n",
        "consecutive_zeros = 3\n",
        "\n",
        "# Build a new vector with 3 consecutive zeros interleaved between each value\n",
        "new_vector = np.concatenate([original_vector, np.zeros(len(original_vector) * consecutive_zeros)], axis=0)\n",
        "\n",
        "# Reshape the new vector to insert zeros\n",
        "new_vector = new_vector.reshape(-1, consecutive_zeros + 1)\n",
        "\n",
        "# Flatten the array to get the final result\n",
        "final_result = new_vector.flatten()\n",
        "\n",
        "print(\"Original Vector:\", original_vector)\n",
        "print(\"New Vector:\", final_result)\n"
      ],
      "id": "982be812"
    },
    {
      "cell_type": "markdown",
      "metadata": {
        "id": "a9a73d6b"
      },
      "source": [
        "#### 71. Consider an array of dimension (5,5,3), how to mulitply it by an array with dimensions (5,5)? (★★★)"
      ],
      "id": "a9a73d6b"
    },
    {
      "cell_type": "code",
      "execution_count": null,
      "metadata": {
        "id": "282a90cc",
        "colab": {
          "base_uri": "https://localhost:8080/"
        },
        "outputId": "0ea326b5-e0f0-47ae-8ff6-7c4baed78cc4"
      },
      "outputs": [
        {
          "output_type": "stream",
          "name": "stdout",
          "text": [
            "Shape of 3D array: (5, 5, 3)\n",
            "Shape of 2D array: (5, 5)\n",
            "Shape of Result: (5, 5, 3)\n"
          ]
        }
      ],
      "source": [
        "import numpy as np\n",
        "\n",
        "# Create a 3D array of dimensions (5, 5, 3)\n",
        "array_3d = np.random.rand(5, 5, 3)\n",
        "\n",
        "# Create a 2D array of dimensions (5, 5)\n",
        "array_2d = np.random.rand(5, 5)\n",
        "\n",
        "# Multiply the 3D array by the 2D array using broadcasting\n",
        "result = array_3d * array_2d[:, :, np.newaxis]\n",
        "\n",
        "# Print the shapes of the original arrays and the result\n",
        "print(\"Shape of 3D array:\", array_3d.shape)\n",
        "print(\"Shape of 2D array:\", array_2d.shape)\n",
        "print(\"Shape of Result:\", result.shape)\n"
      ],
      "id": "282a90cc"
    },
    {
      "cell_type": "markdown",
      "metadata": {
        "id": "a951c78f"
      },
      "source": [
        "#### 72. How to swap two rows of an array? (★★★)"
      ],
      "id": "a951c78f"
    },
    {
      "cell_type": "code",
      "execution_count": null,
      "metadata": {
        "id": "e29b3fde",
        "colab": {
          "base_uri": "https://localhost:8080/"
        },
        "outputId": "e719bd81-a0b1-436f-bddc-e18aa47f0d7a"
      },
      "outputs": [
        {
          "output_type": "stream",
          "name": "stdout",
          "text": [
            "Array with Swapped Rows:\n",
            "[[4 5 6]\n",
            " [1 2 3]\n",
            " [7 8 9]]\n"
          ]
        }
      ],
      "source": [
        "import numpy as np\n",
        "\n",
        "# Create a sample 2D array\n",
        "array = np.array([[1, 2, 3],\n",
        "                  [4, 5, 6],\n",
        "                  [7, 8, 9]])\n",
        "\n",
        "# Swap the first and second rows (0-based indexing)\n",
        "array[[0, 1]] = array[[1, 0]]\n",
        "\n",
        "# Print the result\n",
        "print(\"Array with Swapped Rows:\")\n",
        "print(array)\n"
      ],
      "id": "e29b3fde"
    },
    {
      "cell_type": "markdown",
      "metadata": {
        "id": "43b639e8"
      },
      "source": [
        "#### 73. Consider a set of 10 triplets describing 10 triangles (with shared vertices), find the set of unique line segments composing all the  triangles (★★★)"
      ],
      "id": "43b639e8"
    },
    {
      "cell_type": "code",
      "execution_count": null,
      "metadata": {
        "id": "147e1034",
        "colab": {
          "base_uri": "https://localhost:8080/"
        },
        "outputId": "1b017086-46bb-4db1-dd05-438547879896"
      },
      "outputs": [
        {
          "output_type": "stream",
          "name": "stdout",
          "text": [
            "Original Triangles:\n",
            "[[[4 4]\n",
            "  [3 5]\n",
            "  [7 3]]\n",
            "\n",
            " [[5 8]\n",
            "  [9 9]\n",
            "  [3 2]]\n",
            "\n",
            " [[6 8]\n",
            "  [6 6]\n",
            "  [9 1]]\n",
            "\n",
            " [[9 2]\n",
            "  [3 6]\n",
            "  [4 9]]\n",
            "\n",
            " [[1 5]\n",
            "  [9 7]\n",
            "  [7 3]]\n",
            "\n",
            " [[8 1]\n",
            "  [2 2]\n",
            "  [4 7]]\n",
            "\n",
            " [[6 4]\n",
            "  [7 5]\n",
            "  [3 2]]\n",
            "\n",
            " [[1 9]\n",
            "  [8 1]\n",
            "  [1 3]]\n",
            "\n",
            " [[7 8]\n",
            "  [5 4]\n",
            "  [7 9]]\n",
            "\n",
            " [[5 8]\n",
            "  [4 7]\n",
            "  [6 6]]]\n",
            "\n",
            "Unique Line Segments:\n",
            "[[1 3]\n",
            " [1 5]\n",
            " [1 9]\n",
            " [2 2]\n",
            " [3 2]\n",
            " [3 5]\n",
            " [3 6]\n",
            " [4 4]\n",
            " [4 7]\n",
            " [4 9]\n",
            " [5 4]\n",
            " [5 8]\n",
            " [6 4]\n",
            " [6 6]\n",
            " [6 8]\n",
            " [7 3]\n",
            " [7 5]\n",
            " [7 8]\n",
            " [7 9]\n",
            " [8 1]\n",
            " [9 1]\n",
            " [9 2]\n",
            " [9 7]\n",
            " [9 9]]\n"
          ]
        }
      ],
      "source": [
        "import numpy as np\n",
        "\n",
        "# Create a set of 10 triplets describing 10 triangles\n",
        "triangles = np.random.randint(1, 10, size=(10, 3, 2))\n",
        "\n",
        "# Reshape the triangles array to (30, 2) to represent each vertex as a separate point\n",
        "points = triangles.reshape(-1, 2)\n",
        "\n",
        "# Use numpy.unique to find the unique line segments\n",
        "unique_segments = np.unique(points, axis=0)\n",
        "\n",
        "# Print the original triangles and the unique line segments\n",
        "print(\"Original Triangles:\")\n",
        "print(triangles)\n",
        "print(\"\\nUnique Line Segments:\")\n",
        "print(unique_segments)\n"
      ],
      "id": "147e1034"
    },
    {
      "cell_type": "markdown",
      "metadata": {
        "id": "d41de585"
      },
      "source": [
        "#### 74. Given a sorted array C that corresponds to a bincount, how to produce an array A such that np.bincount(A) == C? (★★★)"
      ],
      "id": "d41de585"
    },
    {
      "cell_type": "code",
      "execution_count": null,
      "metadata": {
        "id": "5f5d6e36",
        "colab": {
          "base_uri": "https://localhost:8080/"
        },
        "outputId": "19aeecc7-cd6c-4a94-aebf-6d8905352f76"
      },
      "outputs": [
        {
          "output_type": "stream",
          "name": "stdout",
          "text": [
            "Given sorted array C:\n",
            "[0 1 2 0 1 3 1 2 1 4]\n",
            "\n",
            "Generated array A:\n",
            "[1 2 2 4 5 5 5 6 7 7 8 9 9 9 9]\n",
            "\n",
            "Check if np.bincount(A) == C:\n",
            "[ True  True  True  True  True  True  True  True  True  True]\n"
          ]
        }
      ],
      "source": [
        "import numpy as np\n",
        "\n",
        "# Given sorted array C (bincount)\n",
        "C = np.array([0, 1, 2, 0, 1, 3, 1, 2, 1, 4])\n",
        "\n",
        "# Generate array A such that np.bincount(A) == C\n",
        "A = np.repeat(np.arange(len(C)), C)\n",
        "\n",
        "# Print the result\n",
        "print(\"Given sorted array C:\")\n",
        "print(C)\n",
        "print(\"\\nGenerated array A:\")\n",
        "print(A)\n",
        "\n",
        "# Check if np.bincount(A) equals C\n",
        "print(\"\\nCheck if np.bincount(A) == C:\")\n",
        "print(np.bincount(A) == C)\n"
      ],
      "id": "5f5d6e36"
    },
    {
      "cell_type": "markdown",
      "metadata": {
        "id": "b50adf7c"
      },
      "source": [
        "#### 75. How to compute averages using a sliding window over an array? (★★★)"
      ],
      "id": "b50adf7c"
    },
    {
      "cell_type": "code",
      "execution_count": null,
      "metadata": {
        "id": "e631a9d2",
        "colab": {
          "base_uri": "https://localhost:8080/"
        },
        "outputId": "b2de2d7d-e469-42bc-dfa9-5909fb0d5734"
      },
      "outputs": [
        {
          "output_type": "stream",
          "name": "stdout",
          "text": [
            "Original Array: [1 2 3 4 5 6 7 8 9]\n",
            "Averages with Sliding Window Size 3: [2. 3. 4. 5. 6. 7. 8.]\n"
          ]
        }
      ],
      "source": [
        "import numpy as np\n",
        "\n",
        "def sliding_window_average(arr, window_size):\n",
        "    \"\"\"\n",
        "    Compute averages using a sliding window over an array.\n",
        "\n",
        "    Parameters:\n",
        "    - arr: The input array.\n",
        "    - window_size: The size of the sliding window.\n",
        "\n",
        "    Returns:\n",
        "    - An array containing the averages within each sliding window.\n",
        "    \"\"\"\n",
        "    cumsum = np.cumsum(arr)\n",
        "    cumsum[window_size:] = cumsum[window_size:] - cumsum[:-window_size]\n",
        "    averages = cumsum[window_size - 1:] / window_size\n",
        "    return averages\n",
        "\n",
        "# Example usage:\n",
        "arr = np.array([1, 2, 3, 4, 5, 6, 7, 8, 9])\n",
        "window_size = 3\n",
        "\n",
        "result = sliding_window_average(arr, window_size)\n",
        "\n",
        "print(\"Original Array:\", arr)\n",
        "print(\"Averages with Sliding Window Size {}: {}\".format(window_size, result))\n"
      ],
      "id": "e631a9d2"
    },
    {
      "cell_type": "markdown",
      "metadata": {
        "id": "1ab4c50d"
      },
      "source": [
        "#### 76. Consider a one-dimensional array Z, build a two-dimensional array whose first row is (Z[0],Z[1],Z[2]) and each subsequent row is  shifted by 1 (last row should be (Z[-3],Z[-2],Z[-1]) (★★★)"
      ],
      "id": "1ab4c50d"
    },
    {
      "cell_type": "code",
      "execution_count": null,
      "metadata": {
        "id": "3ccfe2c0",
        "colab": {
          "base_uri": "https://localhost:8080/"
        },
        "outputId": "ca8a95b7-0652-4297-d679-bf843d9164c3"
      },
      "outputs": [
        {
          "output_type": "stream",
          "name": "stdout",
          "text": [
            "One-dimensional array Z:\n",
            "[1 2 3 4 5 6 7 8 9]\n",
            "\n",
            "Two-dimensional array:\n",
            "[[1 2 3 4 5 6 7]\n",
            " [2 3 4 5 6 7 8]\n",
            " [3 4 5 6 7 8 9]]\n"
          ]
        }
      ],
      "source": [
        "import numpy as np\n",
        "\n",
        "# Create a one-dimensional array Z\n",
        "Z = np.array([1, 2, 3, 4, 5, 6, 7, 8, 9])\n",
        "\n",
        "# Build the two-dimensional array\n",
        "result = np.column_stack([Z[i:i+3] for i in range(len(Z)-2)])\n",
        "\n",
        "# Print the result\n",
        "print(\"One-dimensional array Z:\")\n",
        "print(Z)\n",
        "print(\"\\nTwo-dimensional array:\")\n",
        "print(result)\n"
      ],
      "id": "3ccfe2c0"
    },
    {
      "cell_type": "markdown",
      "metadata": {
        "id": "5b4fe59d"
      },
      "source": [
        "#### 77. How to negate a boolean, or to change the sign of a float inplace? (★★★)"
      ],
      "id": "5b4fe59d"
    },
    {
      "cell_type": "code",
      "execution_count": null,
      "metadata": {
        "id": "3c2373ff",
        "colab": {
          "base_uri": "https://localhost:8080/",
          "height": 245
        },
        "outputId": "8021d8ac-1d1c-4a8a-d919-15caf104d1d4"
      },
      "outputs": [
        {
          "output_type": "error",
          "ename": "TypeError",
          "evalue": "ignored",
          "traceback": [
            "\u001b[0;31m---------------------------------------------------------------------------\u001b[0m",
            "\u001b[0;31mTypeError\u001b[0m                                 Traceback (most recent call last)",
            "\u001b[0;32m<ipython-input-28-b4da9daa60e4>\u001b[0m in \u001b[0;36m<cell line: 6>\u001b[0;34m()\u001b[0m\n\u001b[1;32m      4\u001b[0m \u001b[0mbool_array\u001b[0m \u001b[0;34m=\u001b[0m \u001b[0mnp\u001b[0m\u001b[0;34m.\u001b[0m\u001b[0marray\u001b[0m\u001b[0;34m(\u001b[0m\u001b[0;34m[\u001b[0m\u001b[0;32mTrue\u001b[0m\u001b[0;34m,\u001b[0m \u001b[0;32mFalse\u001b[0m\u001b[0;34m,\u001b[0m \u001b[0;32mTrue\u001b[0m\u001b[0;34m,\u001b[0m \u001b[0;32mFalse\u001b[0m\u001b[0;34m]\u001b[0m\u001b[0;34m)\u001b[0m\u001b[0;34m\u001b[0m\u001b[0;34m\u001b[0m\u001b[0m\n\u001b[1;32m      5\u001b[0m \u001b[0mbool_array_negated\u001b[0m \u001b[0;34m=\u001b[0m \u001b[0mnp\u001b[0m\u001b[0;34m.\u001b[0m\u001b[0mones_like\u001b[0m\u001b[0;34m(\u001b[0m\u001b[0mbool_array\u001b[0m\u001b[0;34m)\u001b[0m\u001b[0;34m\u001b[0m\u001b[0;34m\u001b[0m\u001b[0m\n\u001b[0;32m----> 6\u001b[0;31m \u001b[0mbool_array_negated\u001b[0m \u001b[0;34m-=\u001b[0m \u001b[0mbool_array\u001b[0m\u001b[0;34m\u001b[0m\u001b[0;34m\u001b[0m\u001b[0m\n\u001b[0m\u001b[1;32m      7\u001b[0m \u001b[0;34m\u001b[0m\u001b[0m\n\u001b[1;32m      8\u001b[0m \u001b[0mprint\u001b[0m\u001b[0;34m(\u001b[0m\u001b[0;34m\"Original Boolean Array:\"\u001b[0m\u001b[0;34m,\u001b[0m \u001b[0mbool_array\u001b[0m\u001b[0;34m)\u001b[0m\u001b[0;34m\u001b[0m\u001b[0;34m\u001b[0m\u001b[0m\n",
            "\u001b[0;31mTypeError\u001b[0m: numpy boolean subtract, the `-` operator, is not supported, use the bitwise_xor, the `^` operator, or the logical_xor function instead."
          ]
        }
      ],
      "source": [
        "import numpy as np\n",
        "\n",
        "# Example 1: Negate a boolean array\n",
        "bool_array = np.array([True, False, True, False])\n",
        "bool_array_negated = np.ones_like(bool_array)\n",
        "bool_array_negated -= bool_array\n",
        "\n",
        "print(\"Original Boolean Array:\", bool_array)\n",
        "print(\"Negated Boolean Array:\", bool_array_negated)\n",
        "\n",
        "# Example 2: Change the sign of a float array\n",
        "float_array = np.array([1.0, -2.5, 3.7, -4.2])\n",
        "float_array *= -1\n",
        "\n",
        "print(\"\\nOriginal Float Array:\", float_array)\n"
      ],
      "id": "3c2373ff"
    },
    {
      "cell_type": "markdown",
      "metadata": {
        "id": "119ab5af"
      },
      "source": [
        "#### 78. Consider 2 sets of points P0,P1 describing lines (2d) and a point p, how to compute distance from p to each line i (P0[i],P1[i])? (★★★)"
      ],
      "id": "119ab5af"
    },
    {
      "cell_type": "code",
      "execution_count": null,
      "metadata": {
        "id": "1d8d06dc",
        "colab": {
          "base_uri": "https://localhost:8080/"
        },
        "outputId": "ede15f64-0613-47b8-d2d3-696b53e15436"
      },
      "outputs": [
        {
          "output_type": "stream",
          "name": "stdout",
          "text": [
            "Starting Points (P0):\n",
            "[[1 2]\n",
            " [3 4]\n",
            " [5 6]]\n",
            "\n",
            "Ending Points (P1):\n",
            "[[ 7  8]\n",
            " [ 9 10]\n",
            " [11 12]]\n",
            "\n",
            "Point p: [13 14]\n",
            "\n",
            "Distances to Lines:\n",
            "[0. 0. 0.]\n"
          ]
        }
      ],
      "source": [
        "import numpy as np\n",
        "\n",
        "def distance_to_lines(P0, P1, p):\n",
        "    \"\"\"\n",
        "    Compute the distance from a point p to each line segment defined by pairs of points P0 and P1.\n",
        "\n",
        "    Parameters:\n",
        "    - P0: Array of shape (N, 2) representing the starting points of line segments.\n",
        "    - P1: Array of shape (N, 2) representing the ending points of line segments.\n",
        "    - p: Array representing the point.\n",
        "\n",
        "    Returns:\n",
        "    - Array of distances from p to each line segment.\n",
        "    \"\"\"\n",
        "    numerator = np.abs((p[1] - P0[:, 1]) * (P1[:, 0] - P0[:, 0]) - (p[0] - P0[:, 0]) * (P1[:, 1] - P0[:, 1]))\n",
        "    denominator = np.sqrt((P1[:, 0] - P0[:, 0])**2 + (P1[:, 1] - P0[:, 1])**2)\n",
        "    distances = numerator / denominator\n",
        "    return distances\n",
        "\n",
        "# Example usage:\n",
        "P0 = np.array([[1, 2], [3, 4], [5, 6]])\n",
        "P1 = np.array([[7, 8], [9, 10], [11, 12]])\n",
        "p = np.array([13, 14])\n",
        "\n",
        "distances = distance_to_lines(P0, P1, p)\n",
        "\n",
        "print(\"Starting Points (P0):\")\n",
        "print(P0)\n",
        "print(\"\\nEnding Points (P1):\")\n",
        "print(P1)\n",
        "print(\"\\nPoint p:\", p)\n",
        "print(\"\\nDistances to Lines:\")\n",
        "print(distances)\n"
      ],
      "id": "1d8d06dc"
    },
    {
      "cell_type": "markdown",
      "metadata": {
        "id": "e5e7f323"
      },
      "source": [
        "#### 79. Consider 2 sets of points P0,P1 describing lines (2d) and a set of points P, how to compute distance from each point j (P[j]) to each line i (P0[i],P1[i])? (★★★)"
      ],
      "id": "e5e7f323"
    },
    {
      "cell_type": "code",
      "execution_count": null,
      "metadata": {
        "id": "d0ce77e2",
        "colab": {
          "base_uri": "https://localhost:8080/"
        },
        "outputId": "7a31f9a2-97bb-4e67-972b-c108c8623d7d"
      },
      "outputs": [
        {
          "output_type": "stream",
          "name": "stdout",
          "text": [
            "Starting Points (P0):\n",
            "[[1 2]\n",
            " [3 4]\n",
            " [5 6]]\n",
            "\n",
            "Ending Points (P1):\n",
            "[[ 7  8]\n",
            " [ 9 10]\n",
            " [11 12]]\n",
            "\n",
            "Points (P):\n",
            "[[13 14]\n",
            " [15 16]\n",
            " [17 18]]\n",
            "\n",
            "Distances to Lines:\n",
            "[[0. 0. 0.]\n",
            " [0. 0. 0.]\n",
            " [0. 0. 0.]]\n"
          ]
        }
      ],
      "source": [
        "import numpy as np\n",
        "\n",
        "def distances_to_lines(P0, P1, P):\n",
        "    \"\"\"\n",
        "    Compute the distances from each point in set P to each line segment defined by pairs of points P0 and P1.\n",
        "\n",
        "    Parameters:\n",
        "    - P0: Array of shape (N, 2) representing the starting points of line segments.\n",
        "    - P1: Array of shape (N, 2) representing the ending points of line segments.\n",
        "    - P: Array of shape (M, 2) representing the set of points.\n",
        "\n",
        "    Returns:\n",
        "    - Array of shape (M, N) containing distances from each point in P to each line segment.\n",
        "    \"\"\"\n",
        "    numerator = np.abs((P[:, 1][:, np.newaxis] - P0[:, 1]) * (P1[:, 0] - P0[:, 0]) - (P[:, 0][:, np.newaxis] - P0[:, 0]) * (P1[:, 1] - P0[:, 1]))\n",
        "    denominator = np.sqrt((P1[:, 0] - P0[:, 0])**2 + (P1[:, 1] - P0[:, 1])**2)\n",
        "    distances = numerator / denominator\n",
        "    return distances\n",
        "\n",
        "# Example usage:\n",
        "P0 = np.array([[1, 2], [3, 4], [5, 6]])\n",
        "P1 = np.array([[7, 8], [9, 10], [11, 12]])\n",
        "P = np.array([[13, 14], [15, 16], [17, 18]])\n",
        "\n",
        "distances = distances_to_lines(P0, P1, P)\n",
        "\n",
        "print(\"Starting Points (P0):\")\n",
        "print(P0)\n",
        "print(\"\\nEnding Points (P1):\")\n",
        "print(P1)\n",
        "print(\"\\nPoints (P):\")\n",
        "print(P)\n",
        "print(\"\\nDistances to Lines:\")\n",
        "print(distances)\n"
      ],
      "id": "d0ce77e2"
    },
    {
      "cell_type": "markdown",
      "metadata": {
        "id": "9b9d03eb"
      },
      "source": [
        "#### 80. Consider an arbitrary array, write a function that extract a subpart with a fixed shape and centered on a given element (pad with a `fill` value when necessary) (★★★)"
      ],
      "id": "9b9d03eb"
    },
    {
      "cell_type": "code",
      "execution_count": null,
      "metadata": {
        "id": "ec2b7ae3",
        "colab": {
          "base_uri": "https://localhost:8080/"
        },
        "outputId": "821d9b34-6b78-4e19-98e0-0676df32dda9"
      },
      "outputs": [
        {
          "output_type": "stream",
          "name": "stdout",
          "text": [
            "Input Array:\n",
            "[[ 1  2  3  4  5]\n",
            " [ 6  7  8  9 10]\n",
            " [11 12 13 14 15]\n",
            " [16 17 18 19 20]]\n",
            "\n",
            "Extracted Subpart:\n",
            "[[ 7  8  9]\n",
            " [12 13 14]\n",
            " [17 18 19]]\n"
          ]
        }
      ],
      "source": [
        "import numpy as np\n",
        "\n",
        "def extract_subpart(arr, center, shape, fill_value=0):\n",
        "    \"\"\"\n",
        "    Extract a subpart with a fixed shape centered on a given element from an arbitrary array.\n",
        "\n",
        "    Parameters:\n",
        "    - arr: The input array.\n",
        "    - center: The center coordinates (row, column) for the extraction.\n",
        "    - shape: The shape of the subpart (rows, columns).\n",
        "    - fill_value: The value to fill when the subpart extends beyond the boundaries of the input array.\n",
        "\n",
        "    Returns:\n",
        "    - The extracted subpart.\n",
        "    \"\"\"\n",
        "    row_center, col_center = center\n",
        "    rows, cols = shape\n",
        "\n",
        "    start_row = max(0, row_center - rows // 2)\n",
        "    end_row = min(arr.shape[0], row_center + (rows + 1) // 2)\n",
        "\n",
        "    start_col = max(0, col_center - cols // 2)\n",
        "    end_col = min(arr.shape[1], col_center + (cols + 1) // 2)\n",
        "\n",
        "    subpart = np.full(shape, fill_value, dtype=arr.dtype)\n",
        "    subpart[start_row - row_center + rows // 2:end_row - row_center + rows // 2,\n",
        "            start_col - col_center + cols // 2:end_col - col_center + cols // 2] = \\\n",
        "        arr[start_row:end_row, start_col:end_col]\n",
        "\n",
        "    return subpart\n",
        "\n",
        "# Example usage:\n",
        "input_array = np.array([[1, 2, 3, 4, 5],\n",
        "                        [6, 7, 8, 9, 10],\n",
        "                        [11, 12, 13, 14, 15],\n",
        "                        [16, 17, 18, 19, 20]])\n",
        "\n",
        "center_coordinates = (2, 2)\n",
        "subpart_shape = (3, 3)\n",
        "\n",
        "result = extract_subpart(input_array, center_coordinates, subpart_shape, fill_value=-1)\n",
        "\n",
        "print(\"Input Array:\")\n",
        "print(input_array)\n",
        "print(\"\\nExtracted Subpart:\")\n",
        "print(result)\n"
      ],
      "id": "ec2b7ae3"
    },
    {
      "cell_type": "markdown",
      "metadata": {
        "id": "27794913"
      },
      "source": [
        "#### 81. Consider an array Z = [1,2,3,4,5,6,7,8,9,10,11,12,13,14], how to generate an array R = [[1,2,3,4], [2,3,4,5], [3,4,5,6], ..., [11,12,13,14]]? (★★★)"
      ],
      "id": "27794913"
    },
    {
      "cell_type": "code",
      "execution_count": null,
      "metadata": {
        "id": "f3e7878b",
        "colab": {
          "base_uri": "https://localhost:8080/"
        },
        "outputId": "b167ae93-6fd3-4e97-9662-173c02b34e4b"
      },
      "outputs": [
        {
          "output_type": "stream",
          "name": "stdout",
          "text": [
            "Original Array Z:\n",
            "[ 1  2  3  4  5  6  7  8  9 10 11 12 13 14]\n",
            "\n",
            "Generated Array R:\n",
            "[[ 1  2  3  4]\n",
            " [ 2  3  4  5]\n",
            " [ 3  4  5  6]\n",
            " [ 4  5  6  7]\n",
            " [ 5  6  7  8]\n",
            " [ 6  7  8  9]\n",
            " [ 7  8  9 10]\n",
            " [ 8  9 10 11]\n",
            " [ 9 10 11 12]\n",
            " [10 11 12 13]\n",
            " [11 12 13 14]]\n"
          ]
        }
      ],
      "source": [
        "import numpy as np\n",
        "\n",
        "# Given array Z\n",
        "Z = np.array([1, 2, 3, 4, 5, 6, 7, 8, 9, 10, 11, 12, 13, 14])\n",
        "\n",
        "# Define the window size\n",
        "window_size = 4\n",
        "\n",
        "# Use stride_tricks to create the array R\n",
        "R = np.lib.stride_tricks.sliding_window_view(Z, (window_size,))\n",
        "\n",
        "# Print the result\n",
        "print(\"Original Array Z:\")\n",
        "print(Z)\n",
        "print(\"\\nGenerated Array R:\")\n",
        "print(R)\n"
      ],
      "id": "f3e7878b"
    },
    {
      "cell_type": "markdown",
      "metadata": {
        "id": "fae786f5"
      },
      "source": [
        "#### 82. Compute a matrix rank (★★★)"
      ],
      "id": "fae786f5"
    },
    {
      "cell_type": "code",
      "execution_count": null,
      "metadata": {
        "id": "64b9615b",
        "colab": {
          "base_uri": "https://localhost:8080/"
        },
        "outputId": "d2c71ffa-a8cc-4bea-8dbc-a948e62778df"
      },
      "outputs": [
        {
          "output_type": "stream",
          "name": "stdout",
          "text": [
            "Original Matrix:\n",
            "[[1 2 3]\n",
            " [4 5 6]\n",
            " [7 8 9]]\n",
            "\n",
            "Rank of the Matrix: 2\n"
          ]
        }
      ],
      "source": [
        "import numpy as np\n",
        "\n",
        "# Create a sample matrix\n",
        "matrix = np.array([[1, 2, 3],\n",
        "                   [4, 5, 6],\n",
        "                   [7, 8, 9]])\n",
        "\n",
        "# Compute the rank of the matrix\n",
        "rank = np.linalg.matrix_rank(matrix)\n",
        "\n",
        "# Print the result\n",
        "print(\"Original Matrix:\")\n",
        "print(matrix)\n",
        "print(\"\\nRank of the Matrix:\", rank)\n"
      ],
      "id": "64b9615b"
    },
    {
      "cell_type": "markdown",
      "metadata": {
        "id": "c85aa0b9"
      },
      "source": [
        "#### 83. How to find the most frequent value in an array?"
      ],
      "id": "c85aa0b9"
    },
    {
      "cell_type": "code",
      "execution_count": null,
      "metadata": {
        "id": "056be85b",
        "colab": {
          "base_uri": "https://localhost:8080/"
        },
        "outputId": "3048b6d5-19d9-4fc5-9906-09027dca7160"
      },
      "outputs": [
        {
          "output_type": "stream",
          "name": "stdout",
          "text": [
            "Original Array:\n",
            "[1 2 2 3 3 3 4 4 4 4 5]\n",
            "\n",
            "Most Frequent Value: 4\n"
          ]
        }
      ],
      "source": [
        "import numpy as np\n",
        "\n",
        "# Create a sample array\n",
        "array = np.array([1, 2, 2, 3, 3, 3, 4, 4, 4, 4, 5])\n",
        "\n",
        "# Find the most frequent value\n",
        "most_frequent_value = np.argmax(np.bincount(array))\n",
        "\n",
        "# Print the result\n",
        "print(\"Original Array:\")\n",
        "print(array)\n",
        "print(\"\\nMost Frequent Value:\", most_frequent_value)\n"
      ],
      "id": "056be85b"
    },
    {
      "cell_type": "markdown",
      "metadata": {
        "id": "0ff2344d"
      },
      "source": [
        "#### 84. Extract all the contiguous 3x3 blocks from a random 10x10 matrix (★★★)"
      ],
      "id": "0ff2344d"
    },
    {
      "cell_type": "code",
      "execution_count": null,
      "metadata": {
        "id": "d58b1318",
        "colab": {
          "base_uri": "https://localhost:8080/"
        },
        "outputId": "fd62385a-39f2-440c-a616-8ae0dd9979d7"
      },
      "outputs": [
        {
          "output_type": "stream",
          "name": "stdout",
          "text": [
            "Original Matrix:\n",
            "[[0.26747458 0.29424726 0.51486153 0.89387243 0.99625061 0.49459435\n",
            "  0.70028732 0.43134106 0.03371053 0.96291977]\n",
            " [0.37382132 0.4329768  0.93009845 0.69520607 0.84036455 0.04765635\n",
            "  0.76590403 0.40855215 0.16685302 0.93261558]\n",
            " [0.18888079 0.90263982 0.58195274 0.85253169 0.83427956 0.30317513\n",
            "  0.48295764 0.44668407 0.10725893 0.50732751]\n",
            " [0.67107037 0.74544828 0.22065806 0.13829391 0.01023059 0.40007655\n",
            "  0.65959258 0.96063585 0.63298173 0.55320562]\n",
            " [0.83184273 0.20851175 0.6372784  0.82063939 0.34174387 0.57279792\n",
            "  0.88691842 0.95530876 0.97519789 0.92763718]\n",
            " [0.80965161 0.23056848 0.65641722 0.14310472 0.80524358 0.7682759\n",
            "  0.90971327 0.09420104 0.75205749 0.18465114]\n",
            " [0.75793671 0.69996607 0.12225575 0.18888907 0.34644897 0.67486997\n",
            "  0.73831509 0.87170135 0.62824085 0.60894488]\n",
            " [0.88963265 0.07122393 0.83595022 0.18156534 0.85298207 0.10406946\n",
            "  0.90898807 0.39663733 0.51695773 0.052181  ]\n",
            " [0.11157672 0.19069401 0.16604776 0.64617466 0.09525543 0.43159552\n",
            "  0.33846367 0.10408525 0.07844009 0.68697574]\n",
            " [0.66671204 0.65086961 0.96040509 0.35974954 0.44653548 0.83752037\n",
            "  0.38892954 0.99141143 0.14246636 0.40298695]]\n",
            "\n",
            "Contiguous 3x3 Blocks:\n",
            "[[0.26747458 0.29424726 0.51486153]\n",
            " [0.37382132 0.4329768  0.93009845]\n",
            " [0.18888079 0.90263982 0.58195274]]\n",
            "\n",
            "[[0.29424726 0.51486153 0.89387243]\n",
            " [0.4329768  0.93009845 0.69520607]\n",
            " [0.90263982 0.58195274 0.85253169]]\n",
            "\n",
            "[[0.51486153 0.89387243 0.99625061]\n",
            " [0.93009845 0.69520607 0.84036455]\n",
            " [0.58195274 0.85253169 0.83427956]]\n",
            "\n",
            "[[0.89387243 0.99625061 0.49459435]\n",
            " [0.69520607 0.84036455 0.04765635]\n",
            " [0.85253169 0.83427956 0.30317513]]\n",
            "\n",
            "[[0.99625061 0.49459435 0.70028732]\n",
            " [0.84036455 0.04765635 0.76590403]\n",
            " [0.83427956 0.30317513 0.48295764]]\n",
            "\n",
            "[[0.49459435 0.70028732 0.43134106]\n",
            " [0.04765635 0.76590403 0.40855215]\n",
            " [0.30317513 0.48295764 0.44668407]]\n",
            "\n",
            "[[0.70028732 0.43134106 0.03371053]\n",
            " [0.76590403 0.40855215 0.16685302]\n",
            " [0.48295764 0.44668407 0.10725893]]\n",
            "\n",
            "[[0.43134106 0.03371053 0.96291977]\n",
            " [0.40855215 0.16685302 0.93261558]\n",
            " [0.44668407 0.10725893 0.50732751]]\n",
            "\n",
            "[[0.37382132 0.4329768  0.93009845]\n",
            " [0.18888079 0.90263982 0.58195274]\n",
            " [0.67107037 0.74544828 0.22065806]]\n",
            "\n",
            "[[0.4329768  0.93009845 0.69520607]\n",
            " [0.90263982 0.58195274 0.85253169]\n",
            " [0.74544828 0.22065806 0.13829391]]\n",
            "\n",
            "[[0.93009845 0.69520607 0.84036455]\n",
            " [0.58195274 0.85253169 0.83427956]\n",
            " [0.22065806 0.13829391 0.01023059]]\n",
            "\n",
            "[[0.69520607 0.84036455 0.04765635]\n",
            " [0.85253169 0.83427956 0.30317513]\n",
            " [0.13829391 0.01023059 0.40007655]]\n",
            "\n",
            "[[0.84036455 0.04765635 0.76590403]\n",
            " [0.83427956 0.30317513 0.48295764]\n",
            " [0.01023059 0.40007655 0.65959258]]\n",
            "\n",
            "[[0.04765635 0.76590403 0.40855215]\n",
            " [0.30317513 0.48295764 0.44668407]\n",
            " [0.40007655 0.65959258 0.96063585]]\n",
            "\n",
            "[[0.76590403 0.40855215 0.16685302]\n",
            " [0.48295764 0.44668407 0.10725893]\n",
            " [0.65959258 0.96063585 0.63298173]]\n",
            "\n",
            "[[0.40855215 0.16685302 0.93261558]\n",
            " [0.44668407 0.10725893 0.50732751]\n",
            " [0.96063585 0.63298173 0.55320562]]\n",
            "\n",
            "[[0.18888079 0.90263982 0.58195274]\n",
            " [0.67107037 0.74544828 0.22065806]\n",
            " [0.83184273 0.20851175 0.6372784 ]]\n",
            "\n",
            "[[0.90263982 0.58195274 0.85253169]\n",
            " [0.74544828 0.22065806 0.13829391]\n",
            " [0.20851175 0.6372784  0.82063939]]\n",
            "\n",
            "[[0.58195274 0.85253169 0.83427956]\n",
            " [0.22065806 0.13829391 0.01023059]\n",
            " [0.6372784  0.82063939 0.34174387]]\n",
            "\n",
            "[[0.85253169 0.83427956 0.30317513]\n",
            " [0.13829391 0.01023059 0.40007655]\n",
            " [0.82063939 0.34174387 0.57279792]]\n",
            "\n",
            "[[0.83427956 0.30317513 0.48295764]\n",
            " [0.01023059 0.40007655 0.65959258]\n",
            " [0.34174387 0.57279792 0.88691842]]\n",
            "\n",
            "[[0.30317513 0.48295764 0.44668407]\n",
            " [0.40007655 0.65959258 0.96063585]\n",
            " [0.57279792 0.88691842 0.95530876]]\n",
            "\n",
            "[[0.48295764 0.44668407 0.10725893]\n",
            " [0.65959258 0.96063585 0.63298173]\n",
            " [0.88691842 0.95530876 0.97519789]]\n",
            "\n",
            "[[0.44668407 0.10725893 0.50732751]\n",
            " [0.96063585 0.63298173 0.55320562]\n",
            " [0.95530876 0.97519789 0.92763718]]\n",
            "\n",
            "[[0.67107037 0.74544828 0.22065806]\n",
            " [0.83184273 0.20851175 0.6372784 ]\n",
            " [0.80965161 0.23056848 0.65641722]]\n",
            "\n",
            "[[0.74544828 0.22065806 0.13829391]\n",
            " [0.20851175 0.6372784  0.82063939]\n",
            " [0.23056848 0.65641722 0.14310472]]\n",
            "\n",
            "[[0.22065806 0.13829391 0.01023059]\n",
            " [0.6372784  0.82063939 0.34174387]\n",
            " [0.65641722 0.14310472 0.80524358]]\n",
            "\n",
            "[[0.13829391 0.01023059 0.40007655]\n",
            " [0.82063939 0.34174387 0.57279792]\n",
            " [0.14310472 0.80524358 0.7682759 ]]\n",
            "\n",
            "[[0.01023059 0.40007655 0.65959258]\n",
            " [0.34174387 0.57279792 0.88691842]\n",
            " [0.80524358 0.7682759  0.90971327]]\n",
            "\n",
            "[[0.40007655 0.65959258 0.96063585]\n",
            " [0.57279792 0.88691842 0.95530876]\n",
            " [0.7682759  0.90971327 0.09420104]]\n",
            "\n",
            "[[0.65959258 0.96063585 0.63298173]\n",
            " [0.88691842 0.95530876 0.97519789]\n",
            " [0.90971327 0.09420104 0.75205749]]\n",
            "\n",
            "[[0.96063585 0.63298173 0.55320562]\n",
            " [0.95530876 0.97519789 0.92763718]\n",
            " [0.09420104 0.75205749 0.18465114]]\n",
            "\n",
            "[[0.83184273 0.20851175 0.6372784 ]\n",
            " [0.80965161 0.23056848 0.65641722]\n",
            " [0.75793671 0.69996607 0.12225575]]\n",
            "\n",
            "[[0.20851175 0.6372784  0.82063939]\n",
            " [0.23056848 0.65641722 0.14310472]\n",
            " [0.69996607 0.12225575 0.18888907]]\n",
            "\n",
            "[[0.6372784  0.82063939 0.34174387]\n",
            " [0.65641722 0.14310472 0.80524358]\n",
            " [0.12225575 0.18888907 0.34644897]]\n",
            "\n",
            "[[0.82063939 0.34174387 0.57279792]\n",
            " [0.14310472 0.80524358 0.7682759 ]\n",
            " [0.18888907 0.34644897 0.67486997]]\n",
            "\n",
            "[[0.34174387 0.57279792 0.88691842]\n",
            " [0.80524358 0.7682759  0.90971327]\n",
            " [0.34644897 0.67486997 0.73831509]]\n",
            "\n",
            "[[0.57279792 0.88691842 0.95530876]\n",
            " [0.7682759  0.90971327 0.09420104]\n",
            " [0.67486997 0.73831509 0.87170135]]\n",
            "\n",
            "[[0.88691842 0.95530876 0.97519789]\n",
            " [0.90971327 0.09420104 0.75205749]\n",
            " [0.73831509 0.87170135 0.62824085]]\n",
            "\n",
            "[[0.95530876 0.97519789 0.92763718]\n",
            " [0.09420104 0.75205749 0.18465114]\n",
            " [0.87170135 0.62824085 0.60894488]]\n",
            "\n",
            "[[0.80965161 0.23056848 0.65641722]\n",
            " [0.75793671 0.69996607 0.12225575]\n",
            " [0.88963265 0.07122393 0.83595022]]\n",
            "\n",
            "[[0.23056848 0.65641722 0.14310472]\n",
            " [0.69996607 0.12225575 0.18888907]\n",
            " [0.07122393 0.83595022 0.18156534]]\n",
            "\n",
            "[[0.65641722 0.14310472 0.80524358]\n",
            " [0.12225575 0.18888907 0.34644897]\n",
            " [0.83595022 0.18156534 0.85298207]]\n",
            "\n",
            "[[0.14310472 0.80524358 0.7682759 ]\n",
            " [0.18888907 0.34644897 0.67486997]\n",
            " [0.18156534 0.85298207 0.10406946]]\n",
            "\n",
            "[[0.80524358 0.7682759  0.90971327]\n",
            " [0.34644897 0.67486997 0.73831509]\n",
            " [0.85298207 0.10406946 0.90898807]]\n",
            "\n",
            "[[0.7682759  0.90971327 0.09420104]\n",
            " [0.67486997 0.73831509 0.87170135]\n",
            " [0.10406946 0.90898807 0.39663733]]\n",
            "\n",
            "[[0.90971327 0.09420104 0.75205749]\n",
            " [0.73831509 0.87170135 0.62824085]\n",
            " [0.90898807 0.39663733 0.51695773]]\n",
            "\n",
            "[[0.09420104 0.75205749 0.18465114]\n",
            " [0.87170135 0.62824085 0.60894488]\n",
            " [0.39663733 0.51695773 0.052181  ]]\n",
            "\n",
            "[[0.75793671 0.69996607 0.12225575]\n",
            " [0.88963265 0.07122393 0.83595022]\n",
            " [0.11157672 0.19069401 0.16604776]]\n",
            "\n",
            "[[0.69996607 0.12225575 0.18888907]\n",
            " [0.07122393 0.83595022 0.18156534]\n",
            " [0.19069401 0.16604776 0.64617466]]\n",
            "\n",
            "[[0.12225575 0.18888907 0.34644897]\n",
            " [0.83595022 0.18156534 0.85298207]\n",
            " [0.16604776 0.64617466 0.09525543]]\n",
            "\n",
            "[[0.18888907 0.34644897 0.67486997]\n",
            " [0.18156534 0.85298207 0.10406946]\n",
            " [0.64617466 0.09525543 0.43159552]]\n",
            "\n",
            "[[0.34644897 0.67486997 0.73831509]\n",
            " [0.85298207 0.10406946 0.90898807]\n",
            " [0.09525543 0.43159552 0.33846367]]\n",
            "\n",
            "[[0.67486997 0.73831509 0.87170135]\n",
            " [0.10406946 0.90898807 0.39663733]\n",
            " [0.43159552 0.33846367 0.10408525]]\n",
            "\n",
            "[[0.73831509 0.87170135 0.62824085]\n",
            " [0.90898807 0.39663733 0.51695773]\n",
            " [0.33846367 0.10408525 0.07844009]]\n",
            "\n",
            "[[0.87170135 0.62824085 0.60894488]\n",
            " [0.39663733 0.51695773 0.052181  ]\n",
            " [0.10408525 0.07844009 0.68697574]]\n",
            "\n",
            "[[0.88963265 0.07122393 0.83595022]\n",
            " [0.11157672 0.19069401 0.16604776]\n",
            " [0.66671204 0.65086961 0.96040509]]\n",
            "\n",
            "[[0.07122393 0.83595022 0.18156534]\n",
            " [0.19069401 0.16604776 0.64617466]\n",
            " [0.65086961 0.96040509 0.35974954]]\n",
            "\n",
            "[[0.83595022 0.18156534 0.85298207]\n",
            " [0.16604776 0.64617466 0.09525543]\n",
            " [0.96040509 0.35974954 0.44653548]]\n",
            "\n",
            "[[0.18156534 0.85298207 0.10406946]\n",
            " [0.64617466 0.09525543 0.43159552]\n",
            " [0.35974954 0.44653548 0.83752037]]\n",
            "\n",
            "[[0.85298207 0.10406946 0.90898807]\n",
            " [0.09525543 0.43159552 0.33846367]\n",
            " [0.44653548 0.83752037 0.38892954]]\n",
            "\n",
            "[[0.10406946 0.90898807 0.39663733]\n",
            " [0.43159552 0.33846367 0.10408525]\n",
            " [0.83752037 0.38892954 0.99141143]]\n",
            "\n",
            "[[0.90898807 0.39663733 0.51695773]\n",
            " [0.33846367 0.10408525 0.07844009]\n",
            " [0.38892954 0.99141143 0.14246636]]\n",
            "\n",
            "[[0.39663733 0.51695773 0.052181  ]\n",
            " [0.10408525 0.07844009 0.68697574]\n",
            " [0.99141143 0.14246636 0.40298695]]\n",
            "\n"
          ]
        }
      ],
      "source": [
        "import numpy as np\n",
        "\n",
        "# Create a random 10x10 matrix\n",
        "matrix = np.random.random((10, 10))\n",
        "\n",
        "# Define the block size\n",
        "block_size = (3, 3)\n",
        "\n",
        "# Extract all contiguous 3x3 blocks\n",
        "blocks = [matrix[i:i+block_size[0], j:j+block_size[1]] for i in range(8) for j in range(8)]\n",
        "\n",
        "# Print the result\n",
        "print(\"Original Matrix:\")\n",
        "print(matrix)\n",
        "print(\"\\nContiguous 3x3 Blocks:\")\n",
        "for block in blocks:\n",
        "    print(block)\n",
        "    print()\n"
      ],
      "id": "d58b1318"
    },
    {
      "cell_type": "markdown",
      "metadata": {
        "id": "1a18b263"
      },
      "source": [
        "#### 85. Create a 2D array subclass such that Z[i,j] == Z[j,i] (★★★)"
      ],
      "id": "1a18b263"
    },
    {
      "cell_type": "code",
      "execution_count": null,
      "metadata": {
        "id": "87f17adc",
        "colab": {
          "base_uri": "https://localhost:8080/"
        },
        "outputId": "a84237d4-70ce-4ca4-eb3c-28e71290efe0"
      },
      "outputs": [
        {
          "output_type": "stream",
          "name": "stdout",
          "text": [
            "Symmetric Array:\n",
            "[[4636737291354636288                  10                   0]\n",
            " [                 10 4636737291354636288                  20]\n",
            " [                  0                  20 4607182418800017408]]\n"
          ]
        }
      ],
      "source": [
        "import numpy as np\n",
        "\n",
        "class SymmetricArray(np.ndarray):\n",
        "    def __setitem__(self, index, value):\n",
        "        i, j = index\n",
        "        super(SymmetricArray, self).__setitem__((i, j), value)\n",
        "        super(SymmetricArray, self).__setitem__((j, i), value)\n",
        "\n",
        "# Create a sample symmetric array\n",
        "symmetric_array = SymmetricArray((3, 3), dtype=int)\n",
        "\n",
        "# Set values using the symmetric array\n",
        "symmetric_array[0, 1] = 10\n",
        "symmetric_array[1, 2] = 20\n",
        "\n",
        "# Print the symmetric array\n",
        "print(\"Symmetric Array:\")\n",
        "print(symmetric_array)\n"
      ],
      "id": "87f17adc"
    },
    {
      "cell_type": "markdown",
      "metadata": {
        "id": "f85f2cad"
      },
      "source": [
        "#### 86. Consider a set of p matrices wich shape (n,n) and a set of p vectors with shape (n,1). How to compute the sum of of the p matrix products at once? (result has shape (n,1)) (★★★)"
      ],
      "id": "f85f2cad"
    },
    {
      "cell_type": "code",
      "execution_count": null,
      "metadata": {
        "id": "8d230557",
        "colab": {
          "base_uri": "https://localhost:8080/",
          "height": 390
        },
        "outputId": "45f47e10-4ae8-44b9-96fe-13ec05bc769b"
      },
      "outputs": [
        {
          "output_type": "error",
          "ename": "ValueError",
          "evalue": "ignored",
          "traceback": [
            "\u001b[0;31m---------------------------------------------------------------------------\u001b[0m",
            "\u001b[0;31mValueError\u001b[0m                                Traceback (most recent call last)",
            "\u001b[0;32m<ipython-input-19-9c0175e1463d>\u001b[0m in \u001b[0;36m<cell line: 14>\u001b[0;34m()\u001b[0m\n\u001b[1;32m     12\u001b[0m \u001b[0;34m\u001b[0m\u001b[0m\n\u001b[1;32m     13\u001b[0m \u001b[0;31m# Compute the sum of the p matrix products at once\u001b[0m\u001b[0;34m\u001b[0m\u001b[0;34m\u001b[0m\u001b[0m\n\u001b[0;32m---> 14\u001b[0;31m \u001b[0mresult\u001b[0m \u001b[0;34m=\u001b[0m \u001b[0mnp\u001b[0m\u001b[0;34m.\u001b[0m\u001b[0meinsum\u001b[0m\u001b[0;34m(\u001b[0m\u001b[0;34m'ijk,jik->ik'\u001b[0m\u001b[0;34m,\u001b[0m \u001b[0mmatrices\u001b[0m\u001b[0;34m,\u001b[0m \u001b[0mvectors\u001b[0m\u001b[0;34m)\u001b[0m\u001b[0;34m\u001b[0m\u001b[0;34m\u001b[0m\u001b[0m\n\u001b[0m\u001b[1;32m     15\u001b[0m \u001b[0;34m\u001b[0m\u001b[0m\n\u001b[1;32m     16\u001b[0m \u001b[0;31m# Print the result\u001b[0m\u001b[0;34m\u001b[0m\u001b[0;34m\u001b[0m\u001b[0m\n",
            "\u001b[0;32m/usr/local/lib/python3.10/dist-packages/numpy/core/overrides.py\u001b[0m in \u001b[0;36meinsum\u001b[0;34m(*args, **kwargs)\u001b[0m\n",
            "\u001b[0;32m/usr/local/lib/python3.10/dist-packages/numpy/core/einsumfunc.py\u001b[0m in \u001b[0;36meinsum\u001b[0;34m(out, optimize, *operands, **kwargs)\u001b[0m\n\u001b[1;32m   1369\u001b[0m         \u001b[0;32mif\u001b[0m \u001b[0mspecified_out\u001b[0m\u001b[0;34m:\u001b[0m\u001b[0;34m\u001b[0m\u001b[0;34m\u001b[0m\u001b[0m\n\u001b[1;32m   1370\u001b[0m             \u001b[0mkwargs\u001b[0m\u001b[0;34m[\u001b[0m\u001b[0;34m'out'\u001b[0m\u001b[0;34m]\u001b[0m \u001b[0;34m=\u001b[0m \u001b[0mout\u001b[0m\u001b[0;34m\u001b[0m\u001b[0;34m\u001b[0m\u001b[0m\n\u001b[0;32m-> 1371\u001b[0;31m         \u001b[0;32mreturn\u001b[0m \u001b[0mc_einsum\u001b[0m\u001b[0;34m(\u001b[0m\u001b[0;34m*\u001b[0m\u001b[0moperands\u001b[0m\u001b[0;34m,\u001b[0m \u001b[0;34m**\u001b[0m\u001b[0mkwargs\u001b[0m\u001b[0;34m)\u001b[0m\u001b[0;34m\u001b[0m\u001b[0;34m\u001b[0m\u001b[0m\n\u001b[0m\u001b[1;32m   1372\u001b[0m \u001b[0;34m\u001b[0m\u001b[0m\n\u001b[1;32m   1373\u001b[0m     \u001b[0;31m# Check the kwargs to avoid a more cryptic error later, without having to\u001b[0m\u001b[0;34m\u001b[0m\u001b[0;34m\u001b[0m\u001b[0m\n",
            "\u001b[0;31mValueError\u001b[0m: operands could not be broadcast together with remapped shapes [original->remapped]: (3,4,4)->(3,4,4) (3,4,1)->(4,1,3) "
          ]
        }
      ],
      "source": [
        "import numpy as np\n",
        "\n",
        "# Number of matrices and their size\n",
        "p = 3\n",
        "n = 4\n",
        "\n",
        "# Create a set of p matrices with shape (n, n)\n",
        "matrices = [np.random.rand(n, n) for _ in range(p)]\n",
        "\n",
        "# Create a set of p vectors with shape (n, 1)\n",
        "vectors = [np.random.rand(n, 1) for _ in range(p)]\n",
        "\n",
        "# Compute the sum of the p matrix products at once\n",
        "result = np.einsum('ijk,jik->ik', matrices, vectors)\n",
        "\n",
        "# Print the result\n",
        "print(\"Matrices:\")\n",
        "for i, matrix in enumerate(matrices):\n",
        "    print(f\"Matrix {i+1}:\\n{matrix}\\n\")\n",
        "\n",
        "print(\"\\nVectors:\")\n",
        "for i, vector in enumerate(vectors):\n",
        "    print(f\"Vector {i+1}:\\n{vector}\\n\")\n",
        "\n",
        "print(\"Sum of Matrix Products:\")\n",
        "print(result)\n"
      ],
      "id": "8d230557"
    },
    {
      "cell_type": "markdown",
      "metadata": {
        "id": "5afb72c8"
      },
      "source": [
        "#### 87. Consider a 16x16 array, how to get the block-sum (block size is 4x4)? (★★★)"
      ],
      "id": "5afb72c8"
    },
    {
      "cell_type": "code",
      "execution_count": null,
      "metadata": {
        "id": "e86f47a9",
        "colab": {
          "base_uri": "https://localhost:8080/"
        },
        "outputId": "e2ba9887-589d-40a5-ef7c-d8049f4f6cf7"
      },
      "outputs": [
        {
          "output_type": "stream",
          "name": "stdout",
          "text": [
            "Original Array:\n",
            "[[4 7 5 7 5 2 5 3 6 3 5 5 2 4 3 8]\n",
            " [7 9 8 9 3 1 2 3 9 9 6 1 7 2 4 6]\n",
            " [5 4 4 8 5 6 4 7 3 4 4 3 9 6 5 4]\n",
            " [1 9 6 3 9 8 5 5 8 1 1 9 8 3 6 1]\n",
            " [2 1 2 4 1 9 1 2 8 8 4 6 4 9 8 8]\n",
            " [2 2 7 3 5 1 1 3 5 1 8 4 3 7 7 1]\n",
            " [7 4 8 3 8 1 2 5 9 1 1 8 7 3 5 2]\n",
            " [9 1 3 7 2 4 7 6 7 2 7 1 8 9 4 7]\n",
            " [6 8 7 4 6 2 6 2 3 2 1 4 1 8 5 8]\n",
            " [2 8 1 6 8 6 6 3 7 9 9 7 7 6 7 6]\n",
            " [4 9 1 2 3 2 7 9 8 5 8 5 9 7 7 5]\n",
            " [2 9 5 3 9 4 3 6 3 7 3 1 2 6 5 9]\n",
            " [6 1 7 5 3 5 9 5 6 9 7 1 3 5 3 1]\n",
            " [5 4 6 7 5 5 3 6 6 4 4 7 5 4 5 4]\n",
            " [1 5 1 2 9 2 7 7 7 5 2 7 3 1 2 4]\n",
            " [2 7 4 6 2 2 1 3 6 1 3 2 6 1 6 3]]\n",
            "\n",
            "Block-Sum (Block Size 4x4):\n",
            "[[74 86 81 83]\n",
            " [77 60 74 84]\n",
            " [73 98 91 77]\n",
            " [76 80 65 55]]\n"
          ]
        }
      ],
      "source": [
        "import numpy as np\n",
        "\n",
        "# Create a 16x16 array\n",
        "array = np.random.randint(1, 10, (16, 16))\n",
        "\n",
        "# Define the block size\n",
        "block_size = (4, 4)\n",
        "\n",
        "# Reshape the array into non-overlapping blocks\n",
        "blocks = array.reshape(array.shape[0] // block_size[0], block_size[0], -1, block_size[1]).swapaxes(1, 2)\n",
        "\n",
        "# Compute the block-sum\n",
        "block_sum = blocks.sum(axis=(1, 3))\n",
        "\n",
        "# Print the result\n",
        "print(\"Original Array:\")\n",
        "print(array)\n",
        "print(\"\\nBlock-Sum (Block Size 4x4):\")\n",
        "print(block_sum)\n"
      ],
      "id": "e86f47a9"
    },
    {
      "cell_type": "markdown",
      "metadata": {
        "id": "6094d37c"
      },
      "source": [
        "#### 88. How to implement the Game of Life using numpy arrays? (★★★)"
      ],
      "id": "6094d37c"
    },
    {
      "cell_type": "code",
      "execution_count": null,
      "metadata": {
        "id": "a93e715f",
        "colab": {
          "base_uri": "https://localhost:8080/",
          "height": 468
        },
        "outputId": "fd454f3d-35a9-41a1-8289-120f75e6e056"
      },
      "outputs": [
        {
          "output_type": "stream",
          "name": "stderr",
          "text": [
            "<ipython-input-17-ad9f0e434097>:39: UserWarning: You passed in an explicit save_count=50 which is being ignored in favor of frames=10.\n",
            "  ani = animation.FuncAnimation(fig, update, fargs=(img, grid, N), frames=10, interval=50, save_count=50)\n"
          ]
        },
        {
          "output_type": "display_data",
          "data": {
            "text/plain": [
              "<Figure size 640x480 with 1 Axes>"
            ],
            "image/png": "[encoded data removed]"
          },
          "metadata": {}
        }
      ],
      "source": [
        "import numpy as np\n",
        "import matplotlib.pyplot as plt\n",
        "import matplotlib.animation as animation\n",
        "\n",
        "def update(frameNum, img, grid, N):\n",
        "    new_grid = grid.copy()\n",
        "\n",
        "    for i in range(N):\n",
        "        for j in range(N):\n",
        "            # Compute the sum of the 8 neighbors\n",
        "            total = int((grid[i, (j-1)%N] + grid[i, (j+1)%N] +\n",
        "                         grid[(i-1)%N, j] + grid[(i+1)%N, j] +\n",
        "                         grid[(i-1)%N, (j-1)%N] + grid[(i-1)%N, (j+1)%N] +\n",
        "                         grid[(i+1)%N, (j-1)%N] + grid[(i+1)%N, (j+1)%N]) / 255)\n",
        "\n",
        "            # Apply the rules of the Game of Life\n",
        "            if grid[i, j] == ON:\n",
        "                new_grid[i, j] = ON if (total == 2 or total == 3) else OFF\n",
        "            else:\n",
        "                new_grid[i, j] = ON if total == 3 else OFF\n",
        "\n",
        "    img.set_data(new_grid)\n",
        "    grid[:] = new_grid[:]\n",
        "    return img\n",
        "\n",
        "# Set the size of the grid\n",
        "N = 100\n",
        "\n",
        "# Set the states for ON (alive) and OFF (dead)\n",
        "ON = 255\n",
        "OFF = 0\n",
        "\n",
        "# Create a random initial state for the grid\n",
        "grid = np.random.choice([ON, OFF], N*N, p=[0.2, 0.8]).reshape(N, N)\n",
        "\n",
        "# Set up the animation\n",
        "fig, ax = plt.subplots()\n",
        "img = ax.imshow(grid, interpolation='nearest', cmap='gray')\n",
        "ani = animation.FuncAnimation(fig, update, fargs=(img, grid, N), frames=10, interval=50, save_count=50)\n",
        "\n",
        "plt.show()\n"
      ],
      "id": "a93e715f"
    },
    {
      "cell_type": "markdown",
      "metadata": {
        "id": "a173cf96"
      },
      "source": [
        "#### 89. How to get the n largest values of an array (★★★)"
      ],
      "id": "a173cf96"
    },
    {
      "cell_type": "code",
      "execution_count": null,
      "metadata": {
        "id": "b7c2ff35",
        "colab": {
          "base_uri": "https://localhost:8080/"
        },
        "outputId": "03fef84d-c778-4846-a974-c6cac976022a"
      },
      "outputs": [
        {
          "output_type": "stream",
          "name": "stdout",
          "text": [
            "Original Array:\n",
            "[3 1 4 1 5 9 2 6 5 3 5]\n",
            "\n",
            "3 Largest Values:\n",
            "[5 6 9]\n"
          ]
        }
      ],
      "source": [
        "import numpy as np\n",
        "\n",
        "# Create a sample array\n",
        "arr = np.array([3, 1, 4, 1, 5, 9, 2, 6, 5, 3, 5])\n",
        "\n",
        "# Specify the number of largest values to retrieve\n",
        "n_largest = 3\n",
        "\n",
        "# Get the indices of the n largest values\n",
        "indices = np.argsort(arr)[-n_largest:]\n",
        "\n",
        "# Retrieve the n largest values\n",
        "n_largest_values = arr[indices]\n",
        "\n",
        "# Print the result\n",
        "print(\"Original Array:\")\n",
        "print(arr)\n",
        "print(\"\\n{} Largest Values:\".format(n_largest))\n",
        "print(n_largest_values)\n"
      ],
      "id": "b7c2ff35"
    },
    {
      "cell_type": "markdown",
      "metadata": {
        "id": "15db2d01"
      },
      "source": [
        "#### 90. Given an arbitrary number of vectors, build the cartesian product (every combinations of every item) (★★★)"
      ],
      "id": "15db2d01"
    },
    {
      "cell_type": "code",
      "execution_count": null,
      "metadata": {
        "id": "a9a4633d",
        "colab": {
          "base_uri": "https://localhost:8080/"
        },
        "outputId": "154e580f-eb75-44aa-c0e6-a6e617d1423b"
      },
      "outputs": [
        {
          "output_type": "stream",
          "name": "stdout",
          "text": [
            "Vector 1: [1 2]\n",
            "Vector 2: [3 4]\n",
            "Vector 3: [5 6]\n",
            "\n",
            "Cartesian Product:\n",
            "[[1 3 5]\n",
            " [1 4 5]\n",
            " [2 3 5]\n",
            " [2 4 5]\n",
            " [1 3 6]\n",
            " [1 4 6]\n",
            " [2 3 6]\n",
            " [2 4 6]]\n"
          ]
        }
      ],
      "source": [
        "import numpy as np\n",
        "\n",
        "# Define some sample vectors\n",
        "vector1 = np.array([1, 2])\n",
        "vector2 = np.array([3, 4])\n",
        "vector3 = np.array([5, 6])\n",
        "\n",
        "# Build the Cartesian product\n",
        "cartesian_product = np.array(np.meshgrid(vector1, vector2, vector3)).T.reshape(-1, 3)\n",
        "\n",
        "# Print the result\n",
        "print(\"Vector 1:\", vector1)\n",
        "print(\"Vector 2:\", vector2)\n",
        "print(\"Vector 3:\", vector3)\n",
        "print(\"\\nCartesian Product:\")\n",
        "print(cartesian_product)\n"
      ],
      "id": "a9a4633d"
    },
    {
      "cell_type": "markdown",
      "metadata": {
        "id": "5d94d1ef"
      },
      "source": [
        "#### 91. How to create a record array from a regular array? (★★★)"
      ],
      "id": "5d94d1ef"
    },
    {
      "cell_type": "code",
      "execution_count": null,
      "metadata": {
        "id": "b1dae380",
        "colab": {
          "base_uri": "https://localhost:8080/"
        },
        "outputId": "7beb0b79-b8fc-48af-bffd-3722adf48de6"
      },
      "outputs": [
        {
          "output_type": "stream",
          "name": "stdout",
          "text": [
            "Regular Array:\n",
            "[(1, 'John', 25) (2, 'Jane', 30) (3, 'Bob', 22)]\n",
            "\n",
            "Record Array:\n",
            "((1, 'John', 25), (2, 'Jane', 30), (3, 'Bob', 22))\n"
          ]
        }
      ],
      "source": [
        "import numpy as np\n",
        "\n",
        "# Create a regular array\n",
        "regular_array = np.array([(1, 'John', 25),\n",
        "                          (2, 'Jane', 30),\n",
        "                          (3, 'Bob', 22)],\n",
        "                         dtype=[('id', int), ('name', 'U10'), ('age', int)])\n",
        "\n",
        "# Print the regular array\n",
        "print(\"Regular Array:\")\n",
        "print(regular_array)\n",
        "\n",
        "# Create a record array from the regular array\n",
        "record_array = np.core.records.fromarrays(regular_array.transpose(), names='id, name, age')\n",
        "\n",
        "# Print the record array\n",
        "print(\"\\nRecord Array:\")\n",
        "print(record_array)\n"
      ],
      "id": "b1dae380"
    },
    {
      "cell_type": "markdown",
      "metadata": {
        "id": "114ccc36"
      },
      "source": [
        "#### 92. Consider a large vector Z, compute Z to the power of 3 using 3 different methods (★★★)"
      ],
      "id": "114ccc36"
    },
    {
      "cell_type": "code",
      "execution_count": null,
      "metadata": {
        "id": "877c65d6",
        "colab": {
          "base_uri": "https://localhost:8080/"
        },
        "outputId": "930d2007-d6ac-46bf-8c5d-8b0064dd7ca1"
      },
      "outputs": [
        {
          "output_type": "stream",
          "name": "stdout",
          "text": [
            "Method 1 Result:\n",
            "[0.04924967 0.00589906 0.95152124 ... 0.97282979 0.00272546 0.57739813]\n",
            "\n",
            "Method 2 Result:\n",
            "[0.04924967 0.00589906 0.95152124 ... 0.97282979 0.00272546 0.57739813]\n",
            "\n",
            "Method 3 Result:\n",
            "[0.04924967 0.00589906 0.95152124 ... 0.97282979 0.00272546 0.57739813]\n",
            "\n",
            "Are the results equal? True\n"
          ]
        }
      ],
      "source": [
        "import numpy as np\n",
        "\n",
        "# Create a large vector Z\n",
        "Z = np.random.rand(1000000)\n",
        "\n",
        "# Method 1: Using the ** operator\n",
        "result1 = Z ** 3\n",
        "\n",
        "# Method 2: Using numpy.power function\n",
        "result2 = np.power(Z, 3)\n",
        "\n",
        "# Method 3: Using numpy.einsum for element-wise multiplication\n",
        "result3 = np.einsum('i,i,i->i', Z, Z, Z)\n",
        "\n",
        "# Check if all methods produce the same result\n",
        "are_equal = np.allclose(result1, result2) and np.allclose(result1, result3)\n",
        "\n",
        "# Print the results\n",
        "print(\"Method 1 Result:\")\n",
        "print(result1)\n",
        "\n",
        "print(\"\\nMethod 2 Result:\")\n",
        "print(result2)\n",
        "\n",
        "print(\"\\nMethod 3 Result:\")\n",
        "print(result3)\n",
        "\n",
        "print(\"\\nAre the results equal?\", are_equal)\n"
      ],
      "id": "877c65d6"
    },
    {
      "cell_type": "markdown",
      "metadata": {
        "id": "d614fee4"
      },
      "source": [
        "#### 93. Consider two arrays A and B of shape (8,3) and (2,2). How to find rows of A that contain elements of each row of B regardless of the order of the elements in B? (★★★)"
      ],
      "id": "d614fee4"
    },
    {
      "cell_type": "code",
      "execution_count": null,
      "metadata": {
        "id": "e6807a84",
        "colab": {
          "base_uri": "https://localhost:8080/"
        },
        "outputId": "6b02afd7-d79e-4bd4-b686-72aeb46014a3"
      },
      "outputs": [
        {
          "output_type": "stream",
          "name": "stdout",
          "text": [
            "Array A:\n",
            "[[1 2 3]\n",
            " [4 5 6]\n",
            " [7 8 9]\n",
            " [1 2 3]\n",
            " [4 5 6]\n",
            " [7 8 9]\n",
            " [1 2 3]\n",
            " [4 5 6]]\n",
            "\n",
            "Array B:\n",
            "[[1 2]\n",
            " [4 5]]\n",
            "\n",
            "Rows of A containing elements of each row of B:\n",
            "[]\n"
          ]
        }
      ],
      "source": [
        "import numpy as np\n",
        "\n",
        "# Create arrays A and B\n",
        "A = np.array([[1, 2, 3],\n",
        "              [4, 5, 6],\n",
        "              [7, 8, 9],\n",
        "              [1, 2, 3],\n",
        "              [4, 5, 6],\n",
        "              [7, 8, 9],\n",
        "              [1, 2, 3],\n",
        "              [4, 5, 6]])\n",
        "\n",
        "B = np.array([[1, 2],\n",
        "              [4, 5]])\n",
        "\n",
        "# Check if each element of each row in B is present in the corresponding row of A\n",
        "rows_containing_elements = np.all(np.isin(A, B), axis=1)\n",
        "\n",
        "# Find the indices of the rows in A that contain elements of each row of B\n",
        "result_indices = np.where(rows_containing_elements)[0]\n",
        "\n",
        "# Print the result\n",
        "print(\"Array A:\")\n",
        "print(A)\n",
        "print(\"\\nArray B:\")\n",
        "print(B)\n",
        "print(\"\\nRows of A containing elements of each row of B:\")\n",
        "print(result_indices)\n"
      ],
      "id": "e6807a84"
    },
    {
      "cell_type": "markdown",
      "metadata": {
        "id": "b0eedca6"
      },
      "source": [
        "#### 94. Considering a 10x3 matrix, extract rows with unequal values (e.g. [2,2,3]) (★★★)"
      ],
      "id": "b0eedca6"
    },
    {
      "cell_type": "code",
      "execution_count": null,
      "metadata": {
        "id": "fc136ce2",
        "colab": {
          "base_uri": "https://localhost:8080/"
        },
        "outputId": "667ad6e1-7dac-4c6e-a149-d6b31f3f5d04"
      },
      "outputs": [
        {
          "output_type": "stream",
          "name": "stdout",
          "text": [
            "Original Matrix:\n",
            "[[3 2 2]\n",
            " [1 1 2]\n",
            " [3 1 3]\n",
            " [2 2 1]\n",
            " [1 1 1]\n",
            " [2 2 1]\n",
            " [3 1 1]\n",
            " [1 3 1]\n",
            " [2 3 2]\n",
            " [3 3 1]]\n",
            "\n",
            "Rows with Unequal Values:\n",
            "[[3 2 2]\n",
            " [1 1 2]\n",
            " [3 1 3]\n",
            " [2 2 1]\n",
            " [2 2 1]\n",
            " [3 1 1]\n",
            " [1 3 1]\n",
            " [2 3 2]\n",
            " [3 3 1]]\n"
          ]
        }
      ],
      "source": [
        "import numpy as np\n",
        "\n",
        "# Create a 10x3 matrix\n",
        "matrix = np.random.randint(1, 4, size=(10, 3))\n",
        "\n",
        "# Extract rows with unequal values\n",
        "unequal_rows = matrix[~np.all(matrix[:, 1:] == matrix[:, :-1], axis=1)]\n",
        "\n",
        "# Print the result\n",
        "print(\"Original Matrix:\")\n",
        "print(matrix)\n",
        "print(\"\\nRows with Unequal Values:\")\n",
        "print(unequal_rows)\n"
      ],
      "id": "fc136ce2"
    },
    {
      "cell_type": "markdown",
      "metadata": {
        "id": "a65ec1cf"
      },
      "source": [
        "#### 95. Convert a vector of ints into a matrix binary representation (★★★)"
      ],
      "id": "a65ec1cf"
    },
    {
      "cell_type": "code",
      "execution_count": null,
      "metadata": {
        "id": "323cdf4c",
        "colab": {
          "base_uri": "https://localhost:8080/"
        },
        "outputId": "e6c664bd-602a-44ce-e53f-97a362cc0332"
      },
      "outputs": [
        {
          "output_type": "stream",
          "name": "stdout",
          "text": [
            "Vector of Integers:\n",
            "[5 2 7 0 3]\n",
            "\n",
            "Binary Matrix Representation:\n",
            "[[0 0 0 0 0 1 0 1]\n",
            " [0 0 0 0 0 0 1 0]\n",
            " [0 0 0 0 0 1 1 1]\n",
            " [0 0 0 0 0 0 0 0]\n",
            " [0 0 0 0 0 0 1 1]]\n"
          ]
        }
      ],
      "source": [
        "import numpy as np\n",
        "\n",
        "# Create a vector of integers\n",
        "vector_of_ints = np.array([5, 2, 7, 0, 3], dtype=np.uint8)\n",
        "\n",
        "# Convert to matrix binary representation\n",
        "binary_matrix = np.unpackbits(vector_of_ints[:, np.newaxis], axis=1)\n",
        "\n",
        "# Print the result\n",
        "print(\"Vector of Integers:\")\n",
        "print(vector_of_ints)\n",
        "print(\"\\nBinary Matrix Representation:\")\n",
        "print(binary_matrix)\n"
      ],
      "id": "323cdf4c"
    },
    {
      "cell_type": "markdown",
      "metadata": {
        "id": "75b9397f"
      },
      "source": [
        "#### 96. Given a two dimensional array, how to extract unique rows? (★★★)"
      ],
      "id": "75b9397f"
    },
    {
      "cell_type": "code",
      "execution_count": null,
      "metadata": {
        "id": "9bb56a47",
        "colab": {
          "base_uri": "https://localhost:8080/"
        },
        "outputId": "0e91e248-7825-44c5-fb1d-eeb82132ddc2"
      },
      "outputs": [
        {
          "output_type": "stream",
          "name": "stdout",
          "text": [
            "Original 2D Array:\n",
            "[[1 2 3]\n",
            " [4 5 6]\n",
            " [1 2 3]\n",
            " [7 8 9]\n",
            " [4 5 6]]\n",
            "\n",
            "Unique Rows:\n",
            "[[1 2 3]\n",
            " [4 5 6]\n",
            " [7 8 9]]\n"
          ]
        }
      ],
      "source": [
        "import numpy as np\n",
        "\n",
        "# Create a two-dimensional array\n",
        "array_2d = np.array([[1, 2, 3],\n",
        "                     [4, 5, 6],\n",
        "                     [1, 2, 3],\n",
        "                     [7, 8, 9],\n",
        "                     [4, 5, 6]])\n",
        "\n",
        "# Extract unique rows\n",
        "unique_rows = np.unique(array_2d, axis=0)\n",
        "\n",
        "# Print the result\n",
        "print(\"Original 2D Array:\")\n",
        "print(array_2d)\n",
        "print(\"\\nUnique Rows:\")\n",
        "print(unique_rows)\n"
      ],
      "id": "9bb56a47"
    },
    {
      "cell_type": "markdown",
      "metadata": {
        "id": "82aaf21b"
      },
      "source": [
        "#### 97. Considering 2 vectors A & B, write the einsum equivalent of inner, outer, sum, and mul function (★★★)"
      ],
      "id": "82aaf21b"
    },
    {
      "cell_type": "code",
      "execution_count": null,
      "metadata": {
        "id": "cedcefd9",
        "colab": {
          "base_uri": "https://localhost:8080/"
        },
        "outputId": "1d2fb1ab-7903-4787-bdd9-659aadb4cda0"
      },
      "outputs": [
        {
          "output_type": "stream",
          "name": "stdout",
          "text": [
            "Inner Product: 32\n",
            "Outer Product:\n",
            "[[ 4  5  6]\n",
            " [ 8 10 12]\n",
            " [12 15 18]]\n",
            "Sum: 21\n",
            "Element-wise Multiplication: [ 4 10 18]\n"
          ]
        }
      ],
      "source": [
        "\n",
        "\n",
        "A = np.array([1, 2, 3])\n",
        "B = np.array([4, 5, 6])\n",
        "\n",
        "inner_product = np.einsum('i,i->', A, B)\n",
        "print(\"Inner Product:\", inner_product)\n",
        "\n",
        "\n",
        "A = np.array([1, 2, 3])\n",
        "B = np.array([4, 5, 6])\n",
        "\n",
        "outer_product = np.einsum('i,j->ij', A, B)\n",
        "print(\"Outer Product:\")\n",
        "print(outer_product)\n",
        "\n",
        "\n",
        "A = np.array([[1, 2, 3],\n",
        "              [4, 5, 6]])\n",
        "\n",
        "sum_result = np.einsum('ij->', A)\n",
        "print(\"Sum:\", sum_result)\n",
        "\n",
        "A = np.array([1, 2, 3])\n",
        "B = np.array([4, 5, 6])\n",
        "\n",
        "elementwise_mul = np.einsum('i,i->i', A, B)\n",
        "print(\"Element-wise Multiplication:\", elementwise_mul)\n",
        "\n",
        "\n"
      ],
      "id": "cedcefd9"
    },
    {
      "cell_type": "markdown",
      "metadata": {
        "id": "7741e17f"
      },
      "source": [
        "#### 98. Considering a path described by two vectors (X,Y), how to sample it using equidistant samples (★★★)?"
      ],
      "id": "7741e17f"
    },
    {
      "cell_type": "code",
      "execution_count": null,
      "metadata": {
        "id": "0b2432fe",
        "colab": {
          "base_uri": "https://localhost:8080/",
          "height": 472
        },
        "outputId": "986805c2-d844-4d4b-aed9-ead342d8c24f"
      },
      "outputs": [
        {
          "output_type": "display_data",
          "data": {
            "text/plain": [
              "<Figure size 640x480 with 1 Axes>"
            ],
            "image/png": "[encoded data removed]"
          },
          "metadata": {}
        }
      ],
      "source": [
        "import numpy as np\n",
        "import matplotlib.pyplot as plt\n",
        "\n",
        "def equidistant_samples(X, Y, num_samples=100):\n",
        "    # Calculate the cumulative arc length along the path\n",
        "    arc_length = np.cumsum(np.sqrt(np.diff(X)**2 + np.diff(Y)**2))\n",
        "    arc_length = np.insert(arc_length, 0, 0)  # Insert 0 at the beginning\n",
        "\n",
        "    # Create equidistant samples along the arc length\n",
        "    equidistant_samples = np.linspace(0, arc_length[-1], num_samples)\n",
        "\n",
        "    # Interpolate X and Y at the equidistant samples\n",
        "    X_sampled = np.interp(equidistant_samples, arc_length, X)\n",
        "    Y_sampled = np.interp(equidistant_samples, arc_length, Y)\n",
        "\n",
        "    return X_sampled, Y_sampled\n",
        "\n",
        "# Example usage\n",
        "X = np.array([0, 1, 2, 3, 4, 5])\n",
        "Y = np.array([0, 1, 4, 9, 16, 25])\n",
        "\n",
        "X_sampled, Y_sampled = equidistant_samples(X, Y, num_samples=100)\n",
        "\n",
        "# Plot the original path and the equidistant samples\n",
        "plt.plot(X, Y, label='Original Path')\n",
        "plt.scatter(X_sampled, Y_sampled, color='red', label='Equidistant Samples')\n",
        "plt.legend()\n",
        "plt.xlabel('X')\n",
        "plt.ylabel('Y')\n",
        "plt.title('Sampling a Path with Equidistant Samples')\n",
        "plt.show()\n"
      ],
      "id": "0b2432fe"
    },
    {
      "cell_type": "markdown",
      "metadata": {
        "id": "340d6f36"
      },
      "source": [
        "#### 99. Given an integer n and a 2D array X, select from X the rows which can be interpreted as draws from a multinomial distribution with n degrees, i.e., the rows which only contain integers and which sum to n. (★★★)"
      ],
      "id": "340d6f36"
    },
    {
      "cell_type": "code",
      "execution_count": null,
      "metadata": {
        "id": "a75323ae",
        "colab": {
          "base_uri": "https://localhost:8080/"
        },
        "outputId": "ff33cabc-d087-4e64-d754-f6d248258406"
      },
      "outputs": [
        {
          "output_type": "stream",
          "name": "stdout",
          "text": [
            "Original 2D Array:\n",
            "[[1 2 7]\n",
            " [3 1 6]\n",
            " [4 2 4]\n",
            " [0 5 5]]\n",
            "\n",
            "Rows representing draws from a multinomial distribution with 10 degrees:\n",
            "[[1 2 7]\n",
            " [3 1 6]\n",
            " [4 2 4]\n",
            " [0 5 5]]\n"
          ]
        }
      ],
      "source": [
        "import numpy as np\n",
        "\n",
        "def is_multinomial_row(row, n):\n",
        "    # Check if the row contains integers only\n",
        "    integers_only = np.all(np.mod(row, 1) == 0)\n",
        "\n",
        "    # Check if the row sums to n\n",
        "    sums_to_n = np.sum(row) == n\n",
        "\n",
        "    return integers_only and sums_to_n\n",
        "\n",
        "def select_multinomial_rows(X, n):\n",
        "    # Use a list comprehension to filter rows\n",
        "    selected_rows = [row for row in X if is_multinomial_row(row, n)]\n",
        "\n",
        "    return np.array(selected_rows)\n",
        "\n",
        "# Example usage\n",
        "n = 10\n",
        "X = np.array([[1, 2, 7],\n",
        "              [3, 1, 6],\n",
        "              [4, 2, 4],\n",
        "              [0, 5, 5]])\n",
        "\n",
        "selected_rows = select_multinomial_rows(X, n)\n",
        "\n",
        "# Print the result\n",
        "print(\"Original 2D Array:\")\n",
        "print(X)\n",
        "print(\"\\nRows representing draws from a multinomial distribution with {} degrees:\".format(n))\n",
        "print(selected_rows)\n"
      ],
      "id": "a75323ae"
    },
    {
      "cell_type": "markdown",
      "metadata": {
        "id": "19721849"
      },
      "source": [
        "#### 100. Compute bootstrapped 95% confidence intervals for the mean of a 1D array X (i.e., resample the elements of an array with replacement N times, compute the mean of each sample, and then compute percentiles over the means). (★★★)"
      ],
      "id": "19721849"
    },
    {
      "cell_type": "code",
      "execution_count": null,
      "metadata": {
        "id": "87309c6f",
        "colab": {
          "base_uri": "https://localhost:8080/"
        },
        "outputId": "40f9bffd-af26-44f4-fa7c-74fad3e26539"
      },
      "outputs": [
        {
          "output_type": "stream",
          "name": "stdout",
          "text": [
            "Original 1D Array:\n",
            "[ 5.99342831  4.7234714   6.29537708  8.04605971  4.53169325  4.53172609\n",
            "  8.15842563  6.53486946  4.06105123  6.08512009  4.07316461  4.06854049\n",
            "  5.48392454  1.17343951  1.55016433  3.87542494  2.97433776  5.62849467\n",
            "  3.18395185  2.1753926   7.93129754  4.5484474   5.13505641  2.15050363\n",
            "  3.91123455  5.22184518  2.69801285  5.75139604  3.79872262  4.4166125\n",
            "  3.79658678  8.70455637  4.97300555  2.88457814  6.64508982  2.5583127\n",
            "  5.41772719  1.08065975  2.3436279   5.39372247  6.47693316  5.34273656\n",
            "  4.76870344  4.39779261  2.04295602  3.56031158  4.07872246  7.11424445\n",
            "  5.68723658  1.47391969  5.64816794  4.22983544  3.646156    6.22335258\n",
            "  7.06199904  6.86256024  3.32156495  4.38157525  5.66252686  6.95109025\n",
            "  4.04165152  4.62868205  2.78733005  2.60758675  6.62505164  7.71248006\n",
            "  4.85597976  7.0070658   5.72327205  3.70976049  5.72279121  8.07607313\n",
            "  4.92834792  8.12928731 -0.23949021  6.64380501  5.17409414  4.4019853\n",
            "  5.18352155  1.02486217  4.56065622  5.71422514  7.95578809  3.96345956\n",
            "  3.38301279  3.99648591  6.83080424  5.65750222  3.94047959  6.02653487\n",
            "  5.1941551   6.93728998  3.59589381  4.34467571  4.21578369  2.0729701\n",
            "  5.59224055  5.52211054  5.01022691  4.53082573]\n",
            "\n",
            "Bootstrapped 95% Confidence Interval for the Mean:\n",
            "Lower Bound: 4.455327150281501\n",
            "Upper Bound: 5.12570297288039\n"
          ]
        }
      ],
      "source": [
        "import numpy as np\n",
        "\n",
        "def bootstrap_confidence_interval(X, num_samples=1000, alpha=0.05):\n",
        "    # Generate bootstrap samples\n",
        "    bootstrap_samples = np.random.choice(X, size=(num_samples, len(X)), replace=True)\n",
        "\n",
        "    # Calculate the means of each bootstrap sample\n",
        "    bootstrap_means = np.mean(bootstrap_samples, axis=1)\n",
        "\n",
        "    # Compute the confidence interval\n",
        "    lower_bound = np.percentile(bootstrap_means, 100 * alpha / 2)\n",
        "    upper_bound = np.percentile(bootstrap_means, 100 * (1 - alpha / 2))\n",
        "\n",
        "    return lower_bound, upper_bound\n",
        "\n",
        "# Example usage\n",
        "np.random.seed(42)  # for reproducibility\n",
        "X = np.random.normal(loc=5, scale=2, size=100)\n",
        "\n",
        "lower, upper = bootstrap_confidence_interval(X, num_samples=1000, alpha=0.05)\n",
        "\n",
        "# Print the result\n",
        "print(\"Original 1D Array:\")\n",
        "print(X)\n",
        "print(\"\\nBootstrapped 95% Confidence Interval for the Mean:\")\n",
        "print(\"Lower Bound:\", lower)\n",
        "print(\"Upper Bound:\", upper)\n"
      ],
      "id": "87309c6f"
    }
  ],
  "metadata": {
    "colab": {
      "provenance": [],
      "include_colab_link": true
    },
    "kernelspec": {
      "display_name": "Python 3",
      "name": "python3"
    },
    "language_info": {
      "name": "python"
    }
  },
  "nbformat": 4,
  "nbformat_minor": 5
}